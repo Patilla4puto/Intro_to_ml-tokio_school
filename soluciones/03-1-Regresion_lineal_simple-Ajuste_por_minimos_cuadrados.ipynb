{
  "cells": [
    {
      "cell_type": "markdown",
      "metadata": {
        "id": "view-in-github",
        "colab_type": "text"
      },
      "source": [
        "<a href=\"https://colab.research.google.com/github/Patilla4puto/Intro_to_ml-tokio_school/blob/master/soluciones/03-1-Regresion_lineal_simple-Ajuste_por_minimos_cuadrados.ipynb\" target=\"_parent\"><img src=\"https://colab.research.google.com/assets/colab-badge.svg\" alt=\"Open In Colab\"/></a>"
      ]
    },
    {
      "cell_type": "markdown",
      "metadata": {
        "id": "o2dXPqOWdFLF"
      },
      "source": [
        "# Regresión lineal simple: Ajuste por mínimos cuadrados"
      ]
    },
    {
      "cell_type": "markdown",
      "metadata": {
        "id": "eCIABT0jdFLR"
      },
      "source": [
        "## ¿Qué vamos a hacer?\n",
        "- Importar datasets en el entorno de trabajo\n",
        "- Ajustar una regresión lineal simple por mínimos cuadrados de forma manual\n",
        "- Resolver dicha regresión usando funciones matemáticas de Numpy\n",
        "- Visualizar la regresión con Matplotlib"
      ]
    },
    {
      "cell_type": "markdown",
      "metadata": {
        "id": "sHKDK9PUdFLU"
      },
      "source": [
        "## Tarea 1: Importar datasets"
      ]
    },
    {
      "cell_type": "markdown",
      "metadata": {
        "id": "mUC7OYeVdFLX"
      },
      "source": [
        "Para este ejercicio debemos importar los siguientes datasets al entorno local, que usamos en un ejercicio anterior y estarán disponibles en dicha unidad:\n",
        "- modulo1-unidad1-ejercicio1-dataset-tarea2.csv\n",
        "- modulo1-unidad1-ejercicio1-dataset-tarea3.csv\n",
        "\n",
        "En función de tu entorno de trabajo, tendrás que seguir pasos diferentes para importarlos. Puedes importarlos tanto en Google Colab como en tu VM, usando la interfaz de JupyterLab o usando las funcionalidades de tu VM.\n",
        "Como los entornos son tan diferentes, no incluimos instrucciones paso a paso para ello, pero no debes tener dificultad ninguna para hacerlo :).\n",
        "\n",
        "Tómate este tiempo para familiarizarte con tu entorno de trabajo y descubrir las opciones para importar datasets locales.\n",
        "\n",
        "**Nota:** Asegúrate de que los importas o que los mueves posteriormente al directorio de soluciones, en la carpeta para esta unidad/sesión."
      ]
    },
    {
      "cell_type": "markdown",
      "metadata": {
        "id": "l_mjcpTcdFLa"
      },
      "source": [
        "## Tarea 2: Ajustar la regresión lineal simple por mínimos cuadrados"
      ]
    },
    {
      "cell_type": "markdown",
      "metadata": {
        "id": "DzEZedqQdFLb"
      },
      "source": [
        "Para esta tarea, vamos a ajustar la regresión paso a paso, calculando cada valor con Numpy para familiarizarnos con sus funciones.\n",
        "\n",
        "**Nota:** Vamos a utilizar únicamente la función de suma de Numpy. En la siguiente tarea usaremos las funciones para calcular directamente la media de un array, desviaciones típicas o covarianza."
      ]
    },
    {
      "cell_type": "code",
      "execution_count": 18,
      "metadata": {
        "id": "LzVG_ZLOdFLe"
      },
      "outputs": [],
      "source": [
        "import numpy as np"
      ]
    },
    {
      "cell_type": "markdown",
      "metadata": {
        "id": "tSA1RwNidFLi"
      },
      "source": [
        "### Importar el dataset en Numpy"
      ]
    },
    {
      "cell_type": "markdown",
      "metadata": {
        "id": "UZgdYWv-dFLk"
      },
      "source": [
        "Ejecuta la siguiente celda para importar el dataset com un array de Numpy, asegurándote de que el nombre del dataset es correcto y que el archivo se encuentra en el mismo directorio que el notebook."
      ]
    },
    {
      "cell_type": "code",
      "execution_count": 19,
      "metadata": {
        "id": "ZAP6kw3odFLm",
        "outputId": "66f3dd3a-3a78-48d9-a42a-963631459c18",
        "colab": {
          "base_uri": "https://localhost:8080/"
        }
      },
      "outputs": [
        {
          "output_type": "stream",
          "name": "stdout",
          "text": [
            "[[  0.    34.64]\n",
            " [  2.    25.59]\n",
            " [  4.    28.52]\n",
            " [  6.    40.42]\n",
            " [  8.    11.12]\n",
            " [ 10.    61.2 ]\n",
            " [ 12.    44.1 ]\n",
            " [ 14.    73.33]\n",
            " [ 16.    56.14]\n",
            " [ 18.    57.83]\n",
            " [ 20.    50.74]\n",
            " [ 22.    90.15]\n",
            " [ 24.   100.63]\n",
            " [ 26.    83.65]\n",
            " [ 28.   103.47]\n",
            " [ 30.    89.48]\n",
            " [ 32.   128.12]\n",
            " [ 34.   140.35]\n",
            " [ 36.   137.97]\n",
            " [ 38.   122.06]\n",
            " [ 40.   118.24]\n",
            " [ 42.   146.39]\n",
            " [ 44.   138.15]\n",
            " [ 46.   158.85]\n",
            " [ 48.   135.65]\n",
            " [ 50.   187.84]]\n"
          ]
        }
      ],
      "source": [
        "import csv\n",
        "\n",
        "with open('M1_U1_Ej1_dataset-tarea2.csv') as csvfile:\n",
        "    #dataset1 = np.asarray(list(csv.reader(csvfile))[1:])\n",
        "    read_csv = list(csv.reader(csvfile))\n",
        "    \n",
        "# Eliminar cabecera\n",
        "read_csv = read_csv[1:]\n",
        "\n",
        "# Cambiar caracter decimal de comas a puntos\n",
        "for line in read_csv:\n",
        "    for i in [0, 1]:\n",
        "        line[i] = line[i].replace(',', '.')\n",
        "    \n",
        "    \n",
        "# Cargar como array de Numpy\n",
        "dataset1 = np.asarray(read_csv).astype(np.float)\n",
        "\n",
        "print(dataset1)"
      ]
    },
    {
      "cell_type": "markdown",
      "metadata": {
        "id": "hqqcSIJtdFLn"
      },
      "source": [
        "Ya disponemos de los datos en un array 2D de Numpy.\n",
        "\n",
        "Ahora, completa el código de las siguientes celdas para ajustar la regresión lineal:"
      ]
    },
    {
      "cell_type": "code",
      "execution_count": 23,
      "metadata": {
        "id": "yRebyuigdFLo",
        "outputId": "e43bcab4-0284-49fb-f8a0-51051ef14ba6",
        "colab": {
          "base_uri": "https://localhost:8080/"
        }
      },
      "outputs": [
        {
          "output_type": "stream",
          "name": "stdout",
          "text": [
            "[ 0.  2.  4.  6.  8. 10. 12. 14. 16. 18. 20. 22. 24. 26. 28. 30. 32. 34.\n",
            " 36. 38. 40. 42. 44. 46. 48. 50.]\n",
            "[ 34.64  25.59  28.52  40.42  11.12  61.2   44.1   73.33  56.14  57.83\n",
            "  50.74  90.15 100.63  83.65 103.47  89.48 128.12 140.35 137.97 122.06\n",
            " 118.24 146.39 138.15 158.85 135.65 187.84]\n"
          ]
        }
      ],
      "source": [
        "## TODO: Crea 2 arrays 1D a partir del dataset importado que correspondan a las columnas X e Y del CSV\n",
        "\n",
        "X = dataset1[... , 0]\n",
        "Y = dataset1[... , 1]\n",
        "print(X)\n",
        "print(Y)"
      ]
    },
    {
      "cell_type": "code",
      "execution_count": 21,
      "metadata": {
        "id": "erSvS_kidFLq",
        "outputId": "72b8e9a7-ca01-4957-8ac7-498a8fdf1179",
        "colab": {
          "base_uri": "https://localhost:8080/",
          "height": 265
        }
      },
      "outputs": [
        {
          "output_type": "display_data",
          "data": {
            "image/png": "[encoded data removed]",
            "text/plain": [
              "<Figure size 432x288 with 1 Axes>"
            ]
          },
          "metadata": {
            "needs_background": "light"
          }
        }
      ],
      "source": [
        "## TODO: Antes de entrenar el modelo, representa los datos en una gráfica de puntos de Matplotlib\n",
        "\n",
        "import matplotlib.pyplot as plt\n",
        "\n",
        "# Puedes usar la función scatter()\n",
        "plt.scatter(X,Y)\n",
        "\n",
        "plt.show()"
      ]
    },
    {
      "cell_type": "markdown",
      "metadata": {
        "id": "OdMSWp6idFLr"
      },
      "source": [
        "Recuerda las ecuaciones de la regresión lineal:\n",
        "$Y = m \\times X + b$\n",
        "\n",
        "$m=\\frac{\\sum xy-\\frac{(\\sum x)(\\sum y)}{n}}{\\sum x^2-\\frac{(\\sum x)^2}{n}}$\n",
        "\n",
        "$b=\\overline{y}-m\\times\\overline{x}$"
      ]
    },
    {
      "cell_type": "code",
      "execution_count": 36,
      "metadata": {
        "id": "KXE4I-LVdFLs",
        "outputId": "e7e34d62-ebb8-4537-81f7-8a023050b0fe",
        "colab": {
          "base_uri": "https://localhost:8080/"
        }
      },
      "outputs": [
        {
          "output_type": "stream",
          "name": "stdout",
          "text": [
            "<class 'numpy.ndarray'>\n"
          ]
        }
      ],
      "source": [
        "## TODO: Calcula m usando la función np.sum(ndarray) o ndarray.sum(), donde ndarray es el array a sumar\n",
        "n = len(X)\n",
        "sum_Y = np.sum(Y)\n",
        "sum_X = np.sum(X)\n",
        "XY = np.multiply(X,Y)    # Recuerda, es una multiplicación de vectores elemento-a-elemento. Usa la función np.multiply()\n",
        "X2 = np.square(X)\n",
        "\n",
        "m = (np.sum(XY)-sum_X*sum_Y/n)/(np.sum(X2)-pow(sum_X,2)/n)\n"
      ]
    },
    {
      "cell_type": "code",
      "execution_count": 29,
      "metadata": {
        "id": "-cuVViL9dFLu"
      },
      "outputs": [],
      "source": [
        "## TODO: Calcula b\n",
        "\n",
        "# TODO: Sustituye \"sum_y\" y \"sum_x\" por el código o variables correspondientes\n",
        "y_avg = sum_Y / n\n",
        "x_avg = sum_X / n\n",
        "\n",
        "b = y_avg-x_avg*m"
      ]
    },
    {
      "cell_type": "markdown",
      "metadata": {
        "id": "Vs2ueRKjdFLw"
      },
      "source": [
        "Evalúa el modelo calculando su R2.\n",
        "\n",
        "Recuerda las ecuaciones para calcular el coeficiente de correlación:\n",
        "\n",
        "$R^2 = \\frac{\\sigma_{xy}}{\\sigma_x \\cdot \\sigma_y}$\n",
        "\n",
        "$\\sigma_{xy} = \\frac{\\overline{x \\cdot y}}{n}$\n",
        "\n",
        "$\\sigma_x = \\sqrt{\\frac{\\sum x^2}{n} - \\bar{x}^2}$"
      ]
    },
    {
      "cell_type": "code",
      "execution_count": 30,
      "metadata": {
        "id": "mMM0IXcodFLx"
      },
      "outputs": [],
      "source": [
        "## TODO: Calcula r2\n",
        "import math as m\n",
        "x_std = m.sqrt(np.sum(X2)/n-x_avg)\n",
        "y_std = m.sqrt(np.sum(np.square(Y))/n-y_avg)\n",
        "cov_xy = np.sum(XY)/n-x_avg*y_avg\n",
        "\n",
        "r2 = cov_xy/(x_std*y_std)"
      ]
    },
    {
      "cell_type": "markdown",
      "metadata": {
        "id": "T3DJ2cqSdFLy"
      },
      "source": [
        "Calcula las predicciones de Y como *y_pred* para los valores de X originales, con los coeficientes del modelo ajustado:\n",
        "\n",
        "$y\\_pred = m \\times X + b$"
      ]
    },
    {
      "cell_type": "code",
      "execution_count": 38,
      "metadata": {
        "id": "-siRC7w5dFLz"
      },
      "outputs": [],
      "source": [
        "## TODO: Calcula y_pred\n",
        "y_pred = m*X+b"
      ]
    },
    {
      "cell_type": "code",
      "execution_count": 42,
      "metadata": {
        "id": "4_taVLr_dFL0",
        "outputId": "30760eae-e594-4827-bd99-a21264fc0e47",
        "colab": {
          "base_uri": "https://localhost:8080/",
          "height": 265
        }
      },
      "outputs": [
        {
          "output_type": "display_data",
          "data": {
            "image/png": "[encoded data removed]",
            "text/plain": [
              "<Figure size 432x288 with 1 Axes>"
            ]
          },
          "metadata": {
            "needs_background": "light"
          }
        }
      ],
      "source": [
        "# TODO: Representa con Matplotlib una gráfica con 2 series en colores diferentes: Y vs X, y_pred vs X\n",
        "\n",
        "import matplotlib.pyplot as plt\n",
        "plt.scatter(X,Y,label = 'serie_Real')\n",
        "plt.scatter(X,y_pred, label = 'serie_Predecida')\n",
        "plt.legend()\n",
        "plt.draw()"
      ]
    },
    {
      "cell_type": "markdown",
      "metadata": {
        "id": "n0uOkn2rdFL0"
      },
      "source": [
        "## Tarea 3: Ajustar la regresión lineal usando las funciones matemáticas de Numpy"
      ]
    },
    {
      "cell_type": "markdown",
      "metadata": {
        "id": "IWAOSq2tdFL1"
      },
      "source": [
        "Ahora, repite los pasos anteriores para ajustar la regresión lineal aprovechando todas las capacidades de Numpy: sus funciones para calcular las suma, media, desviación típica y covarianza de arrays."
      ]
    },
    {
      "cell_type": "code",
      "execution_count": 44,
      "metadata": {
        "id": "eRa0uLthdFL2",
        "outputId": "cd3ffdd4-25dc-440e-8850-0fc985bbe82f",
        "colab": {
          "base_uri": "https://localhost:8080/",
          "height": 265
        }
      },
      "outputs": [
        {
          "output_type": "display_data",
          "data": {
            "image/png": "[encoded data removed]",
            "text/plain": [
              "<Figure size 432x288 with 1 Axes>"
            ]
          },
          "metadata": {
            "needs_background": "light"
          }
        }
      ],
      "source": [
        "## TODO: Resuelve la regresión lineal con las funciones avanzadas de Numpy\n",
        "## Usa nuevos nombres de variables como np_x_avg, np_x_std, np_r2, etc.\n",
        "\n",
        "np_n = len(X)\n",
        "np_XY=np.dot(X,Y)\n",
        "np_X2 =np.sum(np.square(X))\n",
        "np_m = (np_XY-np.sum(X)*np.sum(Y)/np_n)/(np_X2-pow(np.sum(X),2)/np_n)\n",
        "np_b = np.average(Y)-m*np.average(X)\n",
        "np_r2 = np.cov(X,Y)[0][1]/(np.var(X)*np.var(Y))\n",
        "np_Ypredic = X*np_m+np_b\n",
        "plt.scatter(X,Y,label ='Serie_Real')\n",
        "plt.scatter(X,np_Ypredic, label = 'Serie_Predecida')\n",
        "plt.legend()\n",
        "plt.draw()"
      ]
    },
    {
      "cell_type": "markdown",
      "metadata": {
        "id": "3qDUjq-QdFL3"
      },
      "source": [
        "## Tarea 4: Calcula los residuos y realiza predicciones"
      ]
    },
    {
      "cell_type": "markdown",
      "metadata": {
        "id": "FVint2WSdFL3"
      },
      "source": [
        "Calcula los residuos de tu modelo:\n",
        "\n",
        "$residuos = Y - Y\\_pred$"
      ]
    },
    {
      "cell_type": "code",
      "execution_count": 46,
      "metadata": {
        "id": "kXyOpN9fdFL4",
        "outputId": "3acc64c2-d9a3-4508-d263-5fd440faa8e5",
        "colab": {
          "base_uri": "https://localhost:8080/",
          "height": 281
        }
      },
      "outputs": [
        {
          "output_type": "display_data",
          "data": {
            "image/png": "[encoded data removed]",
            "text/plain": [
              "<Figure size 432x288 with 1 Axes>"
            ]
          },
          "metadata": {
            "needs_background": "light"
          }
        }
      ],
      "source": [
        "## TODO: Calcula los residuos y represéntalos con Matplotlib en una gráfica de puntos vs X\n",
        "\n",
        "res = Y-y_pred\n",
        "plt.scatter(X,res)\n",
        "plt.title(\"Residuos\")\n",
        "plt.draw()\n",
        "# Gráfica de Matplotlib"
      ]
    },
    {
      "cell_type": "markdown",
      "metadata": {
        "id": "YEFEcryydFL4"
      },
      "source": [
        "Realiza predicciones para 2 (o más) valores nuevos de X, 1 valor para interpolación y 1 valor para extrapolación."
      ]
    },
    {
      "cell_type": "code",
      "execution_count": 48,
      "metadata": {
        "id": "yoROpVZwdFL5",
        "outputId": "a25a1e81-3b36-4564-e1ad-273332a561e2",
        "colab": {
          "base_uri": "https://localhost:8080/"
        }
      },
      "outputs": [
        {
          "output_type": "stream",
          "name": "stdout",
          "text": [
            "67.28715042735045\n",
            "224.03569230769224\n"
          ]
        }
      ],
      "source": [
        "# TODO: Realiza predicciones con el modelo ajustado\n",
        "\n",
        "x_interpol = 17\n",
        "y_interpol = x_interpol*m+b\n",
        "\n",
        "x_extrapol = 70\n",
        "y_extrapol = x_extrapol*m+b\n",
        "\n",
        "print(y_interpol)\n",
        "print(y_extrapol)"
      ]
    },
    {
      "cell_type": "markdown",
      "metadata": {
        "id": "2R0F4dN_dFL6"
      },
      "source": [
        "## Tarea 5: Resolución con Scikit-learn\n",
        "\n",
        "*¿Te atreves a resolver una regresión lineal simple usando Scikit-learn? ¿Y a evalularla y realizar predicciones?*\n",
        "\n",
        "Revisa el código de este notebook y adáptalo para usar nuestros datos: https://scikit-learn.org/stable/auto_examples/linear_model/plot_ols.html"
      ]
    },
    {
      "cell_type": "code",
      "execution_count": null,
      "metadata": {
        "id": "xHvo8tCmdFL6"
      },
      "outputs": [],
      "source": [
        "# TODO: Resuelve la regresión lineal simple usando Scikit-learn a partir de dicho ejemplo"
      ]
    }
  ],
  "metadata": {
    "environment": {
      "name": "common-cpu.m54",
      "type": "gcloud",
      "uri": "gcr.io/deeplearning-platform-release/base-cpu:m54"
    },
    "kernelspec": {
      "display_name": "Python 3",
      "language": "python",
      "name": "python3"
    },
    "language_info": {
      "codemirror_mode": {
        "name": "ipython",
        "version": 3
      },
      "file_extension": ".py",
      "mimetype": "text/x-python",
      "name": "python",
      "nbconvert_exporter": "python",
      "pygments_lexer": "ipython3",
      "version": "3.7.8"
    },
    "colab": {
      "name": "03-1-Regresion_lineal_simple-Ajuste_por_minimos_cuadrados.ipynb",
      "provenance": [],
      "include_colab_link": true
    }
  },
  "nbformat": 4,
  "nbformat_minor": 0
}