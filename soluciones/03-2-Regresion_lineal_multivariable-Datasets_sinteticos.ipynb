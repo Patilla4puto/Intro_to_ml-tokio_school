{
  "cells": [
    {
      "cell_type": "markdown",
      "metadata": {
        "id": "view-in-github",
        "colab_type": "text"
      },
      "source": [
        "<a href=\"https://colab.research.google.com/github/Patilla4puto/Intro_to_ml-tokio_school/blob/master/soluciones/03-2-Regresion_lineal_multivariable-Datasets_sinteticos.ipynb\" target=\"_parent\"><img src=\"https://colab.research.google.com/assets/colab-badge.svg\" alt=\"Open In Colab\"/></a>"
      ]
    },
    {
      "cell_type": "markdown",
      "metadata": {
        "id": "y-BE4QeTUXOp"
      },
      "source": [
        "# Regresión lineal multivariable: Datasets sintéticos"
      ]
    },
    {
      "cell_type": "markdown",
      "metadata": {
        "id": "4NDokObAUXOt"
      },
      "source": [
        "## ¿Qué vamos a hacer?\n",
        "- Crear un dataset sintético (artificial) con Numpy\n",
        "- Crear un dataset sintético con un término de error aleatorio\n",
        "- Crear un dataset sintético con parámetros no considerados\n",
        "- Crear un dataset sinético con Scikit-learn"
      ]
    },
    {
      "cell_type": "code",
      "execution_count": 1,
      "metadata": {
        "id": "FI6v7yZLUXOu"
      },
      "outputs": [],
      "source": [
        "import numpy as np\n",
        "import random\n",
        "\n",
        "from matplotlib import pyplot as plt"
      ]
    },
    {
      "cell_type": "markdown",
      "metadata": {
        "id": "E0Nb2v6VUXOv"
      },
      "source": [
        "Un dataset sintético es un dataset de ejemplo creado artificialmente. Estos datasets son muy útiles para comprobar algoritmos y nuestra implementación, ya que podremos controlar las características del dataset en todo momento.\n",
        "\n",
        "Del mismo modo, ya que la influencia del dataset de entrenamiento y su limpieza, preprocesamiento, etc., son claves para el entrenamiento de modelos de ML, cuando vamos a realizar una implementación por primera vez no sería difícil encontrar múltiples datasets con características controladas y, en especial, estar seguro de si los posibles errores en el entrenamiento están provocados por nuestra implementación o por los datos de origen.\n",
        "\n",
        "Completa el código de las siguientes celdas según las instrucciones para crear los diferentes datasets sintéticos."
      ]
    },
    {
      "cell_type": "markdown",
      "metadata": {
        "id": "sEAExYCVUXOw"
      },
      "source": [
        "## Tarea 1: Crear un dataset sinético con Numpy\n",
        "\n",
        "Para esta tarea vamos a crear un dataset sintético usando las funciones de Numpy.\n",
        "Con este método podremos controlar completamente las características del dataset.\n",
        "\n",
        "Recuerda la ecuación de la regresión lineal múltiple y las dimensiones de los vectores:\n",
        "\n",
        "$Y = X \\times \\Theta^T$\n",
        "\n",
        "m = nº de ejemplos\n",
        "\n",
        "n = nº de características/coeficientes\n",
        "\n",
        "$Y_{m \\times 1}$\n",
        "\n",
        "$X_{m \\times n}$\n",
        "\n",
        "$\\Theta_{1 \\times n}$: Puedes transponer $\\Theta$ o implementarla como un vector columna"
      ]
    },
    {
      "cell_type": "code",
      "execution_count": null,
      "metadata": {
        "id": "8yKH9drIUXOx",
        "outputId": "d5512c00-36a3-4728-ac8a-fb360a88e8e9",
        "colab": {
          "base_uri": "https://localhost:8080/"
        }
      },
      "outputs": [
        {
          "output_type": "stream",
          "name": "stdout",
          "text": [
            "[[0.25688482 0.14641678 0.38949083 0.52144411 0.48614707 0.97624649\n",
            "  0.69734603 0.63190242 0.7487559  0.85433391 1.        ]]\n",
            "Theta a estimar:\n",
            "[[0.25688482 0.14641678 0.38949083 0.52144411 0.48614707 0.97624649\n",
            "  0.69734603 0.63190242 0.7487559  0.85433391 1.        ]]\n",
            "(1, 11)\n",
            "Primeras 10 filas y 5 columnas de X e Y:\n",
            "[[ 51.7045436   34.15285086 -45.86301833 -34.61309553  36.68775433]\n",
            " [-23.87159356 -99.41064938  29.53157411 -39.6138524   25.92777151]\n",
            " [ 77.53323676 -88.49144103  69.01992753 -20.41938715 -83.35180321]\n",
            " [ 53.76789602  -1.04700128  33.27227371 -33.38975056  -0.21630304]\n",
            " [ 81.18698016  32.19792735 -53.00562417 -50.6733434  -75.33388142]\n",
            " [ 91.91133316  -2.18638826 -48.45966719 -97.09062461  -2.24403001]\n",
            " [ 61.71844453 -69.09083713 -51.88376413   5.80588558  31.79697029]\n",
            " [ 42.69056018  -8.96058133 -43.01798887  77.70064769  34.08326054]\n",
            " [-69.72102371  74.00861406 -31.74677724  95.36214019  71.2281613 ]\n",
            " [-64.7118797   88.24108734 -25.653579    -8.057722    -8.68072083]]\n",
            "[[ 157.87254386]\n",
            " [  -7.46785976]\n",
            " [ -70.80002807]\n",
            " [ -12.43265761]\n",
            " [-121.25604894]\n",
            " [  56.55064429]\n",
            " [ 122.76103374]\n",
            " [ 140.812035  ]\n",
            " [  86.96508792]\n",
            " [-279.87809087]]\n",
            "Dimensiones de X e Y:\n",
            "shape shape\n",
            "(20, 11) (20, 1)\n"
          ]
        }
      ],
      "source": [
        "# TODO: Crea los siguientes arrays que definen el dataset original\n",
        "\n",
        "# Escoge unos valores de m y n (tipo: int)\n",
        "m = 20\n",
        "n = 10\n",
        "\n",
        "# X es un array 2D m x n de nºs aleatorios entre -100 y 100\n",
        "# Usa las funciones de Numpy para generar un array m x n de nºs aleatorios entre [0, 1)\n",
        "# Nº aleatorio en el rango [a, b): ndarray * (b - a) + a, donde a = -100 y b = 100\n",
        "X = np.random.rand(m,n)*200\n",
        "for cell in np.nditer(X,op_flags=['readwrite']):\n",
        "  cell -= 100\n",
        "# Inserta el término de bias b o X0 para paralelizar la ecuación\n",
        "# Inserta una columna de 1. (float) a la izquierda de X con la función de inserción de Numpy np.insert()\n",
        "X=np.insert(X,n,1, axis = 1)\n",
        "\n",
        "# Theta es un array 1D 1 x n que también podemos implementar como n x 1 (columna o fila)\n",
        "# Genéralo con n + 1 elementos aleatorios [0, 1) para añadir el término de bias\n",
        "Theta = np.insert(np.random.rand(1,n),n,1,axis =1)\n",
        "\n",
        "\n",
        "# Computa Y multiplicando los vectores X y Theta con np.matmul()\n",
        "Y = np.matmul(X,Theta.T)\n",
        "\n",
        "\n",
        "# Comprueba los valores y dimensiones (forma o \"shape\") de los arrays con la propiedad ndarray.shape\n",
        "print('Theta a estimar:')\n",
        "print(Theta)\n",
        "print(Theta.shape)\n",
        "\n",
        "print('Primeras 10 filas y 5 columnas de X e Y:')\n",
        "print(X[:10,:5])\n",
        "print(Y[:10,:5])\n",
        "\n",
        "print('Dimensiones de X e Y:')\n",
        "print('shape', 'shape')\n",
        "print(X.shape,Y.shape)"
      ]
    },
    {
      "cell_type": "code",
      "execution_count": null,
      "metadata": {
        "id": "xlvJlOzLUXOy",
        "outputId": "9492f298-ffbe-4d84-f2fb-2b22177b6a9b",
        "colab": {
          "base_uri": "https://localhost:8080/",
          "height": 281
        }
      },
      "outputs": [
        {
          "output_type": "display_data",
          "data": {
            "image/png": "[encoded data removed]",
            "text/plain": [
              "<Figure size 432x288 with 1 Axes>"
            ]
          },
          "metadata": {
            "needs_background": "light"
          }
        }
      ],
      "source": [
        "# TODO: Representa X vs Y en una gráfica de puntos de Matplotlib\n",
        "# A partir de ahora, intenta usar etiquetas para los ejes y un título de la gráfica\n",
        "\n",
        "\n",
        "\n",
        "# Tu código aquí\n",
        "for i,e in enumerate(X.T):\n",
        "  \n",
        "  plt.scatter(e,Y, label =\"Serie {}\".format(i) )\n",
        "plt.legend()\n",
        "plt.title(\"Random multivariable regresion\")\n",
        "plt.show()"
      ]
    },
    {
      "cell_type": "markdown",
      "metadata": {
        "id": "8O79vSGRUXOy"
      },
      "source": [
        "Una vez implementados correctamente, *¿por qué no varías los términos m y n y compruebas que puedes crear arrays de diversas dimensiones?*"
      ]
    },
    {
      "cell_type": "markdown",
      "metadata": {
        "id": "CswB1KzTUXOz"
      },
      "source": [
        "## Tarea 2: Crear un dataset sintético con un término de error aleatorio\n",
        "\n",
        "Ahora vamos a repetir los pasos del punto anterior, pero añadiendo un término de error aleatorio a Y, para hacer un dataset con datos no tan precisos, más parecidos a una situación real, pudiendo controlar dicho error."
      ]
    },
    {
      "cell_type": "code",
      "execution_count": null,
      "metadata": {
        "id": "a7WjvEQTUXO0",
        "outputId": "8d9d180c-2f84-419f-e431-b1090deb7163",
        "colab": {
          "base_uri": "https://localhost:8080/"
        }
      },
      "outputs": [
        {
          "output_type": "stream",
          "name": "stdout",
          "text": [
            "Theta a estimar:\n",
            "[[0.2511229 ]\n",
            " [0.19047627]\n",
            " [0.98969906]\n",
            " [0.34458638]\n",
            " [0.0262355 ]\n",
            " [0.86073436]\n",
            " [0.51161266]\n",
            " [0.55086242]\n",
            " [0.9002264 ]\n",
            " [0.9494278 ]\n",
            " [0.58720864]\n",
            " [0.47652639]\n",
            " [0.03006213]\n",
            " [0.17720168]\n",
            " [0.8785251 ]\n",
            " [0.44802283]\n",
            " [0.67126079]\n",
            " [0.223661  ]\n",
            " [0.66768649]\n",
            " [0.22097984]\n",
            " [1.        ]]\n",
            "(21, 1)\n",
            "Primeras 10 filas y 5 columnas de X e Y:\n",
            "[[ -8.76624857  10.39599143  90.81362182 -66.30949187  66.22843157]\n",
            " [-86.56912081  56.91113998 -73.97530406  81.63802687  67.61141884]\n",
            " [-93.93358045  97.85293091  68.97115225 -65.49668768  23.86290581]\n",
            " [-24.88080968   3.43156655 -84.89082548 -71.19264681 -88.80282063]\n",
            " [ 69.13275228  91.78660933   5.73729385  73.85885     91.06452456]\n",
            " [ 24.56568938 -11.95527914  -0.13705994  39.0767328   56.8889107 ]\n",
            " [ 75.6069192   81.42771712   6.78291571  78.13078619 -97.90426802]\n",
            " [ -4.64302245  62.21572842 -66.03474845 -29.47396205  31.69518201]\n",
            " [ 98.94303662  16.35753303  -7.8134853   -2.20391283  37.9887061 ]\n",
            " [ 24.21431904  98.10863923 -27.25410855 -13.34219327  99.14622503]]\n",
            "[[  23.8030747 ]\n",
            " [-139.14213487]\n",
            " [ -10.65424864]\n",
            " [  47.00065254]\n",
            " [ 161.52939686]\n",
            " [ -69.06796268]\n",
            " [  74.20056324]\n",
            " [-262.24554021]\n",
            " [-110.92690591]\n",
            " [ 154.52382404]]\n",
            "Dimensiones de X e Y:\n",
            "shape shape\n",
            "(10, 21) (10, 1)\n"
          ]
        }
      ],
      "source": [
        "# TODO: Crea los siguientes arrays que definen el dataset original con un término de error aleatorio\n",
        "\n",
        "# Escoge unos valores de m y n (tipo: int)\n",
        "m = 10\n",
        "n = 20\n",
        "\n",
        "# X es un array 2D m x n de nºs aleatorios entre -100 y 100\n",
        "# Usa las funciones de Numpy para generar un array m x n de nºs aleatorios entre [0, 1)\n",
        "# Nº aleatorio en el rango [a, b): ndarray * (b - a) + a, donde a = -100 y b = 100\n",
        "X = np.random.rand(m,n)*200\n",
        "for cell in np.nditer(X,op_flags=['readwrite']):\n",
        "  cell -= 100\n",
        "\n",
        "# Inserta el término de bias b o X0 para paralelizar la ecuación\n",
        "# Inserta una columna de 1. (float) a la izquierda de X con la función de inserción de Numpy np.insert()\n",
        "X=np.insert(X,n,1, axis = 1)\n",
        "\n",
        "# Theta es un array 1D 1 x n que también podemos implementar como n x 1 (columna o fila)\n",
        "# Genéralo con n + 1 elementos aleatorios [0, 1) para añadir el término de bias\n",
        "Theta = np.insert(np.random.rand(n,1),n,1).reshape(n+1,1)\n",
        "\n",
        "# Computa Y multiplicando los vectores X y Theta con np.matmul()\n",
        "Y = np.matmul(X,Theta)\n",
        "\n",
        "# A partir de aquí, añadimos el término de error e en porcentaje (0.1 = 10%, 0.25 = 25%, etc.)\n",
        "e = 0.9\n",
        "\n",
        "# En la siguiente línea, sustituye \"termino_error\" por un término que represente un número aleatorio en el rango +/- e (i.e. +/- 10%)\n",
        "# De esta forma, el término de error será un porcentaje de +/- el término de error sobre el valor de Y original\n",
        "Y_final = Y + Y *0.5*(random.random()+1)*e\n",
        "\n",
        "# Comprueba los valores y dimensiones (forma o \"shape\") de los arrays con la propiedad ndarray.shape\n",
        "print('Theta a estimar:')\n",
        "print(Theta)\n",
        "print(Theta.shape)\n",
        "\n",
        "print('Primeras 10 filas y 5 columnas de X e Y:')\n",
        "print(X[:10,:5])\n",
        "print(Y[:10,:5])\n",
        "\n",
        "print('Dimensiones de X e Y:')\n",
        "print('shape', 'shape')\n",
        "print(X.shape,Y.shape)"
      ]
    },
    {
      "cell_type": "markdown",
      "metadata": {
        "id": "tZxKl1R6UXO1"
      },
      "source": [
        "Varía el término del error para comprobar su efecto sobre Y_final."
      ]
    },
    {
      "cell_type": "markdown",
      "metadata": {
        "id": "KPm3Dem5UXO1"
      },
      "source": [
        "*¿Te atreves a representar gráficamente Y vs X e Y_final vs X para apreciar el término del error?*"
      ]
    },
    {
      "cell_type": "code",
      "execution_count": null,
      "metadata": {
        "id": "AskgkHx6UXO2",
        "outputId": "0a01ce6e-fe2c-4b01-9ed0-b01fe195a5b9",
        "colab": {
          "base_uri": "https://localhost:8080/",
          "height": 405
        }
      },
      "outputs": [
        {
          "output_type": "stream",
          "name": "stdout",
          "text": [
            "Figure(648x288)\n"
          ]
        },
        {
          "output_type": "display_data",
          "data": {
            "text/plain": [
              "<Figure size 432x288 with 0 Axes>"
            ]
          },
          "metadata": {}
        },
        {
          "output_type": "display_data",
          "data": {
            "image/png": "[encoded data removed]",
            "text/plain": [
              "<Figure size 648x288 with 2 Axes>"
            ]
          },
          "metadata": {
            "needs_background": "light"
          }
        }
      ],
      "source": [
        "# TODO: Representa X vs Y y X vs Y_final en una gráfica de puntos de Matplotlib\n",
        "\n",
        "plt.figure()\n",
        "\n",
        "# Tu código aquí\n",
        "fig,ax=plt.subplots(1,2)\n",
        "fig.set_figwidth(9)\n",
        "for i,e in enumerate(X.T):\n",
        "  \n",
        "  ax[0].scatter(e,Y_final, label =\"Serie {}\".format(i) )\n",
        "  ax[1].scatter(e,Y, label =\"Serie {}\".format(i) )\n",
        "ax[0].legend()\n",
        "ax[0].set_title(\"Random multivariable regresion with error\")\n",
        "ax[1].set_title(\"Random multivariable regresion without error\")\n",
        "plt.subplots_adjust(left=0,\n",
        "                    bottom=0, \n",
        "                    right=1, \n",
        "                    top=0.9, \n",
        "                    wspace=0.4, \n",
        "                    hspace=0)\n",
        "print(fig)\n",
        "plt.show()"
      ]
    },
    {
      "cell_type": "markdown",
      "metadata": {
        "id": "_pAuhs7vUXO2"
      },
      "source": [
        "## Tarea 3: Crear un dataset sintético con parámetros no considerados\n",
        "\n",
        "En ocasiones, con datasets de la vida real, sucede que nuestra variable Y viene influenciada por múltiples características, de las cuales puede que no estemos considerando todas. Imagina, p. ej., una tasación de viviendas, pero que haya alguna característica de las mismas que los clientes tengan en consideración pero que nosotros no la tengamos disponible en nuestro set de datos de entrenamiento. P. ej., la cercanía a la parada de metro, bus o cercanías más próxima, el tiempo hasta la salida a la autovía más cercana, lo moderno del barrio o la diferencia en impuestos municipales frente a otros municipios cercanos.\n",
        "\n",
        "En dichos casos, queremos comparar nuestra implementación o nuestros modelos con modelos que tengan en cuenta más o menos características de las que realmente afectan a la variable Y.\n",
        "\n",
        "Por tanto, un dataset sintético muy útil en estas ocasiones sería aquel que viene dado por múltiples características (múltiples columnas de X), pero que sus columnas se ven reducidas a un número menor finalmente a la hora de entrenar nuestro modelo."
      ]
    },
    {
      "cell_type": "code",
      "execution_count": null,
      "metadata": {
        "id": "QYJcMvJnUXO3",
        "outputId": "6988dcf5-365a-44b7-d514-5fddec9fd517",
        "colab": {
          "base_uri": "https://localhost:8080/"
        }
      },
      "outputs": [
        {
          "output_type": "stream",
          "name": "stdout",
          "text": [
            "Theta a estimar:\n",
            "[[0.11797282]\n",
            " [0.34229663]\n",
            " [0.53061726]\n",
            " [0.36176947]\n",
            " [0.09958885]\n",
            " [0.85726464]\n",
            " [0.27875249]\n",
            " [0.1419272 ]\n",
            " [0.91170547]\n",
            " [0.2407056 ]\n",
            " [1.        ]]\n",
            "(11, 1)\n",
            "Primeras 10 filas y 5 columnas de X e Y:\n",
            "[[-31.49676534 -72.42383239  98.87391825  47.47012963 -28.22064691]\n",
            " [ 43.69914626 -24.75848633   6.25424649 -29.78821755 -33.13915004]\n",
            " [-75.0125557  -46.20594758  70.69845252   5.33365868  31.08240152]\n",
            " [ 78.65470274  27.88631929  14.98505464  41.93480817 -54.24057419]\n",
            " [-45.55246912 -34.05903245 -61.63772532  18.67563993  16.37313294]\n",
            " [ 21.33063947  82.08955831  27.89661611 -36.06468425  64.92233873]\n",
            " [-87.69983498 -91.56419912  58.15771798  50.45063612 -56.3786453 ]\n",
            " [-36.07491447  67.87096043  31.83484544  19.96934695 -40.30751398]\n",
            " [ 30.39334787 -76.43294271 -89.34475012  93.10618885  59.23010372]\n",
            " [-85.75889269  40.29899792 -92.38229984  16.48162272 -35.41552948]]\n",
            "[[   5.33911372]\n",
            " [ -74.04973592]\n",
            " [ 160.84175175]\n",
            " [ 174.57702155]\n",
            " [  69.85308084]\n",
            " [  61.59583129]\n",
            " [ -89.03708786]\n",
            " [ 117.46138247]\n",
            " [-120.19883159]\n",
            " [ -25.52101168]]\n",
            "Dimensiones de X e Y:\n",
            "shape shape\n",
            "(30, 11) (30, 1)\n"
          ]
        }
      ],
      "source": [
        "from operator import matmul\n",
        "# TODO: Crea los siguientes arrays que definen el dataset original con un término de error aleatorio\n",
        "\n",
        "# Escoge unos valores de m y n (tipo: int)\n",
        "m = 30\n",
        "n = 20\n",
        "\n",
        "# X es un array 2D m x n de nºs aleatorios entre -100 y 100\n",
        "# Usa las funciones de Numpy para generar un array m x n de nºs aleatorios entre [0, 1)\n",
        "# Nº aleatorio en el rango [a, b): ndarray * (b - a) + a, donde a = -100 y b = 100\n",
        "X = np.random.rand(m,n)*200\n",
        "for cell in np.nditer(X,op_flags=['readwrite']):\n",
        "  cell -= 100\n",
        "\n",
        "# Inserta el término de bias b o X0 para paralelizar la ecuación\n",
        "# Inserta una columna de 1. (float) a la izquierda de X con la función de inserción de Numpy np.insert()\n",
        "X=np.insert(X,n,1, axis = 1)\n",
        "\n",
        "# Theta es un array 1D 1 x n que también podemos implementar como n x 1 (columna o fila)\n",
        "# Genéralo con n + 1 elementos aleatorios [0, 1) para añadir el término de bias\n",
        "Theta = np.insert(np.random.rand(n,1),n,1).reshape(n+1,1)\n",
        "\n",
        "# Computa Y multiplicando los vectores X y Theta con np.matmul()\n",
        "Y = np.matmul(X,Theta)\n",
        "\n",
        "# A partir de aquí, añadimos el término de error e en porcentaje (0.1 = 10%, 0.25 = 25%, etc.)\n",
        "e = 0.4\n",
        "\n",
        "# En la siguiente línea, sustituye \"termino_error\" por un término que represente un número aleatorio en el rango +/- e (i.e. +/- 10%)\n",
        "# De esta forma, el término de error será un porcentaje de +/- el término de error sobre el valor de Y original\n",
        "Y = Y + Y *0.5*(random.random()+1)*e\n",
        "\n",
        "# Finalmente, restringe el nº de columnas de X y valores de Theta a considerar a sólo los n_final primeros\n",
        "# Puedes usar los slices de Numpy/Python para ello\n",
        "n_final = 10\n",
        "\n",
        "# Aqui no entendia muy bien si simplemente tenia que hacer slicing a todas las matrices(lo cual creo que no sería muy correcto), o si debiamos rehacer los calculos considerando que ciertos parametros no se tendrían en cuenta.\n",
        "#fianlmente he decidido plantear la segunda idea\n",
        "X_final = X[:, np.insert(np.arange(n_final),n_final,n)]\n",
        "Theta_final = Theta[np.insert(np.arange(n_final),n_final,n)]\n",
        "\n",
        "Y_final = np.matmul(X_final,Theta_final)\n",
        "# Comprueba los valores y dimensiones (forma o \"shape\") de los arrays con la propiedad ndarray.shape\n",
        "print('Theta a estimar:')\n",
        "print(Theta_final)\n",
        "print(Theta_final.shape)\n",
        "\n",
        "print('Primeras 10 filas y 5 columnas de X e Y:')\n",
        "print(X_final[:10,:5])\n",
        "print(Y_final[:10,:5])\n",
        "\n",
        "print('Dimensiones de X e Y:')\n",
        "print('shape', 'shape')\n",
        "print(X_final.shape,Y_final.shape)"
      ]
    },
    {
      "cell_type": "markdown",
      "metadata": {
        "id": "P3Qqcp7pUXO4"
      },
      "source": [
        "## Tarea 4: Crear un dataset sintético con Scikit-learn\n",
        "\n",
        "Scikit-learn viene con varios módulos para disponer de datasets para desarrollo o evaluación. Habitualmente usamos datasets generados sintéticamente para desarrollo, y utilizamos alguno de los datasets más comunes para evaluar y comparar diferentes algoritmos e implementaciones, como veremos durante el curso.\n",
        "\n",
        "Las herramientas de carga y generación de datasets puedes encontrarlas en la documentación: https://scikit-learn.org/stable/datasets/index.html\n",
        "\n",
        "Recuerda que, habitualmente, cada página de la documentación incluye varios notebooks con ejemplos de su uso.\n",
        "\n",
        "Revisa la documentación en detalle, puesto que estas funciones las podrás utilizar durante el curso para cualquier dataset que necesites descargarte o generar sintéticamente."
      ]
    },
    {
      "cell_type": "code",
      "execution_count": 2,
      "metadata": {
        "id": "3-DzE9dNUXO4",
        "outputId": "95fd334a-32c6-46e1-9d65-ae0b9abeb1d8",
        "colab": {
          "base_uri": "https://localhost:8080/"
        }
      },
      "outputs": [
        {
          "output_type": "stream",
          "name": "stdout",
          "text": [
            "Theta a estimar:\n",
            "[ 2.41920932e-01  1.77904931e-01  2.80984831e-01  1.17894344e+00\n",
            "  2.38738711e+00  9.76399611e-01 -1.39588300e+00 -1.06047559e+00\n",
            " -1.91255599e+00 -2.02504842e+00  5.21101151e+01 -1.41130607e-01\n",
            " -9.63406185e-01  2.22317734e+00 -3.14767113e-01 -1.73208976e+00\n",
            "  7.10073308e-01 -6.55464600e-01  3.33063521e-01  1.86947861e+00\n",
            "  2.13106877e-01  5.81403970e-01 -2.36723706e-01 -1.97937308e+00\n",
            "  1.81021833e+00  1.25177023e+00 -7.34449340e-01 -4.03166893e-01\n",
            " -4.32141488e-01  1.06806934e+00 -4.82906095e-01 -9.46644984e-01\n",
            " -2.78603778e-01  6.51253518e-01 -1.23084917e+00  1.12800021e+00\n",
            " -2.73826441e-01  6.17837726e-01 -1.96277367e-01 -4.06339202e-02\n",
            " -2.70021700e+00  1.33653969e+00  2.63235476e+00  2.61672200e-01\n",
            "  6.26353871e+01  6.21649125e+01 -2.02663285e-01 -8.71540477e-01\n",
            "  8.31382439e+01  6.97556733e-02 -3.53668121e-01  1.94070756e-01\n",
            "  6.98945319e-01  2.90276381e-01 -8.59198569e-01 -1.35608919e+00\n",
            "  3.11190474e-01  1.10313841e+00  5.66605441e-01 -9.11973429e-01\n",
            " -1.31107581e-02 -1.35521685e+00 -4.37604663e-01 -8.99449881e-01\n",
            "  2.15475989e+01  3.30404097e-02  2.38004108e+00  2.76818634e+00\n",
            " -9.65409102e-01 -2.11912622e-01  2.25797974e+00  4.61606353e+01\n",
            "  3.07736838e-01  8.02811318e+01  2.47505385e+00  6.08705037e-01\n",
            "  4.79505891e-01 -1.71542960e+00 -3.52010507e-01 -1.33343325e-01\n",
            "  3.81271292e-01 -4.21139367e-01 -5.82182432e-01 -2.71423014e-01\n",
            "  5.74581595e-01  7.34666647e-01  8.80682088e+01 -2.97801678e+00\n",
            "  2.03828735e+00 -1.30577898e+00 -2.12600243e+00  8.02303531e-01\n",
            "  3.68367654e-01  3.04481385e+00 -1.00761768e+00  2.16889232e+01\n",
            "  4.03223351e-01 -7.07775051e-01  1.71541536e-01 -1.89003975e+00]\n",
            "(100,)\n",
            "Primeras 10 filas y 5 columnas de X e Y:\n",
            "[[ 0.70851174  0.49480084  1.50891475 -0.71210962 -0.13946417]\n",
            " [-0.33725959 -0.35911174 -0.92253941 -0.29358584 -1.10329488]\n",
            " [ 1.31789448 -0.52655375 -0.38882613 -0.84482045 -0.60798666]\n",
            " [-0.51903873 -0.46810715 -1.03080188 -0.1832682  -0.24949965]\n",
            " [-0.07389428  1.61016852  1.17333375 -0.6196937   0.05907246]\n",
            " [ 0.6450183   0.75070613  0.81300069 -0.95199301  0.3270636 ]\n",
            " [-1.27496092  0.12809969 -0.58163937  0.56156446  0.37171615]\n",
            " [-0.38458765  0.59402437  0.3450417  -0.68353269  0.49684339]\n",
            " [-0.97798292 -1.13611394  0.74852479 -2.01581369 -0.83844851]\n",
            " [ 2.71323     1.07162063  0.26538263  1.41794234 -0.37135844]]\n",
            "[ -27.7003651    26.8251412  -109.16532664  180.51353554  149.29671558\n",
            "  298.50980652 -116.59561916 -218.7388993     9.47947618  126.29408354]\n",
            "Dimensiones de X e Y:\n",
            "shape shape\n",
            "(100, 100) (100,)\n"
          ]
        }
      ],
      "source": [
        "# TODO: Usa las funciones de Scikit-learn para generar un dataset sintético pensado para resolver un problema de regresión lineal multivariable\n",
        "# Escoge la función correcta para ello\n",
        "\n",
        "# Importa el módulo correspondiente\n",
        "from sklearn import datasets\n",
        "\n",
        "# Genera el dataset con la función correspondiente\n",
        "X, Y = datasets.make_regression(bias = 1)\n",
        "\n",
        "# Obtiene la Theta o coeficientes utilizados para generar el dataset\n",
        "#Siendo Y = X*Theta -> Theta = X^-1*Y\n",
        "\n",
        "Theta = np.matmul(np.linalg.inv(X),Y)\n",
        "# Comprueba los valores y dimensiones (forma o \"shape\") de los arrays con la propiedad ndarray.shape\n",
        "print('Theta a estimar:')\n",
        "print(Theta)\n",
        "print(Theta.shape)\n",
        "\n",
        "print('Primeras 10 filas y 5 columnas de X e Y:')\n",
        "print(X[:10,:5])\n",
        "print(Y[:10])\n",
        "\n",
        "print('Dimensiones de X e Y:')\n",
        "print('shape', 'shape')\n",
        "print(X.shape, Y.shape)\n"
      ]
    },
    {
      "cell_type": "markdown",
      "metadata": {
        "id": "NhNx5-YsUXO4"
      },
      "source": [
        "*¿Qué m y n tendrá dicho dataset?*"
      ]
    },
    {
      "cell_type": "code",
      "execution_count": 5,
      "metadata": {
        "id": "WCfKLuAzUXO5",
        "outputId": "0c6c17e5-75f0-42f8-8c8c-ec0db9c05544",
        "colab": {
          "base_uri": "https://localhost:8080/"
        }
      },
      "outputs": [
        {
          "output_type": "stream",
          "name": "stdout",
          "text": [
            "Número de ejemplos: 100\n",
            "Número de características: 100\n"
          ]
        }
      ],
      "source": [
        "# TODO: Averigua la m y n de dicho dataset\n",
        "m = X.shape[0]\n",
        "n = X.shape[1]\n",
        "print(\"Número de ejemplos:\",m)\n",
        "print(\"Número de características:\",n)"
      ]
    },
    {
      "cell_type": "code",
      "execution_count": 7,
      "metadata": {
        "id": "2ACF34KFUXO5",
        "outputId": "1ae8eda8-f50b-4f47-f4a4-2d740554c154",
        "colab": {
          "base_uri": "https://localhost:8080/"
        }
      },
      "outputs": [
        {
          "output_type": "stream",
          "name": "stdout",
          "text": [
            "Theta a estimar:\n",
            "[ 2.41920932e-01  1.77904931e-01  2.80984831e-01  1.17894344e+00\n",
            "  2.38738711e+00  9.76399611e-01 -1.39588300e+00 -1.06047559e+00\n",
            " -1.91255599e+00 -2.02504842e+00  5.21101151e+01 -1.41130607e-01\n",
            " -9.63406185e-01  2.22317734e+00 -3.14767113e-01 -1.73208976e+00\n",
            "  7.10073308e-01 -6.55464600e-01  3.33063521e-01  1.86947861e+00\n",
            "  2.13106877e-01  5.81403970e-01 -2.36723706e-01 -1.97937308e+00\n",
            "  1.81021833e+00  1.25177023e+00 -7.34449340e-01 -4.03166893e-01\n",
            " -4.32141488e-01  1.06806934e+00 -4.82906095e-01 -9.46644984e-01\n",
            " -2.78603778e-01  6.51253518e-01 -1.23084917e+00  1.12800021e+00\n",
            " -2.73826441e-01  6.17837726e-01 -1.96277367e-01 -4.06339202e-02\n",
            " -2.70021700e+00  1.33653969e+00  2.63235476e+00  2.61672200e-01\n",
            "  6.26353871e+01  6.21649125e+01 -2.02663285e-01 -8.71540477e-01\n",
            "  8.31382439e+01  6.97556733e-02 -3.53668121e-01  1.94070756e-01\n",
            "  6.98945319e-01  2.90276381e-01 -8.59198569e-01 -1.35608919e+00\n",
            "  3.11190474e-01  1.10313841e+00  5.66605441e-01 -9.11973429e-01\n",
            " -1.31107581e-02 -1.35521685e+00 -4.37604663e-01 -8.99449881e-01\n",
            "  2.15475989e+01  3.30404097e-02  2.38004108e+00  2.76818634e+00\n",
            " -9.65409102e-01 -2.11912622e-01  2.25797974e+00  4.61606353e+01\n",
            "  3.07736838e-01  8.02811318e+01  2.47505385e+00  6.08705037e-01\n",
            "  4.79505891e-01 -1.71542960e+00 -3.52010507e-01 -1.33343325e-01\n",
            "  3.81271292e-01 -4.21139367e-01 -5.82182432e-01 -2.71423014e-01\n",
            "  5.74581595e-01  7.34666647e-01  8.80682088e+01 -2.97801678e+00\n",
            "  2.03828735e+00 -1.30577898e+00 -2.12600243e+00  8.02303531e-01\n",
            "  3.68367654e-01  3.04481385e+00 -1.00761768e+00  2.16889232e+01\n",
            "  4.03223351e-01 -7.07775051e-01  1.71541536e-01 -1.89003975e+00]\n",
            "(100,)\n",
            "Primeras 10 filas y 5 columnas de X e Y:\n",
            "X:\n",
            "[[ 0.03807591  0.05068012  0.06169621  0.02187235 -0.0442235 ]\n",
            " [-0.00188202 -0.04464164 -0.05147406 -0.02632783 -0.00844872]\n",
            " [ 0.08529891  0.05068012  0.04445121 -0.00567061 -0.04559945]\n",
            " [-0.08906294 -0.04464164 -0.01159501 -0.03665645  0.01219057]\n",
            " [ 0.00538306 -0.04464164 -0.03638469  0.02187235  0.00393485]\n",
            " [-0.09269548 -0.04464164 -0.04069594 -0.01944209 -0.06899065]\n",
            " [-0.04547248  0.05068012 -0.04716281 -0.01599922 -0.04009564]\n",
            " [ 0.06350368  0.05068012 -0.00189471  0.06662967  0.09061988]\n",
            " [ 0.04170844  0.05068012  0.06169621 -0.04009932 -0.01395254]\n",
            " [-0.07090025 -0.04464164  0.03906215 -0.03321358 -0.01257658]]\n",
            "Y:\n",
            "[151.  75. 141. 206. 135.  97. 138.  63. 110. 310.]\n",
            "Dimensiones de X e Y:\n",
            "shape shape\n",
            "(442, 10) (442,)\n"
          ]
        }
      ],
      "source": [
        "\n",
        "# TODO: Repite los pasos de la celda anterior para descargar un dataset pequeño de muestra o \"toy\" pensado para resolver un problema de regresión lineal multivariable\n",
        "# Escoge uno de los datasets correctos para ello\n",
        "\n",
        "# Importa el módulo correspondiente\n",
        "from sklearn import datasets\n",
        "data = datasets.load_diabetes()\n",
        "# Genera el dataset con la función correspondiente\n",
        "X, Y = data['data'],data['target']\n",
        "\n",
        "# Obtiene la Theta o coeficientes utilizados para generar el dataset\n",
        "#Como antes podriamo intentar hacer: Y = X*Theta -> Theta = X^-1*Y pero en este caso como X no es cuadrada esto no va a funcionar\n",
        "#Theta = np.linalg.inv(X)*Y\n",
        "\n",
        "# Comprueba los valores y dimensiones (forma o \"shape\") de los arrays con la propiedad ndarray.shape\n",
        "print('Theta a estimar:')\n",
        "print(Theta)\n",
        "print(Theta.shape)\n",
        "\n",
        "print('Primeras 10 filas y 5 columnas de X e Y:')\n",
        "print('''X:\n",
        "{}'''.format(X[:10,:5]))\n",
        "print('''Y:\n",
        "{}'''.format(Y[:10]))\n",
        "\n",
        "print('Dimensiones de X e Y:')\n",
        "print('shape', 'shape')\n",
        "print(X.shape, Y.shape)"
      ]
    }
  ],
  "metadata": {
    "environment": {
      "name": "common-cpu.m54",
      "type": "gcloud",
      "uri": "gcr.io/deeplearning-platform-release/base-cpu:m54"
    },
    "kernelspec": {
      "display_name": "Python 3",
      "language": "python",
      "name": "python3"
    },
    "language_info": {
      "codemirror_mode": {
        "name": "ipython",
        "version": 3
      },
      "file_extension": ".py",
      "mimetype": "text/x-python",
      "name": "python",
      "nbconvert_exporter": "python",
      "pygments_lexer": "ipython3",
      "version": "3.7.8"
    },
    "colab": {
      "name": "03-2-Regresion_lineal_multivariable-Datasets_sinteticos.ipynb",
      "provenance": [],
      "include_colab_link": true
    }
  },
  "nbformat": 4,
  "nbformat_minor": 0
}