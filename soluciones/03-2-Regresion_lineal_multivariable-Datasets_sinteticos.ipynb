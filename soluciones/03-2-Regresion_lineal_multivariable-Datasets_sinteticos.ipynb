{
  "cells": [
    {
      "cell_type": "markdown",
      "metadata": {
        "id": "view-in-github",
        "colab_type": "text"
      },
      "source": [
        "<a href=\"https://colab.research.google.com/github/Patilla4puto/Intro_to_ml-tokio_school/blob/master/soluciones/03-2-Regresion_lineal_multivariable-Datasets_sinteticos.ipynb\" target=\"_parent\"><img src=\"https://colab.research.google.com/assets/colab-badge.svg\" alt=\"Open In Colab\"/></a>"
      ]
    },
    {
      "cell_type": "markdown",
      "metadata": {
        "id": "y-BE4QeTUXOp"
      },
      "source": [
        "# Regresión lineal multivariable: Datasets sintéticos"
      ]
    },
    {
      "cell_type": "markdown",
      "metadata": {
        "id": "4NDokObAUXOt"
      },
      "source": [
        "## ¿Qué vamos a hacer?\n",
        "- Crear un dataset sintético (artificial) con Numpy\n",
        "- Crear un dataset sintético con un término de error aleatorio\n",
        "- Crear un dataset sintético con parámetros no considerados\n",
        "- Crear un dataset sinético con Scikit-learn"
      ]
    },
    {
      "cell_type": "code",
      "execution_count": 1,
      "metadata": {
        "id": "FI6v7yZLUXOu"
      },
      "outputs": [],
      "source": [
        "import numpy as np\n",
        "\n",
        "from matplotlib import pyplot as plt"
      ]
    },
    {
      "cell_type": "markdown",
      "metadata": {
        "id": "E0Nb2v6VUXOv"
      },
      "source": [
        "Un dataset sintético es un dataset de ejemplo creado artificialmente. Estos datasets son muy útiles para comprobar algoritmos y nuestra implementación, ya que podremos controlar las características del dataset en todo momento.\n",
        "\n",
        "Del mismo modo, ya que la influencia del dataset de entrenamiento y su limpieza, preprocesamiento, etc., son claves para el entrenamiento de modelos de ML, cuando vamos a realizar una implementación por primera vez no sería difícil encontrar múltiples datasets con características controladas y, en especial, estar seguro de si los posibles errores en el entrenamiento están provocados por nuestra implementación o por los datos de origen.\n",
        "\n",
        "Completa el código de las siguientes celdas según las instrucciones para crear los diferentes datasets sintéticos."
      ]
    },
    {
      "cell_type": "markdown",
      "metadata": {
        "id": "sEAExYCVUXOw"
      },
      "source": [
        "## Tarea 1: Crear un dataset sinético con Numpy\n",
        "\n",
        "Para esta tarea vamos a crear un dataset sintético usando las funciones de Numpy.\n",
        "Con este método podremos controlar completamente las características del dataset.\n",
        "\n",
        "Recuerda la ecuación de la regresión lineal múltiple y las dimensiones de los vectores:\n",
        "\n",
        "$Y = X \\times \\Theta^T$\n",
        "\n",
        "m = nº de ejemplos\n",
        "\n",
        "n = nº de características/coeficientes\n",
        "\n",
        "$Y_{m \\times 1}$\n",
        "\n",
        "$X_{m \\times n}$\n",
        "\n",
        "$\\Theta_{1 \\times n}$: Puedes transponer $\\Theta$ o implementarla como un vector columna"
      ]
    },
    {
      "cell_type": "code",
      "execution_count": null,
      "metadata": {
        "id": "8yKH9drIUXOx",
        "outputId": "d5512c00-36a3-4728-ac8a-fb360a88e8e9",
        "colab": {
          "base_uri": "https://localhost:8080/"
        }
      },
      "outputs": [
        {
          "output_type": "stream",
          "name": "stdout",
          "text": [
            "[[0.25688482 0.14641678 0.38949083 0.52144411 0.48614707 0.97624649\n",
            "  0.69734603 0.63190242 0.7487559  0.85433391 1.        ]]\n",
            "Theta a estimar:\n",
            "[[0.25688482 0.14641678 0.38949083 0.52144411 0.48614707 0.97624649\n",
            "  0.69734603 0.63190242 0.7487559  0.85433391 1.        ]]\n",
            "(1, 11)\n",
            "Primeras 10 filas y 5 columnas de X e Y:\n",
            "[[ 51.7045436   34.15285086 -45.86301833 -34.61309553  36.68775433]\n",
            " [-23.87159356 -99.41064938  29.53157411 -39.6138524   25.92777151]\n",
            " [ 77.53323676 -88.49144103  69.01992753 -20.41938715 -83.35180321]\n",
            " [ 53.76789602  -1.04700128  33.27227371 -33.38975056  -0.21630304]\n",
            " [ 81.18698016  32.19792735 -53.00562417 -50.6733434  -75.33388142]\n",
            " [ 91.91133316  -2.18638826 -48.45966719 -97.09062461  -2.24403001]\n",
            " [ 61.71844453 -69.09083713 -51.88376413   5.80588558  31.79697029]\n",
            " [ 42.69056018  -8.96058133 -43.01798887  77.70064769  34.08326054]\n",
            " [-69.72102371  74.00861406 -31.74677724  95.36214019  71.2281613 ]\n",
            " [-64.7118797   88.24108734 -25.653579    -8.057722    -8.68072083]]\n",
            "[[ 157.87254386]\n",
            " [  -7.46785976]\n",
            " [ -70.80002807]\n",
            " [ -12.43265761]\n",
            " [-121.25604894]\n",
            " [  56.55064429]\n",
            " [ 122.76103374]\n",
            " [ 140.812035  ]\n",
            " [  86.96508792]\n",
            " [-279.87809087]]\n",
            "Dimensiones de X e Y:\n",
            "shape shape\n",
            "(20, 11) (20, 1)\n"
          ]
        }
      ],
      "source": [
        "# TODO: Crea los siguientes arrays que definen el dataset original\n",
        "\n",
        "# Escoge unos valores de m y n (tipo: int)\n",
        "m = 20\n",
        "n = 10\n",
        "\n",
        "# X es un array 2D m x n de nºs aleatorios entre -100 y 100\n",
        "# Usa las funciones de Numpy para generar un array m x n de nºs aleatorios entre [0, 1)\n",
        "# Nº aleatorio en el rango [a, b): ndarray * (b - a) + a, donde a = -100 y b = 100\n",
        "X = np.random.rand(m,n)*200\n",
        "for cell in np.nditer(X,op_flags=['readwrite']):\n",
        "  cell -= 100\n",
        "# Inserta el término de bias b o X0 para paralelizar la ecuación\n",
        "# Inserta una columna de 1. (float) a la izquierda de X con la función de inserción de Numpy np.insert()\n",
        "X=np.insert(X,n,1, axis = 1)\n",
        "\n",
        "# Theta es un array 1D 1 x n que también podemos implementar como n x 1 (columna o fila)\n",
        "# Genéralo con n + 1 elementos aleatorios [0, 1) para añadir el término de bias\n",
        "Theta = np.insert(np.random.rand(1,n),n,1,axis =1)\n",
        "\n",
        "\n",
        "# Computa Y multiplicando los vectores X y Theta con np.matmul()\n",
        "Y = np.matmul(X,Theta.T)\n",
        "\n",
        "\n",
        "# Comprueba los valores y dimensiones (forma o \"shape\") de los arrays con la propiedad ndarray.shape\n",
        "print('Theta a estimar:')\n",
        "print(Theta)\n",
        "print(Theta.shape)\n",
        "\n",
        "print('Primeras 10 filas y 5 columnas de X e Y:')\n",
        "print(X[:10,:5])\n",
        "print(Y[:10,:5])\n",
        "\n",
        "print('Dimensiones de X e Y:')\n",
        "print('shape', 'shape')\n",
        "print(X.shape,Y.shape)"
      ]
    },
    {
      "cell_type": "code",
      "execution_count": null,
      "metadata": {
        "id": "xlvJlOzLUXOy",
        "outputId": "9492f298-ffbe-4d84-f2fb-2b22177b6a9b",
        "colab": {
          "base_uri": "https://localhost:8080/",
          "height": 281
        }
      },
      "outputs": [
        {
          "output_type": "display_data",
          "data": {
            "image/png": "[encoded data removed]",
            "text/plain": [
              "<Figure size 432x288 with 1 Axes>"
            ]
          },
          "metadata": {
            "needs_background": "light"
          }
        }
      ],
      "source": [
        "# TODO: Representa X vs Y en una gráfica de puntos de Matplotlib\n",
        "# A partir de ahora, intenta usar etiquetas para los ejes y un título de la gráfica\n",
        "\n",
        "\n",
        "\n",
        "# Tu código aquí\n",
        "for i,e in enumerate(X.T):\n",
        "  \n",
        "  plt.scatter(e,Y, label =\"Serie {}\".format(i) )\n",
        "plt.legend()\n",
        "plt.title(\"Random multivariable regresion\")\n",
        "plt.show()"
      ]
    },
    {
      "cell_type": "markdown",
      "metadata": {
        "id": "8O79vSGRUXOy"
      },
      "source": [
        "Una vez implementados correctamente, *¿por qué no varías los términos m y n y compruebas que puedes crear arrays de diversas dimensiones?*"
      ]
    },
    {
      "cell_type": "markdown",
      "metadata": {
        "id": "CswB1KzTUXOz"
      },
      "source": [
        "## Tarea 2: Crear un dataset sintético con un término de error aleatorio\n",
        "\n",
        "Ahora vamos a repetir los pasos del punto anterior, pero añadiendo un término de error aleatorio a Y, para hacer un dataset con datos no tan precisos, más parecidos a una situación real, pudiendo controlar dicho error."
      ]
    },
    {
      "cell_type": "code",
      "execution_count": 15,
      "metadata": {
        "id": "a7WjvEQTUXO0",
        "outputId": "9d0d982f-25c2-4fd2-f745-73c2927dd40a",
        "colab": {
          "base_uri": "https://localhost:8080/"
        }
      },
      "outputs": [
        {
          "output_type": "stream",
          "name": "stdout",
          "text": [
            "Theta a estimar:\n",
            "[[0.43731467]\n",
            " [0.57755075]\n",
            " [0.98567452]\n",
            " [0.32217267]\n",
            " [0.8455162 ]\n",
            " [0.88636155]\n",
            " [0.552636  ]\n",
            " [0.01799114]\n",
            " [0.62398473]\n",
            " [0.72539172]\n",
            " [0.14274549]\n",
            " [0.43619572]\n",
            " [0.76718954]\n",
            " [0.19983043]\n",
            " [0.22177989]\n",
            " [0.78764234]\n",
            " [0.31021855]\n",
            " [0.46850839]\n",
            " [0.92062083]\n",
            " [0.73208939]\n",
            " [1.        ]]\n",
            "(21, 1)\n",
            "Primeras 10 filas y 5 columnas de X e Y:\n",
            "[[ 61.35315234 -36.28283415 -33.76917343  31.92367228 -93.32812743]\n",
            " [-82.61880529  15.05214388 -13.21579839  35.91966191 -21.69765496]\n",
            " [ -5.62358471  -4.64738732 -97.99740947  -2.0274639  -60.45711591]\n",
            " [-43.51844962  -7.37704038  46.53080824   2.84695658  63.68474756]\n",
            " [-37.25048351  57.59983991  30.51331503 -91.64038342  85.35287448]\n",
            " [-85.76867278 -23.99973861  83.67644402   9.91693399  92.33641397]\n",
            " [ 40.46718561 -42.18028057  97.44699005  28.28439506 -94.88943474]\n",
            " [ 20.40988963 -73.77751664 -64.6753687   66.97680471  64.19315964]\n",
            " [-22.13510208  99.56547229   6.75805064  60.80892791 -91.76464456]\n",
            " [-83.39545823  83.7613067  -26.57748872 -41.09538512 -63.99716285]]\n",
            "[[  10.14729105]\n",
            " [-148.88962259]\n",
            " [ -58.28379376]\n",
            " [  75.37354411]\n",
            " [-182.43673404]\n",
            " [ 156.76556911]\n",
            " [-184.01425051]\n",
            " [-161.59392187]\n",
            " [ -37.11379828]\n",
            " [-131.32081868]]\n",
            "Dimensiones de X e Y:\n",
            "shape shape\n",
            "(10, 21) (10, 1)\n"
          ]
        }
      ],
      "source": [
        "# TODO: Crea los siguientes arrays que definen el dataset original con un término de error aleatorio\n",
        "\n",
        "# Escoge unos valores de m y n (tipo: int)\n",
        "m = 10\n",
        "n = 20\n",
        "\n",
        "# X es un array 2D m x n de nºs aleatorios entre -100 y 100\n",
        "# Usa las funciones de Numpy para generar un array m x n de nºs aleatorios entre [0, 1)\n",
        "# Nº aleatorio en el rango [a, b): ndarray * (b - a) + a, donde a = -100 y b = 100\n",
        "X = np.random.rand(m,n)*200\n",
        "for cell in np.nditer(X,op_flags=['readwrite']):\n",
        "  cell -= 100\n",
        "\n",
        "# Inserta el término de bias b o X0 para paralelizar la ecuación\n",
        "# Inserta una columna de 1. (float) a la izquierda de X con la función de inserción de Numpy np.insert()\n",
        "X=np.insert(X,n,1, axis = 1)\n",
        "\n",
        "# Theta es un array 1D 1 x n que también podemos implementar como n x 1 (columna o fila)\n",
        "# Genéralo con n + 1 elementos aleatorios [0, 1) para añadir el término de bias\n",
        "Theta = np.insert(np.random.rand(n,1),n,1).reshape(n+1,1)\n",
        "\n",
        "# Computa Y multiplicando los vectores X y Theta con np.matmul()\n",
        "Y = np.matmul(X,Theta)\n",
        "\n",
        "# A partir de aquí, añadimos el término de error e en porcentaje (0.1 = 10%, 0.25 = 25%, etc.)\n",
        "e = 0.9\n",
        "\n",
        "# En la siguiente línea, sustituye \"termino_error\" por un término que represente un número aleatorio en el rango +/- e (i.e. +/- 10%)\n",
        "# De esta forma, el término de error será un porcentaje de +/- el término de error sobre el valor de Y original\n",
        "Y_final = Y + Y * e\n",
        "\n",
        "# Comprueba los valores y dimensiones (forma o \"shape\") de los arrays con la propiedad ndarray.shape\n",
        "print('Theta a estimar:')\n",
        "print(Theta)\n",
        "print(Theta.shape)\n",
        "\n",
        "print('Primeras 10 filas y 5 columnas de X e Y:')\n",
        "print(X[:10,:5])\n",
        "print(Y[:10,:5])\n",
        "\n",
        "print('Dimensiones de X e Y:')\n",
        "print('shape', 'shape')\n",
        "print(X.shape,Y.shape)"
      ]
    },
    {
      "cell_type": "markdown",
      "metadata": {
        "id": "tZxKl1R6UXO1"
      },
      "source": [
        "Varía el término del error para comprobar su efecto sobre Y_final."
      ]
    },
    {
      "cell_type": "markdown",
      "metadata": {
        "id": "KPm3Dem5UXO1"
      },
      "source": [
        "*¿Te atreves a representar gráficamente Y vs X e Y_final vs X para apreciar el término del error?*"
      ]
    },
    {
      "cell_type": "code",
      "execution_count": 57,
      "metadata": {
        "id": "AskgkHx6UXO2",
        "outputId": "b58ed01a-2b66-427a-f0b7-5deb959faf79",
        "colab": {
          "base_uri": "https://localhost:8080/",
          "height": 405
        }
      },
      "outputs": [
        {
          "output_type": "stream",
          "name": "stdout",
          "text": [
            "Figure(648x288)\n"
          ]
        },
        {
          "output_type": "display_data",
          "data": {
            "text/plain": [
              "<Figure size 432x288 with 0 Axes>"
            ]
          },
          "metadata": {}
        },
        {
          "output_type": "display_data",
          "data": {
            "image/png": "[encoded data removed]",
            "text/plain": [
              "<Figure size 648x288 with 2 Axes>"
            ]
          },
          "metadata": {
            "needs_background": "light"
          }
        }
      ],
      "source": [
        "# TODO: Representa X vs Y y X vs Y_final en una gráfica de puntos de Matplotlib\n",
        "\n",
        "plt.figure()\n",
        "\n",
        "# Tu código aquí\n",
        "fig,ax=plt.subplots(1,2)\n",
        "fig.set_figwidth(9)\n",
        "for i,e in enumerate(X.T):\n",
        "  \n",
        "  ax[0].scatter(e,Y_final, label =\"Serie {}\".format(i) )\n",
        "  ax[1].scatter(e,Y, label =\"Serie {}\".format(i) )\n",
        "ax[0].legend()\n",
        "ax[0].set_title(\"Random multivariable regresion with error\")\n",
        "ax[1].set_title(\"Random multivariable regresion without error\")\n",
        "plt.subplots_adjust(left=0,\n",
        "                    bottom=0, \n",
        "                    right=1, \n",
        "                    top=0.9, \n",
        "                    wspace=0.4, \n",
        "                    hspace=0)\n",
        "print(fig)\n",
        "plt.show()"
      ]
    },
    {
      "cell_type": "markdown",
      "metadata": {
        "id": "_pAuhs7vUXO2"
      },
      "source": [
        "## Tarea 3: Crear un dataset sintético con parámetros no considerados\n",
        "\n",
        "En ocasiones, con datasets de la vida real, sucede que nuestra variable Y viene influenciada por múltiples características, de las cuales puede que no estemos considerando todas. Imagina, p. ej., una tasación de viviendas, pero que haya alguna característica de las mismas que los clientes tengan en consideración pero que nosotros no la tengamos disponible en nuestro set de datos de entrenamiento. P. ej., la cercanía a la parada de metro, bus o cercanías más próxima, el tiempo hasta la salida a la autovía más cercana, lo moderno del barrio o la diferencia en impuestos municipales frente a otros municipios cercanos.\n",
        "\n",
        "En dichos casos, queremos comparar nuestra implementación o nuestros modelos con modelos que tengan en cuenta más o menos características de las que realmente afectan a la variable Y.\n",
        "\n",
        "Por tanto, un dataset sintético muy útil en estas ocasiones sería aquel que viene dado por múltiples características (múltiples columnas de X), pero que sus columnas se ven reducidas a un número menor finalmente a la hora de entrenar nuestro modelo."
      ]
    },
    {
      "cell_type": "code",
      "execution_count": null,
      "metadata": {
        "id": "QYJcMvJnUXO3"
      },
      "outputs": [],
      "source": [
        "# TODO: Crea los siguientes arrays que definen el dataset original con un término de error aleatorio\n",
        "\n",
        "# Escoge unos valores de m y n (tipo: int)\n",
        "m = 30\n",
        "n = 20\n",
        "\n",
        "# X es un array 2D m x n de nºs aleatorios entre -100 y 100\n",
        "# Usa las funciones de Numpy para generar un array m x n de nºs aleatorios entre [0, 1)\n",
        "# Nº aleatorio en el rango [a, b): ndarray * (b - a) + a, donde a = -100 y b = 100\n",
        "X = np.random.rand(m,n)*200\n",
        "for cell in np.nditer(X,op_flags=['readwrite']):\n",
        "  cell -= 100\n",
        "\n",
        "# Inserta el término de bias b o X0 para paralelizar la ecuación\n",
        "# Inserta una columna de 1. (float) a la izquierda de X con la función de inserción de Numpy np.insert()\n",
        "X=np.insert(X,n,1, axis = 1)\n",
        "\n",
        "# Theta es un array 1D 1 x n que también podemos implementar como n x 1 (columna o fila)\n",
        "# Genéralo con n + 1 elementos aleatorios [0, 1) para añadir el término de bias\n",
        "Theta = np.insert(np.random.rand(n,1),n,1).reshape(n+1,1)\n",
        "\n",
        "# Computa Y multiplicando los vectores X y Theta con np.matmul()\n",
        "Y = np.matmul(X,Theta)\n",
        "\n",
        "# A partir de aquí, añadimos el término de error e en porcentaje (0.1 = 10%, 0.25 = 25%, etc.)\n",
        "e = 0.4\n",
        "\n",
        "# En la siguiente línea, sustituye \"termino_error\" por un término que represente un número aleatorio en el rango +/- e (i.e. +/- 10%)\n",
        "# De esta forma, el término de error será un porcentaje de +/- el término de error sobre el valor de Y original\n",
        "Y = Y + Y * e\n",
        "\n",
        "# Finalmente, restringe el nº de columnas de X y valores de Theta a considerar a sólo los n_final primeros\n",
        "# Puedes usar los slices de Numpy/Python para ello\n",
        "n_final = 10\n",
        "\n",
        "Y_final = [Y]\n",
        "X_final = [X]\n",
        "\n",
        "# Comprueba los valores y dimensiones (forma o \"shape\") de los arrays con la propiedad ndarray.shape\n",
        "print('Theta a estimar:')\n",
        "print()\n",
        "print()\n",
        "\n",
        "print('Primeras 10 filas y 5 columnas de X e Y:')\n",
        "print()\n",
        "print()\n",
        "\n",
        "print('Dimensiones de X e Y:')\n",
        "print('shape', 'shape')"
      ]
    },
    {
      "cell_type": "markdown",
      "metadata": {
        "id": "P3Qqcp7pUXO4"
      },
      "source": [
        "## Tarea 4: Crear un dataset sintético con Scikit-learn\n",
        "\n",
        "Scikit-learn viene con varios módulos para disponer de datasets para desarrollo o evaluación. Habitualmente usamos datasets generados sintéticamente para desarrollo, y utilizamos alguno de los datasets más comunes para evaluar y comparar diferentes algoritmos e implementaciones, como veremos durante el curso.\n",
        "\n",
        "Las herramientas de carga y generación de datasets puedes encontrarlas en la documentación: https://scikit-learn.org/stable/datasets/index.html\n",
        "\n",
        "Recuerda que, habitualmente, cada página de la documentación incluye varios notebooks con ejemplos de su uso.\n",
        "\n",
        "Revisa la documentación en detalle, puesto que estas funciones las podrás utilizar durante el curso para cualquier dataset que necesites descargarte o generar sintéticamente."
      ]
    },
    {
      "cell_type": "code",
      "execution_count": null,
      "metadata": {
        "id": "3-DzE9dNUXO4"
      },
      "outputs": [],
      "source": [
        "# TODO: Usa las funciones de Scikit-learn para generar un dataset sintético pensado para resolver un problema de regresión lineal multivariable\n",
        "# Escoge la función correcta para ello\n",
        "\n",
        "# Importa el módulo correspondiente\n",
        "from sklearn import [...]\n",
        "\n",
        "# Genera el dataset con la función correspondiente\n",
        "X, Y = [...]\n",
        "\n",
        "# Obtiene la Theta o coeficientes utilizados para generar el dataset\n",
        "Theta = [...]\n",
        "\n",
        "# Comprueba los valores y dimensiones (forma o \"shape\") de los arrays con la propiedad ndarray.shape\n",
        "print('Theta a estimar:')\n",
        "print()\n",
        "print()\n",
        "\n",
        "print('Primeras 10 filas y 5 columnas de X e Y:')\n",
        "print()\n",
        "print()\n",
        "\n",
        "print('Dimensiones de X e Y:')\n",
        "print('shape', 'shape')"
      ]
    },
    {
      "cell_type": "markdown",
      "metadata": {
        "id": "NhNx5-YsUXO4"
      },
      "source": [
        "*¿Qué m y n tendrá dicho dataset?*"
      ]
    },
    {
      "cell_type": "code",
      "execution_count": null,
      "metadata": {
        "id": "WCfKLuAzUXO5"
      },
      "outputs": [],
      "source": [
        "# TODO: Averigua la m y n de dicho dataset\n",
        "m = [...]\n",
        "n = [...]"
      ]
    },
    {
      "cell_type": "code",
      "execution_count": null,
      "metadata": {
        "id": "2ACF34KFUXO5"
      },
      "outputs": [],
      "source": [
        "# TODO: Repite los pasos de la celda anterior para descargar un dataset pequeño de muestra o \"toy\" pensado para resolver un problema de regresión lineal multivariable\n",
        "# Escoge uno de los datasets correctos para ello\n",
        "\n",
        "# Importa el módulo correspondiente\n",
        "from sklearn import [...]\n",
        "\n",
        "# Genera el dataset con la función correspondiente\n",
        "X, Y = [...]\n",
        "\n",
        "# Obtiene la Theta o coeficientes utilizados para generar el dataset\n",
        "Theta = [...]\n",
        "\n",
        "# Comprueba los valores y dimensiones (forma o \"shape\") de los arrays con la propiedad ndarray.shape\n",
        "print('Theta a estimar:')\n",
        "print()\n",
        "print()\n",
        "\n",
        "print('Primeras 10 filas y 5 columnas de X e Y:')\n",
        "print()\n",
        "print()\n",
        "\n",
        "print('Dimensiones de X e Y:')\n",
        "print('shape', 'shape')"
      ]
    }
  ],
  "metadata": {
    "environment": {
      "name": "common-cpu.m54",
      "type": "gcloud",
      "uri": "gcr.io/deeplearning-platform-release/base-cpu:m54"
    },
    "kernelspec": {
      "display_name": "Python 3",
      "language": "python",
      "name": "python3"
    },
    "language_info": {
      "codemirror_mode": {
        "name": "ipython",
        "version": 3
      },
      "file_extension": ".py",
      "mimetype": "text/x-python",
      "name": "python",
      "nbconvert_exporter": "python",
      "pygments_lexer": "ipython3",
      "version": "3.7.8"
    },
    "colab": {
      "name": "03-2-Regresion_lineal_multivariable-Datasets_sinteticos.ipynb",
      "provenance": [],
      "include_colab_link": true
    }
  },
  "nbformat": 4,
  "nbformat_minor": 0
}