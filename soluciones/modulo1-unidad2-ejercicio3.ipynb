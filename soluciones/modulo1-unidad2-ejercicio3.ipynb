{
  "cells": [
    {
      "cell_type": "markdown",
      "metadata": {
        "id": "view-in-github",
        "colab_type": "text"
      },
      "source": [
        "<a href=\"https://colab.research.google.com/github/Patilla4puto/Intro_to_ml-tokio_school/blob/master/soluciones/modulo1-unidad2-ejercicio3.ipynb\" target=\"_parent\"><img src=\"https://colab.research.google.com/assets/colab-badge.svg\" alt=\"Open In Colab\"/></a>"
      ]
    },
    {
      "cell_type": "markdown",
      "metadata": {
        "id": "_kzeBocnCtXO"
      },
      "source": [
        "# Introducción a las librerías usadas"
      ]
    },
    {
      "cell_type": "markdown",
      "metadata": {
        "id": "xSSPdE-qCtXY"
      },
      "source": [
        "En este notebook veremos una breve introducción a las librerías:\n",
        "- Jupyter\n",
        "- Numpy\n",
        "- Matplotlib\n",
        "- Scikit-learn\n",
        "\n",
        "El \"kernel\" o lenguaje usado por el notebook y las librerías es Python 3.\n",
        "\n",
        "Para este ejercicio, simplemente ejecuta todas las celdas y revisa las diferentes funciones utilizadas. Al final del mismo tendrás unos pocos ejercicios para resolver."
      ]
    },
    {
      "cell_type": "code",
      "execution_count": null,
      "metadata": {
        "id": "rttYgW6pCtXa",
        "outputId": "33a39f16-d735-4ca6-f0db-499d79cceec7",
        "colab": {
          "base_uri": "https://localhost:8080/",
          "height": 226
        }
      },
      "outputs": [
        {
          "output_type": "stream",
          "name": "stdout",
          "text": [
            "[ 8 17 26]\n",
            "[[[ 0  1  2]\n",
            "  [ 3  4  5]\n",
            "  [ 6  7  8]]\n",
            "\n",
            " [[ 9 10 11]\n",
            "  [12 13 14]\n",
            "  [15 16 17]]\n",
            "\n",
            " [[18 19 20]\n",
            "  [21 22 23]\n",
            "  [24 25 26]]]\n"
          ]
        }
      ],
      "source": [
        "import numpy as np\n",
        "\n",
        "n = np.arange(27).reshape((3, 3, 3))\n",
        "\n",
        "print(n[:,2,2])\n",
        "print(n)"
      ]
    },
    {
      "cell_type": "markdown",
      "metadata": {
        "id": "VPcdDHlMCtXe"
      },
      "source": [
        "## Jupyter"
      ]
    },
    {
      "cell_type": "markdown",
      "metadata": {
        "id": "d6Fecw-mCtXg"
      },
      "source": [
        "Jupyter permite incluir en un único documento \"celdas\" con código interactivo, texto explicativo, resultados y gráficas. Código interactivo puesto que podemos modificar el código y ejecutarlo desde cualquier celda.\n",
        "Los notebooks de Jupyter son __colaborativos__, __fácilmente compartidos__, __pensados para ser publicados__ y, sobretodo, __reproducibles__.\n",
        "Por todo eso y más son ideales para ser usados en educación, computación científica y, en especial, en _big data_ y análisis de datos."
      ]
    },
    {
      "cell_type": "markdown",
      "metadata": {
        "id": "k6Qpr4RKCtXh"
      },
      "source": [
        "Ejecutar código es tan sencillo como incluir una celda de código y pulsar \"Run\" (o CTRL + Enter):"
      ]
    },
    {
      "cell_type": "code",
      "execution_count": 1,
      "metadata": {
        "id": "pJu5WzDnCtXj",
        "outputId": "8d96a3fd-6845-407a-9fb1-6bdbef33c116",
        "colab": {
          "base_uri": "https://localhost:8080/"
        }
      },
      "outputs": [
        {
          "output_type": "stream",
          "name": "stdout",
          "text": [
            "1.0.0\n",
            "1.19.5\n",
            "3.2.2\n",
            "1.0.1\n"
          ]
        }
      ],
      "source": [
        "import jupyter, numpy, matplotlib, sklearn\n",
        "print(jupyter.__version__)\n",
        "print(numpy.__version__)\n",
        "print(matplotlib.__version__)\n",
        "print(sklearn.__version__)"
      ]
    },
    {
      "cell_type": "markdown",
      "metadata": {
        "id": "ni1LjBRUCtXl"
      },
      "source": [
        "Tras cada celda se muestra el resultado de su ejecución, que puede ser intercalado con celdas de texto explicativo.\n",
        "Dicho texto se formatea con [__markdown__](https://markdown.es/)."
      ]
    },
    {
      "cell_type": "code",
      "execution_count": null,
      "metadata": {
        "id": "S5W_x7pxCtXn"
      },
      "outputs": [],
      "source": [
        "a = 1\n",
        "b = 2\n",
        "c = 4"
      ]
    },
    {
      "cell_type": "code",
      "execution_count": null,
      "metadata": {
        "id": "U9KSO3kjCtXq",
        "outputId": "83c0eead-8532-415d-f33a-7838e596f195",
        "colab": {
          "base_uri": "https://localhost:8080/"
        }
      },
      "outputs": [
        {
          "output_type": "stream",
          "name": "stdout",
          "text": [
            "marcos\n",
            "b\n",
            "marcosb\n"
          ]
        }
      ],
      "source": [
        "print(a)\n",
        "print(b)\n",
        "print(c)"
      ]
    },
    {
      "cell_type": "code",
      "execution_count": null,
      "metadata": {
        "id": "4XSo8tK9CtXs",
        "outputId": "59746f21-d0c1-43b4-82a5-ecfc8f7f364d",
        "colab": {
          "base_uri": "https://localhost:8080/"
        }
      },
      "outputs": [
        {
          "output_type": "stream",
          "name": "stdout",
          "text": [
            "marcosb\n"
          ]
        }
      ],
      "source": [
        "a = 'marcos'\n",
        "b = 'b'\n",
        "c = a + b\n",
        "print(c)"
      ]
    },
    {
      "cell_type": "markdown",
      "metadata": {
        "id": "7tfDnXLwCtXu"
      },
      "source": [
        "Prueba a ejecutar de nuevo el código que imprime el valor de las variables \"a\", \"b\" y \"c\". A ésto nos referimos cuando hablamos de código interactivo."
      ]
    },
    {
      "cell_type": "markdown",
      "metadata": {
        "id": "a34B8u8fCtXw"
      },
      "source": [
        "Inserta una celda tras ésta copiando el código de la última celda de código, modifica los valores de las variables \"a\" y \"b\" y ejecútala. Al ser un notebook interactivo, puedes incluir nuevas celdas para modificar la ejecución, por ejemplo para encontrar errores o comprender mejor cómo se ejecuta el código."
      ]
    },
    {
      "cell_type": "markdown",
      "metadata": {
        "id": "8tuGbLRSCtXx"
      },
      "source": [
        "## Numpy"
      ]
    },
    {
      "cell_type": "markdown",
      "metadata": {
        "id": "yCOkyA0uCtXy"
      },
      "source": [
        "Librería para cálculo numérico de referencia en Python."
      ]
    },
    {
      "cell_type": "code",
      "execution_count": 2,
      "metadata": {
        "id": "HDvTZL67CtXz",
        "outputId": "9c7611af-c59c-4f02-86f2-823fc4a2c255",
        "colab": {
          "base_uri": "https://localhost:8080/"
        }
      },
      "outputs": [
        {
          "output_type": "stream",
          "name": "stdout",
          "text": [
            "1.19.5\n"
          ]
        }
      ],
      "source": [
        "import numpy as np\n",
        "print(np.__version__)"
      ]
    },
    {
      "cell_type": "code",
      "execution_count": null,
      "metadata": {
        "id": "SN-aLBLqCtX1",
        "outputId": "3036a3b7-1470-4725-f4e5-e34826783e7b",
        "colab": {
          "base_uri": "https://localhost:8080/"
        }
      },
      "outputs": [
        {
          "output_type": "stream",
          "name": "stdout",
          "text": [
            "[1 2 3]\n",
            "<class 'numpy.ndarray'>\n"
          ]
        }
      ],
      "source": [
        "a = np.array([1,2,3])\n",
        "print(a)\n",
        "print(type(a))"
      ]
    },
    {
      "cell_type": "code",
      "execution_count": null,
      "metadata": {
        "id": "jNTjqiD6CtX2",
        "outputId": "3e2b7f2b-7aa1-4386-ae97-c48a6fea6a0c",
        "colab": {
          "base_uri": "https://localhost:8080/"
        }
      },
      "outputs": [
        {
          "output_type": "stream",
          "name": "stdout",
          "text": [
            "[[1 2 3]\n",
            " [3 4 5]]\n",
            "2\n",
            "(2, 3)\n"
          ]
        }
      ],
      "source": [
        "b = np.array([[1,2,3],[3,4,5]])\n",
        "print(b)\n",
        "print(b.ndim)\n",
        "print(b.shape)"
      ]
    },
    {
      "cell_type": "code",
      "execution_count": null,
      "metadata": {
        "id": "7R0jADrACtX3",
        "outputId": "bbc48a7c-be50-4abd-9f2b-384bf98c21f2",
        "colab": {
          "base_uri": "https://localhost:8080/"
        }
      },
      "outputs": [
        {
          "output_type": "stream",
          "name": "stdout",
          "text": [
            "[[1 2]\n",
            " [3 3]\n",
            " [4 5]]\n",
            "2\n",
            "(3, 2)\n"
          ]
        }
      ],
      "source": [
        "b = b.reshape(3,2)\n",
        "print(b)\n",
        "print(b.ndim)\n",
        "print(b.shape)"
      ]
    },
    {
      "cell_type": "code",
      "execution_count": null,
      "metadata": {
        "id": "-99GOgFOCtX4",
        "outputId": "fd416202-1e96-4fea-c324-ebd5168d2907",
        "colab": {
          "base_uri": "https://localhost:8080/"
        }
      },
      "outputs": [
        {
          "output_type": "stream",
          "name": "stdout",
          "text": [
            "[[[1.+0.j 2.+0.j 3.+0.j]]]\n",
            "3\n",
            "(1, 1, 3)\n",
            "complex128\n"
          ]
        }
      ],
      "source": [
        "c = np.array([1,2,3], ndmin = 3, dtype = complex)\n",
        "print(c)\n",
        "print(c.ndim)\n",
        "print(c.shape)\n",
        "print(c.dtype)"
      ]
    },
    {
      "cell_type": "code",
      "execution_count": null,
      "metadata": {
        "id": "TaF_ooNYCtX5",
        "outputId": "9dcde52f-241d-49db-fde2-8b807b37c739",
        "colab": {
          "base_uri": "https://localhost:8080/",
          "height": 226
        }
      },
      "outputs": [
        {
          "output_type": "stream",
          "name": "stdout",
          "text": [
            "[ 0  1  2  3  4  5  6  7  8  9 10 11 12 13 14 15 16 17 18 19 20 21 22 23]\n",
            "1\n",
            "[[[ 0  1  2]\n",
            "  [ 3  4  5]\n",
            "  [ 6  7  8]\n",
            "  [ 9 10 11]]\n",
            "\n",
            " [[12 13 14]\n",
            "  [15 16 17]\n",
            "  [18 19 20]\n",
            "  [21 22 23]]]\n",
            "3\n"
          ]
        }
      ],
      "source": [
        "d = np.arange(24)\n",
        "print(d)\n",
        "print(d.ndim)\n",
        "e = d.reshape(2,4,3)\n",
        "print(e)\n",
        "print(e.ndim)"
      ]
    },
    {
      "cell_type": "code",
      "execution_count": null,
      "metadata": {
        "id": "pyE1-FVjCtX6",
        "outputId": "447dec0b-b16a-4e0c-b538-ec613b903ca4",
        "colab": {
          "base_uri": "https://localhost:8080/"
        }
      },
      "outputs": [
        {
          "output_type": "stream",
          "name": "stdout",
          "text": [
            "[[94642079568384              0]\n",
            " [             0              0]\n",
            " [             0              0]]\n",
            "[[0. 0.]\n",
            " [0. 0.]]\n",
            "[1. 1. 1. 1. 1.]\n"
          ]
        }
      ],
      "source": [
        "f = np.empty([3,2], dtype = int)\n",
        "g = np.zeros((2,2))\n",
        "h = np.ones(5)\n",
        "print(f)\n",
        "print(g)\n",
        "print(h)"
      ]
    },
    {
      "cell_type": "code",
      "execution_count": null,
      "metadata": {
        "id": "U7hO3hXTCtX7",
        "outputId": "b9571c95-765a-4f33-f4f4-fbfc1aa9066c",
        "colab": {
          "base_uri": "https://localhost:8080/"
        }
      },
      "outputs": [
        {
          "output_type": "stream",
          "name": "stdout",
          "text": [
            "[0 1 2 3]\n"
          ]
        }
      ],
      "source": [
        "i = np.asarray(range(4))\n",
        "print(i)"
      ]
    },
    {
      "cell_type": "code",
      "execution_count": null,
      "metadata": {
        "id": "UqlqLUWOCtX9",
        "outputId": "75f3099f-f5ad-48f9-a497-5ee45da970f8",
        "colab": {
          "base_uri": "https://localhost:8080/"
        }
      },
      "outputs": [
        {
          "output_type": "stream",
          "name": "stdout",
          "text": [
            "[10.  12.5 15.  17.5 20. ]\n",
            "[ 10.          12.91549665  16.68100537  21.5443469   27.82559402\n",
            "  35.93813664  46.41588834  59.94842503  77.42636827 100.        ]\n"
          ]
        }
      ],
      "source": [
        "j = np.linspace(10,20,5)\n",
        "k = np.logspace(1,2,num=10)\n",
        "print(j)\n",
        "print(k)"
      ]
    },
    {
      "cell_type": "code",
      "execution_count": null,
      "metadata": {
        "id": "-3sI8ZBYCtX9",
        "outputId": "245b1be8-bd90-4047-a184-d76d2e894f6c",
        "colab": {
          "base_uri": "https://localhost:8080/"
        }
      },
      "outputs": [
        {
          "output_type": "stream",
          "name": "stdout",
          "text": [
            "[0 1 2 3 4 5 6 7 8 9]\n",
            "3\n",
            "[2 3 4 5 6]\n",
            "[2 4 6]\n",
            "[2 4 6]\n",
            "[ 0  1  2 42  4  5  6  7  8  9]\n"
          ]
        }
      ],
      "source": [
        "l = np.arange(10)\n",
        "print(l)\n",
        "print(l[3])\n",
        "print(l[2:7])\n",
        "print(l[2:7:2])\n",
        "s = slice(2,7,2)\n",
        "print(l[s])\n",
        "l[3] = 42\n",
        "print(l)"
      ]
    },
    {
      "cell_type": "code",
      "execution_count": null,
      "metadata": {
        "id": "cq7JhHj1CtX-",
        "outputId": "2bea36bb-3d22-4ed0-c57e-4055adf44eaa",
        "colab": {
          "base_uri": "https://localhost:8080/"
        }
      },
      "outputs": [
        {
          "output_type": "stream",
          "name": "stdout",
          "text": [
            "[[1 2 3]\n",
            " [4 5 6]\n",
            " [7 8 9]]\n",
            "Fila 1 en adelante:\n",
            " [[4 5 6]\n",
            " [7 8 9]]\n",
            "Columna 1 en adelante:\n",
            " [[2 3]\n",
            " [5 6]\n",
            " [8 9]]\n",
            "Elementos mayores de 5:\n",
            " [6 7 8 9]\n"
          ]
        }
      ],
      "source": [
        "m = np.array([[1,2,3],[4,5,6],[7,8,9]])\n",
        "print(m)\n",
        "print('Fila 1 en adelante:\\n', m[1:])\n",
        "print('Columna 1 en adelante:\\n', m[...,1:])\n",
        "print('Elementos mayores de 5:\\n', m[m > 5])"
      ]
    },
    {
      "cell_type": "markdown",
      "metadata": {
        "id": "uxdY72d7CtX_"
      },
      "source": [
        "__¡Cuidado!__ Arrays no multiplicables por sus dimensiones, producen operaciones permitidas por broadcasting:"
      ]
    },
    {
      "cell_type": "code",
      "execution_count": null,
      "metadata": {
        "id": "zEDgNk13CtYA",
        "outputId": "8b54d0d3-7665-46f6-9c88-94662d493b9d",
        "colab": {
          "base_uri": "https://localhost:8080/"
        }
      },
      "outputs": [
        {
          "output_type": "stream",
          "name": "stdout",
          "text": [
            "[1 2 3 4]\n",
            "[10 20 30 40]\n",
            "(4,) (4,)\n",
            "[ 10  40  90 160]\n",
            "[11 22 33 44]\n"
          ]
        }
      ],
      "source": [
        "n = np.arange(1,5)\n",
        "m = np.arange(10,50,10)\n",
        "print(n)\n",
        "print(m)\n",
        "print(n.shape, m.shape)\n",
        "print(n * m)\n",
        "print(n + m)"
      ]
    },
    {
      "cell_type": "code",
      "execution_count": null,
      "metadata": {
        "id": "K1ffYiVFCtYB",
        "outputId": "2a8949d9-2caf-452f-daf1-e998f403d4e1",
        "colab": {
          "base_uri": "https://localhost:8080/"
        }
      },
      "outputs": [
        {
          "output_type": "stream",
          "name": "stdout",
          "text": [
            "[[0.3661347  0.53206107 0.13109586 0.63908972]\n",
            " [0.4845614  0.90456297 0.28881199 0.0223751 ]\n",
            " [0.69771134 0.69657288 0.92107551 0.28229151]\n",
            " [0.46989795 0.90050646 0.69231849 0.67210632]]\n",
            "(4, 4)\n",
            "[[0.3661347  1.06412214 0.39328759 2.55635886]\n",
            " [0.4845614  1.80912594 0.86643597 0.08950041]\n",
            " [0.69771134 1.39314577 2.76322652 1.12916604]\n",
            " [0.46989795 1.80101291 2.07695546 2.68842528]]\n",
            "(4, 4)\n"
          ]
        }
      ],
      "source": [
        "o = np.random.rand(4,4)\n",
        "print(o)\n",
        "print(o.shape)\n",
        "p = n * o\n",
        "print(p)\n",
        "print(p.shape)"
      ]
    },
    {
      "cell_type": "code",
      "execution_count": null,
      "metadata": {
        "id": "SLFT0XWlCtYC",
        "outputId": "e348c717-fe69-4bc6-bb95-cb5dbcd987ba",
        "colab": {
          "base_uri": "https://localhost:8080/"
        }
      },
      "outputs": [
        {
          "output_type": "stream",
          "name": "stdout",
          "text": [
            "[1 2 3 4]\n",
            "[[0.3661347  0.53206107 0.13109586 0.63908972]\n",
            " [0.4845614  0.90456297 0.28881199 0.0223751 ]\n",
            " [0.69771134 0.69657288 0.92107551 0.28229151]\n",
            " [0.46989795 0.90050646 0.69231849 0.67210632]]\n",
            "[[1.3661347  2.53206107 3.13109586 4.63908972]\n",
            " [1.4845614  2.90456297 3.28881199 4.0223751 ]\n",
            " [1.69771134 2.69657288 3.92107551 4.28229151]\n",
            " [1.46989795 2.90050646 3.69231849 4.67210632]]\n"
          ]
        }
      ],
      "source": [
        "print(n)\n",
        "print(o)\n",
        "print(n + o)"
      ]
    },
    {
      "cell_type": "code",
      "execution_count": null,
      "metadata": {
        "id": "DDyEY-oNCtYD",
        "outputId": "d0534d62-78da-4fd5-cfd5-b8b60929c603",
        "colab": {
          "base_uri": "https://localhost:8080/"
        }
      },
      "outputs": [
        {
          "output_type": "stream",
          "name": "stdout",
          "text": [
            "[[ 0  5 10 15]\n",
            " [20 25 30 35]\n",
            " [40 45 50 55]]\n",
            "0\n",
            "5\n",
            "10\n",
            "15\n",
            "20\n",
            "25\n",
            "30\n",
            "35\n",
            "40\n",
            "45\n",
            "50\n",
            "55\n"
          ]
        }
      ],
      "source": [
        "q = np.arange(0,60,5).reshape(3,4)\n",
        "print(q)\n",
        "for x in np.nditer(q):\n",
        "    print(x)"
      ]
    },
    {
      "cell_type": "code",
      "execution_count": null,
      "metadata": {
        "id": "JNSsUKxACtYD",
        "outputId": "368c1ec1-dbb1-4d3f-8f85-f2249a821270",
        "colab": {
          "base_uri": "https://localhost:8080/"
        }
      },
      "outputs": [
        {
          "output_type": "stream",
          "name": "stdout",
          "text": [
            "[[ 0  5 10 15]\n",
            " [20 25 30 35]\n",
            " [40 45 50 55]]\n",
            "[ 0  5 10 15 20 25 30 35 40 45 50 55]\n",
            "[[ 0 20 40]\n",
            " [ 5 25 45]\n",
            " [10 30 50]\n",
            " [15 35 55]]\n",
            "[[ 0 20 40]\n",
            " [ 5 25 45]\n",
            " [10 30 50]\n",
            " [15 35 55]]\n"
          ]
        }
      ],
      "source": [
        "print(q)\n",
        "print(q.flatten())\n",
        "print(q.transpose())\n",
        "print(q.T)"
      ]
    },
    {
      "cell_type": "code",
      "execution_count": null,
      "metadata": {
        "id": "q63LA6JWCtYE",
        "outputId": "e20ba2f7-95ee-492a-9925-880a985f0f5f",
        "colab": {
          "base_uri": "https://localhost:8080/"
        }
      },
      "outputs": [
        {
          "output_type": "stream",
          "name": "stdout",
          "text": [
            "[[1 2]\n",
            " [3 4]]\n",
            "[[5 6]\n",
            " [7 8]]\n",
            "Concatenar:\n",
            "[[1 2]\n",
            " [3 4]\n",
            " [5 6]\n",
            " [7 8]]\n",
            "[[1 2 5 6]\n",
            " [3 4 7 8]]\n",
            "Stacking:\n",
            "[[[1 2]\n",
            "  [3 4]]\n",
            "\n",
            " [[5 6]\n",
            "  [7 8]]]\n",
            "(2, 2, 2)\n",
            "[[[1 2]\n",
            "  [3 4]]\n",
            "\n",
            " [[5 6]\n",
            "  [7 8]]]\n",
            "[[[1 2]\n",
            "  [5 6]]\n",
            "\n",
            " [[3 4]\n",
            "  [7 8]]]\n",
            "[[[1 5]\n",
            "  [2 6]]\n",
            "\n",
            " [[3 7]\n",
            "  [4 8]]]\n"
          ]
        }
      ],
      "source": [
        "r = np.array([[1,2],[3,4]])\n",
        "s = np.array([[5,6],[7,8]])\n",
        "print(r)\n",
        "print(s)\n",
        "print('Concatenar:')\n",
        "print(np.concatenate((r,s)))\n",
        "print(np.concatenate((r,s),axis = 1))\n",
        "print('Stacking:')\n",
        "print(np.stack((r,s)))\n",
        "print(np.stack((r,s)).shape)\n",
        "print(np.stack((r,s),0))\n",
        "print(np.stack((r,s),1))\n",
        "print(np.stack((r,s),2))"
      ]
    },
    {
      "cell_type": "code",
      "execution_count": null,
      "metadata": {
        "id": "M0y98vqZCtYF",
        "outputId": "6db98891-00ba-4952-e583-42f0a3b2dd06",
        "colab": {
          "base_uri": "https://localhost:8080/"
        }
      },
      "outputs": [
        {
          "output_type": "stream",
          "name": "stdout",
          "text": [
            "[0 1 2 3 4 5 6 7 8]\n",
            "[array([0, 1, 2]), array([3, 4, 5]), array([6, 7, 8])]\n",
            "[array([0, 1, 2, 3]), array([4, 5, 6]), array([7, 8])]\n",
            "[[0 1 2]\n",
            " [3 4 5]\n",
            " [6 7 8]]\n",
            "[ 0  1 11 12  2  3  4  5  6  7  8]\n",
            "[[ 0  1  2]\n",
            " [ 3  4  5]\n",
            " [11 12 13]\n",
            " [ 6  7  8]]\n",
            "[[ 0  1 11  2]\n",
            " [ 3  4 12  5]\n",
            " [ 6  7 13  8]]\n",
            "[0 1 3 4 5 6 7 8]\n",
            "[[0 1 2]\n",
            " [3 4 5]]\n",
            "[1 3 5 7]\n"
          ]
        }
      ],
      "source": [
        "t = np.arange(9)\n",
        "print(t)\n",
        "print(np.split(t,3))\n",
        "print(np.split(t,[4,7]))\n",
        "t = t.reshape(3,3)\n",
        "print(t)\n",
        "print(np.insert(t,2,[11,12]))\n",
        "print(np.insert(t,2,[11,12,13],axis = 0))\n",
        "print(np.insert(t,2,[11,12,13],axis = 1))\n",
        "print(np.delete(t,2))\n",
        "print(np.delete(t,2,axis = 0))\n",
        "print(np.delete(t,np.s_[::2]))"
      ]
    },
    {
      "cell_type": "markdown",
      "metadata": {
        "id": "Yet62or7CtYF"
      },
      "source": [
        "Funciones estadísticas:"
      ]
    },
    {
      "cell_type": "code",
      "execution_count": null,
      "metadata": {
        "id": "LbyMu2VLCtYG",
        "outputId": "79c57002-ac18-495d-8605-5eaa4d06fdb7",
        "colab": {
          "base_uri": "https://localhost:8080/"
        }
      },
      "outputs": [
        {
          "output_type": "stream",
          "name": "stdout",
          "text": [
            "[[5 6]\n",
            " [7 8]]\n",
            "8\n",
            "5\n",
            "3\n",
            "6.5\n",
            "6.5\n",
            "6.5\n",
            "1.118033988749895\n",
            "1.25\n"
          ]
        }
      ],
      "source": [
        "print(s)\n",
        "print(s.max())\n",
        "print(s.min())\n",
        "print(s.ptp())    # Rango: max - min\n",
        "print(s.mean())\n",
        "print(np.mean(s))\n",
        "print(np.median(s))\n",
        "print(s.std())\n",
        "print(s.var())"
      ]
    },
    {
      "cell_type": "markdown",
      "metadata": {
        "id": "UDlaxVP4CtYH"
      },
      "source": [
        "Álgebra lineal, operaciones matriciales:"
      ]
    },
    {
      "cell_type": "code",
      "execution_count": 6,
      "metadata": {
        "id": "rBqDnJ_JCtYI",
        "outputId": "04879cff-5c0f-4093-895f-48c7b1eb0369",
        "colab": {
          "base_uri": "https://localhost:8080/"
        }
      },
      "outputs": [
        {
          "output_type": "stream",
          "name": "stdout",
          "text": [
            "[[ 54.    36.  ]\n",
            " [388.8  253.44]]\n",
            "<class 'numpy.matrix'>\n",
            "[[0. 0.]\n",
            " [0. 0.]]\n",
            "[[1. 1.]\n",
            " [1. 1.]]\n",
            "[[0. 0. 0. 0.]\n",
            " [1. 0. 0. 0.]\n",
            " [0. 1. 0. 0.]\n",
            " [0. 0. 1. 0.]]\n",
            "[[1. 0. 0.]\n",
            " [0. 1. 0.]\n",
            " [0. 0. 1.]]\n",
            "[[0.16722162 0.79267899 0.06921793]\n",
            " [0.01288838 0.76387684 0.2474659 ]\n",
            " [0.49979132 0.13701466 0.70426084]]\n"
          ]
        }
      ],
      "source": [
        "import numpy.matlib\n",
        "\n",
        "print(np.matlib.empty((2,2)))\n",
        "print(type(np.matlib.empty((2,2))))\n",
        "print(np.matlib.zeros((2,2)))\n",
        "print(np.matlib.ones((2,2)))\n",
        "print(np.matlib.eye(4,4,-1))\n",
        "print(np.matlib.identity(3))\n",
        "print(np.matlib.rand(3,3))"
      ]
    },
    {
      "cell_type": "code",
      "execution_count": null,
      "metadata": {
        "id": "9pbbhpBcCtYJ",
        "outputId": "363fb7ff-0237-47de-db89-a4f7b7fba707",
        "colab": {
          "base_uri": "https://localhost:8080/"
        }
      },
      "outputs": [
        {
          "output_type": "stream",
          "name": "stdout",
          "text": [
            "(2, 2)\n",
            "(2, 2)\n",
            "(1, 2)\n",
            "[[4 1]\n",
            " [2 2]]\n",
            "[[1 2]]\n",
            "matmul: Input operand 1 has a mismatch in its core dimension 0, with gufunc signature (n?,k),(k,m?)->(n?,m?) (size 1 is different from 2)\n"
          ]
        }
      ],
      "source": [
        "u = np.matrix([[1,0],[0,1]])\n",
        "v = np.matrix([[4,1],[2,2]])\n",
        "w = np.matrix([1,2])\n",
        "print(u.shape)\n",
        "print(v.shape)\n",
        "print(w.shape)\n",
        "print(np.matmul(u,v))\n",
        "print(np.matmul(w,u))\n",
        "try:\n",
        "    print(np.matmul(u,w))\n",
        "except ValueError as e:\n",
        "    print(e)"
      ]
    },
    {
      "cell_type": "code",
      "execution_count": null,
      "metadata": {
        "id": "2MQE7DcVCtYJ",
        "outputId": "26abcdc7-302f-4ce2-ae9b-ecd5b30037f4",
        "colab": {
          "base_uri": "https://localhost:8080/"
        }
      },
      "outputs": [
        {
          "output_type": "stream",
          "name": "stdout",
          "text": [
            "[[4 1]\n",
            " [2 2]]\n",
            "[[ 0.33333333 -0.16666667]\n",
            " [-0.33333333  0.66666667]]\n",
            "[[1. 0.]\n",
            " [0. 1.]]\n"
          ]
        }
      ],
      "source": [
        "print(v)\n",
        "print(np.linalg.inv(v))\n",
        "print(np.matmul(v, np.linalg.inv(v)))"
      ]
    },
    {
      "cell_type": "markdown",
      "metadata": {
        "id": "YFDIRQeFCtYK"
      },
      "source": [
        "## Matplotlib"
      ]
    },
    {
      "cell_type": "markdown",
      "metadata": {
        "id": "eYFzj5tPCtYK"
      },
      "source": [
        "Tenemos disponibles los modos interactivo en el notebook y en línea."
      ]
    },
    {
      "cell_type": "code",
      "execution_count": 3,
      "metadata": {
        "id": "nSAYGD-7CtYL",
        "outputId": "e758db96-c0b8-4bab-c7db-67bc14b46b6b",
        "colab": {
          "base_uri": "https://localhost:8080/",
          "height": 295
        }
      },
      "outputs": [
        {
          "output_type": "display_data",
          "data": {
            "image/png": "[encoded data removed]",
            "text/plain": [
              "<Figure size 432x288 with 1 Axes>"
            ]
          },
          "metadata": {
            "needs_background": "light"
          }
        }
      ],
      "source": [
        "from matplotlib import pyplot as plt\n",
        "%matplotlib notebook\n",
        "%matplotlib inline\n",
        "\n",
        "x = np.arange(1,11)\n",
        "y = 2 * x + 5\n",
        "plt.title('Matplotlib')\n",
        "plt.xlabel('x')\n",
        "plt.ylabel('y')\n",
        "plt.plot(x,y)\n",
        "plt.show()"
      ]
    },
    {
      "cell_type": "code",
      "execution_count": null,
      "metadata": {
        "id": "kDQtXfSSCtYM",
        "outputId": "f94529cd-0798-43f3-8451-70406ccc406f",
        "colab": {
          "base_uri": "https://localhost:8080/",
          "height": 295
        }
      },
      "outputs": [
        {
          "output_type": "display_data",
          "data": {
            "image/png": "[encoded data removed]",
            "text/plain": [
              "<Figure size 432x288 with 1 Axes>"
            ]
          },
          "metadata": {
            "needs_background": "light"
          }
        }
      ],
      "source": [
        "plt.figure()    # Inicializa una nueva gráfica, necesario para \"\"%matplotlib notebook\"\n",
        "\n",
        "plt.title('Matplotlib')\n",
        "plt.xlabel('x')\n",
        "plt.ylabel('y')\n",
        "plt.plot(x,y)\n",
        "plt.show()"
      ]
    },
    {
      "cell_type": "code",
      "execution_count": null,
      "metadata": {
        "id": "Wwg5-Te7CtYN",
        "outputId": "1dc5452c-5893-44fe-bb49-879c10d0fc71",
        "colab": {
          "base_uri": "https://localhost:8080/",
          "height": 295
        }
      },
      "outputs": [
        {
          "output_type": "display_data",
          "data": {
            "image/png": "[encoded data removed]",
            "text/plain": [
              "<Figure size 432x288 with 1 Axes>"
            ]
          },
          "metadata": {
            "needs_background": "light"
          }
        }
      ],
      "source": [
        "plt.figure()\n",
        "\n",
        "plt.title('Matplotlib')\n",
        "plt.xlabel('y')\n",
        "plt.ylabel('x')\n",
        "plt.plot(y,x, '--y')\n",
        "plt.show()"
      ]
    },
    {
      "cell_type": "code",
      "execution_count": null,
      "metadata": {
        "id": "6dy0nCd7CtYO",
        "outputId": "0e64f9ca-e6b5-4069-96ad-5b0df9c804eb",
        "colab": {
          "base_uri": "https://localhost:8080/",
          "height": 295
        }
      },
      "outputs": [
        {
          "output_type": "display_data",
          "data": {
            "image/png": "[encoded data removed]",
            "text/plain": [
              "<Figure size 432x288 with 1 Axes>"
            ]
          },
          "metadata": {
            "needs_background": "light"
          }
        }
      ],
      "source": [
        "x = [5,8,10]\n",
        "y = [12,16,6]\n",
        "x2 = [6,9,11]\n",
        "y2 = [6,15,7]\n",
        "\n",
        "plt.figure()\n",
        "\n",
        "plt.bar(x,y,align='center')\n",
        "plt.bar(x2,y2,color='g',align='center')\n",
        "plt.title('Gráfica barras')\n",
        "plt.ylabel('Y axis')\n",
        "plt.xlabel('X axis')\n",
        "plt.show()"
      ]
    },
    {
      "cell_type": "code",
      "execution_count": null,
      "metadata": {
        "id": "GlDQwVBLCtYP",
        "outputId": "fd5cdca5-cc59-458d-80f1-89eeaadf95e3",
        "colab": {
          "base_uri": "https://localhost:8080/",
          "height": 298
        }
      },
      "outputs": [
        {
          "output_type": "stream",
          "name": "stdout",
          "text": [
            "[3 4 5 2 1] [  0  20  40  60  80 100]\n"
          ]
        },
        {
          "output_type": "display_data",
          "data": {
            "image/png": "[encoded data removed]",
            "text/plain": [
              "<Figure size 432x288 with 1 Axes>"
            ]
          },
          "metadata": {
            "needs_background": "light"
          }
        }
      ],
      "source": [
        "t = np.array([22,87,5,43,56,73,55,54,11,20,51,5,79,31,27])\n",
        "\n",
        "hist,bins = np.histogram(t,bins=[0,20,40,60,80,100])\n",
        "print(hist, bins)\n",
        "\n",
        "plt.figure()\n",
        "\n",
        "plt.hist(t, bins)\n",
        "plt.title('Histograma')\n",
        "plt.show()"
      ]
    },
    {
      "cell_type": "code",
      "execution_count": null,
      "metadata": {
        "id": "WtG7ktx5CtYP",
        "outputId": "2c7b0d66-9764-42bd-e450-679291e3db4a",
        "colab": {
          "base_uri": "https://localhost:8080/",
          "height": 265
        }
      },
      "outputs": [
        {
          "output_type": "display_data",
          "data": {
            "image/png": "[encoded data removed]",
            "text/plain": [
              "<Figure size 432x288 with 1 Axes>"
            ]
          },
          "metadata": {
            "needs_background": "light"
          }
        }
      ],
      "source": [
        "p = np.arange(0.,5.,0.2)\n",
        "\n",
        "plt.figure()\n",
        "\n",
        "plt.plot(p,p,'r--',p,p**2,'bs',p,p**3,'g^',linewidth=2.0)\n",
        "plt.show()"
      ]
    },
    {
      "cell_type": "code",
      "execution_count": null,
      "metadata": {
        "id": "Kz7M3WJcCtYQ",
        "colab": {
          "base_uri": "https://localhost:8080/",
          "height": 265
        },
        "outputId": "04c5be53-237b-40d5-ad60-09673e29ad27"
      },
      "outputs": [
        {
          "output_type": "display_data",
          "data": {
            "image/png": "[encoded data removed]",
            "text/plain": [
              "<Figure size 432x288 with 2 Axes>"
            ]
          },
          "metadata": {
            "needs_background": "light"
          }
        }
      ],
      "source": [
        "def f(t):\n",
        "    return np.exp(-t)*np.cos(2*np.pi*t)\n",
        "\n",
        "t1 = np.arange(0.,5.,0.1)\n",
        "t2 = np.arange(0.,5.,0.02)\n",
        "\n",
        "plt.figure(7)\n",
        "plt.subplot(211)\n",
        "plt.plot(t1,f(t1),'bo',t2,f(t2),'k')\n",
        "\n",
        "plt.subplot(212)\n",
        "plt.plot(t2,np.cos(2*np.pi*t2),'r--')\n",
        "plt.show()"
      ]
    },
    {
      "cell_type": "code",
      "execution_count": null,
      "metadata": {
        "id": "GUj8cZlSCtYR",
        "outputId": "0d31f48f-413c-4118-c0d1-f293fef8facc",
        "colab": {
          "base_uri": "https://localhost:8080/",
          "height": 530
        }
      },
      "outputs": [
        {
          "output_type": "execute_result",
          "data": {
            "text/plain": [
              "[<matplotlib.lines.Line2D at 0x7f2cf2643e10>]"
            ]
          },
          "metadata": {},
          "execution_count": 81
        },
        {
          "output_type": "display_data",
          "data": {
            "image/png": "[encoded data removed]",
            "text/plain": [
              "<Figure size 432x288 with 2 Axes>"
            ]
          },
          "metadata": {
            "needs_background": "light"
          }
        },
        {
          "output_type": "display_data",
          "data": {
            "image/png": "[encoded data removed]",
            "text/plain": [
              "<Figure size 432x288 with 1 Axes>"
            ]
          },
          "metadata": {
            "needs_background": "light"
          }
        }
      ],
      "source": [
        "plt.figure(8)\n",
        "plt.subplot(211)\n",
        "plt.plot([1,2,3])\n",
        "\n",
        "plt.figure(9)\n",
        "plt.plot([4,5,6])\n",
        "\n",
        "plt.figure(8)\n",
        "plt.subplot(212)\n",
        "plt.plot([4,5,6])"
      ]
    },
    {
      "cell_type": "code",
      "execution_count": null,
      "metadata": {
        "id": "aGbqgodFCtYS",
        "outputId": "e8c0bd71-e7f4-41a3-8e87-2674632e7190",
        "colab": {
          "base_uri": "https://localhost:8080/",
          "height": 248
        }
      },
      "outputs": [
        {
          "output_type": "display_data",
          "data": {
            "image/png": "[encoded data removed]",
            "text/plain": [
              "<Figure size 432x288 with 2 Axes>"
            ]
          },
          "metadata": {
            "needs_background": "light"
          }
        }
      ],
      "source": [
        "from mpl_toolkits.mplot3d import Axes3D\n",
        "from matplotlib import cm\n",
        "from matplotlib.ticker import LinearLocator, FormatStrFormatter\n",
        "\n",
        "fig = plt.figure()\n",
        "ax = fig.gca(projection='3d')\n",
        "\n",
        "x = np.arange(-5,5,0.25)\n",
        "y = np.arange(-5,5,0.25)\n",
        "x, y = np.meshgrid(x,y)\n",
        "z = np.sin(np.sqrt(x**2+y**2))\n",
        "\n",
        "surf = ax.plot_surface(x,y,z,cmap=cm.coolwarm,linewidth=0,\n",
        "                       antialiased=False)\n",
        "\n",
        "ax.set_zlim(-1.01,1.01)\n",
        "ax.zaxis.set_major_locator(LinearLocator(10))\n",
        "ax.zaxis.set_major_formatter(FormatStrFormatter('%.02f'))\n",
        "\n",
        "fig.colorbar(surf,shrink=0.5,aspect=5)\n",
        "\n",
        "plt.show()"
      ]
    },
    {
      "cell_type": "markdown",
      "metadata": {
        "id": "wVo0s-92CtYT"
      },
      "source": [
        "## Scikit-learn"
      ]
    },
    {
      "cell_type": "code",
      "execution_count": null,
      "metadata": {
        "id": "AluhVZXBCtYT",
        "outputId": "56d1ba6f-2808-4442-8c29-217aadf9366c",
        "colab": {
          "base_uri": "https://localhost:8080/",
          "height": 294
        }
      },
      "outputs": [
        {
          "output_type": "stream",
          "name": "stdout",
          "text": [
            "[[ 0.  0.  5. ...  0.  0.  0.]\n",
            " [ 0.  0.  0. ... 10.  0.  0.]\n",
            " [ 0.  0.  0. ... 16.  9.  0.]\n",
            " ...\n",
            " [ 0.  0.  1. ...  6.  0.  0.]\n",
            " [ 0.  0.  2. ... 12.  0.  0.]\n",
            " [ 0.  0. 10. ... 12.  1.  0.]]\n",
            "[0 1 2 ... 8 9 8]\n",
            "[[ 0.  0.  5. 13.  9.  1.  0.  0.]\n",
            " [ 0.  0. 13. 15. 10. 15.  5.  0.]\n",
            " [ 0.  3. 15.  2.  0. 11.  8.  0.]\n",
            " [ 0.  4. 12.  0.  0.  8.  8.  0.]\n",
            " [ 0.  5.  8.  0.  0.  9.  8.  0.]\n",
            " [ 0.  4. 11.  0.  1. 12.  7.  0.]\n",
            " [ 0.  2. 14.  5. 10. 12.  0.  0.]\n",
            " [ 0.  0.  6. 13. 10.  0.  0.  0.]]\n"
          ]
        }
      ],
      "source": [
        "from sklearn import datasets\n",
        "\n",
        "iris = datasets.load_iris()\n",
        "digits = datasets.load_digits()\n",
        "\n",
        "print(digits.data)\n",
        "print(digits.target)\n",
        "print(digits.images[0])"
      ]
    },
    {
      "cell_type": "code",
      "execution_count": null,
      "metadata": {
        "id": "CwD-2ZJPCtYU",
        "outputId": "c41e3c8e-0e01-468c-f4fe-837d67b2b5c8",
        "colab": {
          "base_uri": "https://localhost:8080/",
          "height": 34
        }
      },
      "outputs": [
        {
          "output_type": "display_data",
          "data": {
            "application/javascript": [
              "/* Put everything inside the global mpl namespace */\n",
              "window.mpl = {};\n",
              "\n",
              "\n",
              "mpl.get_websocket_type = function() {\n",
              "    if (typeof(WebSocket) !== 'undefined') {\n",
              "        return WebSocket;\n",
              "    } else if (typeof(MozWebSocket) !== 'undefined') {\n",
              "        return MozWebSocket;\n",
              "    } else {\n",
              "        alert('Your browser does not have WebSocket support. ' +\n",
              "              'Please try Chrome, Safari or Firefox ≥ 6. ' +\n",
              "              'Firefox 4 and 5 are also supported but you ' +\n",
              "              'have to enable WebSockets in about:config.');\n",
              "    };\n",
              "}\n",
              "\n",
              "mpl.figure = function(figure_id, websocket, ondownload, parent_element) {\n",
              "    this.id = figure_id;\n",
              "\n",
              "    this.ws = websocket;\n",
              "\n",
              "    this.supports_binary = (this.ws.binaryType != undefined);\n",
              "\n",
              "    if (!this.supports_binary) {\n",
              "        var warnings = document.getElementById(\"mpl-warnings\");\n",
              "        if (warnings) {\n",
              "            warnings.style.display = 'block';\n",
              "            warnings.textContent = (\n",
              "                \"This browser does not support binary websocket messages. \" +\n",
              "                    \"Performance may be slow.\");\n",
              "        }\n",
              "    }\n",
              "\n",
              "    this.imageObj = new Image();\n",
              "\n",
              "    this.context = undefined;\n",
              "    this.message = undefined;\n",
              "    this.canvas = undefined;\n",
              "    this.rubberband_canvas = undefined;\n",
              "    this.rubberband_context = undefined;\n",
              "    this.format_dropdown = undefined;\n",
              "\n",
              "    this.image_mode = 'full';\n",
              "\n",
              "    this.root = $('<div/>');\n",
              "    this._root_extra_style(this.root)\n",
              "    this.root.attr('style', 'display: inline-block');\n",
              "\n",
              "    $(parent_element).append(this.root);\n",
              "\n",
              "    this._init_header(this);\n",
              "    this._init_canvas(this);\n",
              "    this._init_toolbar(this);\n",
              "\n",
              "    var fig = this;\n",
              "\n",
              "    this.waiting = false;\n",
              "\n",
              "    this.ws.onopen =  function () {\n",
              "            fig.send_message(\"supports_binary\", {value: fig.supports_binary});\n",
              "            fig.send_message(\"send_image_mode\", {});\n",
              "            if (mpl.ratio != 1) {\n",
              "                fig.send_message(\"set_dpi_ratio\", {'dpi_ratio': mpl.ratio});\n",
              "            }\n",
              "            fig.send_message(\"refresh\", {});\n",
              "        }\n",
              "\n",
              "    this.imageObj.onload = function() {\n",
              "            if (fig.image_mode == 'full') {\n",
              "                // Full images could contain transparency (where diff images\n",
              "                // almost always do), so we need to clear the canvas so that\n",
              "                // there is no ghosting.\n",
              "                fig.context.clearRect(0, 0, fig.canvas.width, fig.canvas.height);\n",
              "            }\n",
              "            fig.context.drawImage(fig.imageObj, 0, 0);\n",
              "        };\n",
              "\n",
              "    this.imageObj.onunload = function() {\n",
              "        fig.ws.close();\n",
              "    }\n",
              "\n",
              "    this.ws.onmessage = this._make_on_message_function(this);\n",
              "\n",
              "    this.ondownload = ondownload;\n",
              "}\n",
              "\n",
              "mpl.figure.prototype._init_header = function() {\n",
              "    var titlebar = $(\n",
              "        '<div class=\"ui-dialog-titlebar ui-widget-header ui-corner-all ' +\n",
              "        'ui-helper-clearfix\"/>');\n",
              "    var titletext = $(\n",
              "        '<div class=\"ui-dialog-title\" style=\"width: 100%; ' +\n",
              "        'text-align: center; padding: 3px;\"/>');\n",
              "    titlebar.append(titletext)\n",
              "    this.root.append(titlebar);\n",
              "    this.header = titletext[0];\n",
              "}\n",
              "\n",
              "\n",
              "\n",
              "mpl.figure.prototype._canvas_extra_style = function(canvas_div) {\n",
              "\n",
              "}\n",
              "\n",
              "\n",
              "mpl.figure.prototype._root_extra_style = function(canvas_div) {\n",
              "\n",
              "}\n",
              "\n",
              "mpl.figure.prototype._init_canvas = function() {\n",
              "    var fig = this;\n",
              "\n",
              "    var canvas_div = $('<div/>');\n",
              "\n",
              "    canvas_div.attr('style', 'position: relative; clear: both; outline: 0');\n",
              "\n",
              "    function canvas_keyboard_event(event) {\n",
              "        return fig.key_event(event, event['data']);\n",
              "    }\n",
              "\n",
              "    canvas_div.keydown('key_press', canvas_keyboard_event);\n",
              "    canvas_div.keyup('key_release', canvas_keyboard_event);\n",
              "    this.canvas_div = canvas_div\n",
              "    this._canvas_extra_style(canvas_div)\n",
              "    this.root.append(canvas_div);\n",
              "\n",
              "    var canvas = $('<canvas/>');\n",
              "    canvas.addClass('mpl-canvas');\n",
              "    canvas.attr('style', \"left: 0; top: 0; z-index: 0; outline: 0\")\n",
              "\n",
              "    this.canvas = canvas[0];\n",
              "    this.context = canvas[0].getContext(\"2d\");\n",
              "\n",
              "    var backingStore = this.context.backingStorePixelRatio ||\n",
              "\tthis.context.webkitBackingStorePixelRatio ||\n",
              "\tthis.context.mozBackingStorePixelRatio ||\n",
              "\tthis.context.msBackingStorePixelRatio ||\n",
              "\tthis.context.oBackingStorePixelRatio ||\n",
              "\tthis.context.backingStorePixelRatio || 1;\n",
              "\n",
              "    mpl.ratio = (window.devicePixelRatio || 1) / backingStore;\n",
              "\n",
              "    var rubberband = $('<canvas/>');\n",
              "    rubberband.attr('style', \"position: absolute; left: 0; top: 0; z-index: 1;\")\n",
              "\n",
              "    var pass_mouse_events = true;\n",
              "\n",
              "    canvas_div.resizable({\n",
              "        start: function(event, ui) {\n",
              "            pass_mouse_events = false;\n",
              "        },\n",
              "        resize: function(event, ui) {\n",
              "            fig.request_resize(ui.size.width, ui.size.height);\n",
              "        },\n",
              "        stop: function(event, ui) {\n",
              "            pass_mouse_events = true;\n",
              "            fig.request_resize(ui.size.width, ui.size.height);\n",
              "        },\n",
              "    });\n",
              "\n",
              "    function mouse_event_fn(event) {\n",
              "        if (pass_mouse_events)\n",
              "            return fig.mouse_event(event, event['data']);\n",
              "    }\n",
              "\n",
              "    rubberband.mousedown('button_press', mouse_event_fn);\n",
              "    rubberband.mouseup('button_release', mouse_event_fn);\n",
              "    // Throttle sequential mouse events to 1 every 20ms.\n",
              "    rubberband.mousemove('motion_notify', mouse_event_fn);\n",
              "\n",
              "    rubberband.mouseenter('figure_enter', mouse_event_fn);\n",
              "    rubberband.mouseleave('figure_leave', mouse_event_fn);\n",
              "\n",
              "    canvas_div.on(\"wheel\", function (event) {\n",
              "        event = event.originalEvent;\n",
              "        event['data'] = 'scroll'\n",
              "        if (event.deltaY < 0) {\n",
              "            event.step = 1;\n",
              "        } else {\n",
              "            event.step = -1;\n",
              "        }\n",
              "        mouse_event_fn(event);\n",
              "    });\n",
              "\n",
              "    canvas_div.append(canvas);\n",
              "    canvas_div.append(rubberband);\n",
              "\n",
              "    this.rubberband = rubberband;\n",
              "    this.rubberband_canvas = rubberband[0];\n",
              "    this.rubberband_context = rubberband[0].getContext(\"2d\");\n",
              "    this.rubberband_context.strokeStyle = \"#000000\";\n",
              "\n",
              "    this._resize_canvas = function(width, height) {\n",
              "        // Keep the size of the canvas, canvas container, and rubber band\n",
              "        // canvas in synch.\n",
              "        canvas_div.css('width', width)\n",
              "        canvas_div.css('height', height)\n",
              "\n",
              "        canvas.attr('width', width * mpl.ratio);\n",
              "        canvas.attr('height', height * mpl.ratio);\n",
              "        canvas.attr('style', 'width: ' + width + 'px; height: ' + height + 'px;');\n",
              "\n",
              "        rubberband.attr('width', width);\n",
              "        rubberband.attr('height', height);\n",
              "    }\n",
              "\n",
              "    // Set the figure to an initial 600x600px, this will subsequently be updated\n",
              "    // upon first draw.\n",
              "    this._resize_canvas(600, 600);\n",
              "\n",
              "    // Disable right mouse context menu.\n",
              "    $(this.rubberband_canvas).bind(\"contextmenu\",function(e){\n",
              "        return false;\n",
              "    });\n",
              "\n",
              "    function set_focus () {\n",
              "        canvas.focus();\n",
              "        canvas_div.focus();\n",
              "    }\n",
              "\n",
              "    window.setTimeout(set_focus, 100);\n",
              "}\n",
              "\n",
              "mpl.figure.prototype._init_toolbar = function() {\n",
              "    var fig = this;\n",
              "\n",
              "    var nav_element = $('<div/>');\n",
              "    nav_element.attr('style', 'width: 100%');\n",
              "    this.root.append(nav_element);\n",
              "\n",
              "    // Define a callback function for later on.\n",
              "    function toolbar_event(event) {\n",
              "        return fig.toolbar_button_onclick(event['data']);\n",
              "    }\n",
              "    function toolbar_mouse_event(event) {\n",
              "        return fig.toolbar_button_onmouseover(event['data']);\n",
              "    }\n",
              "\n",
              "    for(var toolbar_ind in mpl.toolbar_items) {\n",
              "        var name = mpl.toolbar_items[toolbar_ind][0];\n",
              "        var tooltip = mpl.toolbar_items[toolbar_ind][1];\n",
              "        var image = mpl.toolbar_items[toolbar_ind][2];\n",
              "        var method_name = mpl.toolbar_items[toolbar_ind][3];\n",
              "\n",
              "        if (!name) {\n",
              "            // put a spacer in here.\n",
              "            continue;\n",
              "        }\n",
              "        var button = $('<button/>');\n",
              "        button.addClass('ui-button ui-widget ui-state-default ui-corner-all ' +\n",
              "                        'ui-button-icon-only');\n",
              "        button.attr('role', 'button');\n",
              "        button.attr('aria-disabled', 'false');\n",
              "        button.click(method_name, toolbar_event);\n",
              "        button.mouseover(tooltip, toolbar_mouse_event);\n",
              "\n",
              "        var icon_img = $('<span/>');\n",
              "        icon_img.addClass('ui-button-icon-primary ui-icon');\n",
              "        icon_img.addClass(image);\n",
              "        icon_img.addClass('ui-corner-all');\n",
              "\n",
              "        var tooltip_span = $('<span/>');\n",
              "        tooltip_span.addClass('ui-button-text');\n",
              "        tooltip_span.html(tooltip);\n",
              "\n",
              "        button.append(icon_img);\n",
              "        button.append(tooltip_span);\n",
              "\n",
              "        nav_element.append(button);\n",
              "    }\n",
              "\n",
              "    var fmt_picker_span = $('<span/>');\n",
              "\n",
              "    var fmt_picker = $('<select/>');\n",
              "    fmt_picker.addClass('mpl-toolbar-option ui-widget ui-widget-content');\n",
              "    fmt_picker_span.append(fmt_picker);\n",
              "    nav_element.append(fmt_picker_span);\n",
              "    this.format_dropdown = fmt_picker[0];\n",
              "\n",
              "    for (var ind in mpl.extensions) {\n",
              "        var fmt = mpl.extensions[ind];\n",
              "        var option = $(\n",
              "            '<option/>', {selected: fmt === mpl.default_extension}).html(fmt);\n",
              "        fmt_picker.append(option);\n",
              "    }\n",
              "\n",
              "    // Add hover states to the ui-buttons\n",
              "    $( \".ui-button\" ).hover(\n",
              "        function() { $(this).addClass(\"ui-state-hover\");},\n",
              "        function() { $(this).removeClass(\"ui-state-hover\");}\n",
              "    );\n",
              "\n",
              "    var status_bar = $('<span class=\"mpl-message\"/>');\n",
              "    nav_element.append(status_bar);\n",
              "    this.message = status_bar[0];\n",
              "}\n",
              "\n",
              "mpl.figure.prototype.request_resize = function(x_pixels, y_pixels) {\n",
              "    // Request matplotlib to resize the figure. Matplotlib will then trigger a resize in the client,\n",
              "    // which will in turn request a refresh of the image.\n",
              "    this.send_message('resize', {'width': x_pixels, 'height': y_pixels});\n",
              "}\n",
              "\n",
              "mpl.figure.prototype.send_message = function(type, properties) {\n",
              "    properties['type'] = type;\n",
              "    properties['figure_id'] = this.id;\n",
              "    this.ws.send(JSON.stringify(properties));\n",
              "}\n",
              "\n",
              "mpl.figure.prototype.send_draw_message = function() {\n",
              "    if (!this.waiting) {\n",
              "        this.waiting = true;\n",
              "        this.ws.send(JSON.stringify({type: \"draw\", figure_id: this.id}));\n",
              "    }\n",
              "}\n",
              "\n",
              "\n",
              "mpl.figure.prototype.handle_save = function(fig, msg) {\n",
              "    var format_dropdown = fig.format_dropdown;\n",
              "    var format = format_dropdown.options[format_dropdown.selectedIndex].value;\n",
              "    fig.ondownload(fig, format);\n",
              "}\n",
              "\n",
              "\n",
              "mpl.figure.prototype.handle_resize = function(fig, msg) {\n",
              "    var size = msg['size'];\n",
              "    if (size[0] != fig.canvas.width || size[1] != fig.canvas.height) {\n",
              "        fig._resize_canvas(size[0], size[1]);\n",
              "        fig.send_message(\"refresh\", {});\n",
              "    };\n",
              "}\n",
              "\n",
              "mpl.figure.prototype.handle_rubberband = function(fig, msg) {\n",
              "    var x0 = msg['x0'] / mpl.ratio;\n",
              "    var y0 = (fig.canvas.height - msg['y0']) / mpl.ratio;\n",
              "    var x1 = msg['x1'] / mpl.ratio;\n",
              "    var y1 = (fig.canvas.height - msg['y1']) / mpl.ratio;\n",
              "    x0 = Math.floor(x0) + 0.5;\n",
              "    y0 = Math.floor(y0) + 0.5;\n",
              "    x1 = Math.floor(x1) + 0.5;\n",
              "    y1 = Math.floor(y1) + 0.5;\n",
              "    var min_x = Math.min(x0, x1);\n",
              "    var min_y = Math.min(y0, y1);\n",
              "    var width = Math.abs(x1 - x0);\n",
              "    var height = Math.abs(y1 - y0);\n",
              "\n",
              "    fig.rubberband_context.clearRect(\n",
              "        0, 0, fig.canvas.width / mpl.ratio, fig.canvas.height / mpl.ratio);\n",
              "\n",
              "    fig.rubberband_context.strokeRect(min_x, min_y, width, height);\n",
              "}\n",
              "\n",
              "mpl.figure.prototype.handle_figure_label = function(fig, msg) {\n",
              "    // Updates the figure title.\n",
              "    fig.header.textContent = msg['label'];\n",
              "}\n",
              "\n",
              "mpl.figure.prototype.handle_cursor = function(fig, msg) {\n",
              "    var cursor = msg['cursor'];\n",
              "    switch(cursor)\n",
              "    {\n",
              "    case 0:\n",
              "        cursor = 'pointer';\n",
              "        break;\n",
              "    case 1:\n",
              "        cursor = 'default';\n",
              "        break;\n",
              "    case 2:\n",
              "        cursor = 'crosshair';\n",
              "        break;\n",
              "    case 3:\n",
              "        cursor = 'move';\n",
              "        break;\n",
              "    }\n",
              "    fig.rubberband_canvas.style.cursor = cursor;\n",
              "}\n",
              "\n",
              "mpl.figure.prototype.handle_message = function(fig, msg) {\n",
              "    fig.message.textContent = msg['message'];\n",
              "}\n",
              "\n",
              "mpl.figure.prototype.handle_draw = function(fig, msg) {\n",
              "    // Request the server to send over a new figure.\n",
              "    fig.send_draw_message();\n",
              "}\n",
              "\n",
              "mpl.figure.prototype.handle_image_mode = function(fig, msg) {\n",
              "    fig.image_mode = msg['mode'];\n",
              "}\n",
              "\n",
              "mpl.figure.prototype.updated_canvas_event = function() {\n",
              "    // Called whenever the canvas gets updated.\n",
              "    this.send_message(\"ack\", {});\n",
              "}\n",
              "\n",
              "// A function to construct a web socket function for onmessage handling.\n",
              "// Called in the figure constructor.\n",
              "mpl.figure.prototype._make_on_message_function = function(fig) {\n",
              "    return function socket_on_message(evt) {\n",
              "        if (evt.data instanceof Blob) {\n",
              "            /* FIXME: We get \"Resource interpreted as Image but\n",
              "             * transferred with MIME type text/plain:\" errors on\n",
              "             * Chrome.  But how to set the MIME type?  It doesn't seem\n",
              "             * to be part of the websocket stream */\n",
              "            evt.data.type = \"image/png\";\n",
              "\n",
              "            /* Free the memory for the previous frames */\n",
              "            if (fig.imageObj.src) {\n",
              "                (window.URL || window.webkitURL).revokeObjectURL(\n",
              "                    fig.imageObj.src);\n",
              "            }\n",
              "\n",
              "            fig.imageObj.src = (window.URL || window.webkitURL).createObjectURL(\n",
              "                evt.data);\n",
              "            fig.updated_canvas_event();\n",
              "            fig.waiting = false;\n",
              "            return;\n",
              "        }\n",
              "        else if (typeof evt.data === 'string' && evt.data.slice(0, 21) == \"data:image/png;base64\") {\n",
              "            fig.imageObj.src = evt.data;\n",
              "            fig.updated_canvas_event();\n",
              "            fig.waiting = false;\n",
              "            return;\n",
              "        }\n",
              "\n",
              "        var msg = JSON.parse(evt.data);\n",
              "        var msg_type = msg['type'];\n",
              "\n",
              "        // Call the  \"handle_{type}\" callback, which takes\n",
              "        // the figure and JSON message as its only arguments.\n",
              "        try {\n",
              "            var callback = fig[\"handle_\" + msg_type];\n",
              "        } catch (e) {\n",
              "            console.log(\"No handler for the '\" + msg_type + \"' message type: \", msg);\n",
              "            return;\n",
              "        }\n",
              "\n",
              "        if (callback) {\n",
              "            try {\n",
              "                // console.log(\"Handling '\" + msg_type + \"' message: \", msg);\n",
              "                callback(fig, msg);\n",
              "            } catch (e) {\n",
              "                console.log(\"Exception inside the 'handler_\" + msg_type + \"' callback:\", e, e.stack, msg);\n",
              "            }\n",
              "        }\n",
              "    };\n",
              "}\n",
              "\n",
              "// from http://stackoverflow.com/questions/1114465/getting-mouse-location-in-canvas\n",
              "mpl.findpos = function(e) {\n",
              "    //this section is from http://www.quirksmode.org/js/events_properties.html\n",
              "    var targ;\n",
              "    if (!e)\n",
              "        e = window.event;\n",
              "    if (e.target)\n",
              "        targ = e.target;\n",
              "    else if (e.srcElement)\n",
              "        targ = e.srcElement;\n",
              "    if (targ.nodeType == 3) // defeat Safari bug\n",
              "        targ = targ.parentNode;\n",
              "\n",
              "    // jQuery normalizes the pageX and pageY\n",
              "    // pageX,Y are the mouse positions relative to the document\n",
              "    // offset() returns the position of the element relative to the document\n",
              "    var x = e.pageX - $(targ).offset().left;\n",
              "    var y = e.pageY - $(targ).offset().top;\n",
              "\n",
              "    return {\"x\": x, \"y\": y};\n",
              "};\n",
              "\n",
              "/*\n",
              " * return a copy of an object with only non-object keys\n",
              " * we need this to avoid circular references\n",
              " * http://stackoverflow.com/a/24161582/3208463\n",
              " */\n",
              "function simpleKeys (original) {\n",
              "  return Object.keys(original).reduce(function (obj, key) {\n",
              "    if (typeof original[key] !== 'object')\n",
              "        obj[key] = original[key]\n",
              "    return obj;\n",
              "  }, {});\n",
              "}\n",
              "\n",
              "mpl.figure.prototype.mouse_event = function(event, name) {\n",
              "    var canvas_pos = mpl.findpos(event)\n",
              "\n",
              "    if (name === 'button_press')\n",
              "    {\n",
              "        this.canvas.focus();\n",
              "        this.canvas_div.focus();\n",
              "    }\n",
              "\n",
              "    var x = canvas_pos.x * mpl.ratio;\n",
              "    var y = canvas_pos.y * mpl.ratio;\n",
              "\n",
              "    this.send_message(name, {x: x, y: y, button: event.button,\n",
              "                             step: event.step,\n",
              "                             guiEvent: simpleKeys(event)});\n",
              "\n",
              "    /* This prevents the web browser from automatically changing to\n",
              "     * the text insertion cursor when the button is pressed.  We want\n",
              "     * to control all of the cursor setting manually through the\n",
              "     * 'cursor' event from matplotlib */\n",
              "    event.preventDefault();\n",
              "    return false;\n",
              "}\n",
              "\n",
              "mpl.figure.prototype._key_event_extra = function(event, name) {\n",
              "    // Handle any extra behaviour associated with a key event\n",
              "}\n",
              "\n",
              "mpl.figure.prototype.key_event = function(event, name) {\n",
              "\n",
              "    // Prevent repeat events\n",
              "    if (name == 'key_press')\n",
              "    {\n",
              "        if (event.which === this._key)\n",
              "            return;\n",
              "        else\n",
              "            this._key = event.which;\n",
              "    }\n",
              "    if (name == 'key_release')\n",
              "        this._key = null;\n",
              "\n",
              "    var value = '';\n",
              "    if (event.ctrlKey && event.which != 17)\n",
              "        value += \"ctrl+\";\n",
              "    if (event.altKey && event.which != 18)\n",
              "        value += \"alt+\";\n",
              "    if (event.shiftKey && event.which != 16)\n",
              "        value += \"shift+\";\n",
              "\n",
              "    value += 'k';\n",
              "    value += event.which.toString();\n",
              "\n",
              "    this._key_event_extra(event, name);\n",
              "\n",
              "    this.send_message(name, {key: value,\n",
              "                             guiEvent: simpleKeys(event)});\n",
              "    return false;\n",
              "}\n",
              "\n",
              "mpl.figure.prototype.toolbar_button_onclick = function(name) {\n",
              "    if (name == 'download') {\n",
              "        this.handle_save(this, null);\n",
              "    } else {\n",
              "        this.send_message(\"toolbar_button\", {name: name});\n",
              "    }\n",
              "};\n",
              "\n",
              "mpl.figure.prototype.toolbar_button_onmouseover = function(tooltip) {\n",
              "    this.message.textContent = tooltip;\n",
              "};\n",
              "mpl.toolbar_items = [[\"Home\", \"Reset original view\", \"fa fa-home icon-home\", \"home\"], [\"Back\", \"Back to previous view\", \"fa fa-arrow-left icon-arrow-left\", \"back\"], [\"Forward\", \"Forward to next view\", \"fa fa-arrow-right icon-arrow-right\", \"forward\"], [\"\", \"\", \"\", \"\"], [\"Pan\", \"Pan axes with left mouse, zoom with right\", \"fa fa-arrows icon-move\", \"pan\"], [\"Zoom\", \"Zoom to rectangle\", \"fa fa-square-o icon-check-empty\", \"zoom\"], [\"\", \"\", \"\", \"\"], [\"Download\", \"Download plot\", \"fa fa-floppy-o icon-save\", \"download\"]];\n",
              "\n",
              "mpl.extensions = [\"eps\", \"jpeg\", \"pdf\", \"png\", \"ps\", \"raw\", \"svg\", \"tif\"];\n",
              "\n",
              "mpl.default_extension = \"png\";var comm_websocket_adapter = function(comm) {\n",
              "    // Create a \"websocket\"-like object which calls the given IPython comm\n",
              "    // object with the appropriate methods. Currently this is a non binary\n",
              "    // socket, so there is still some room for performance tuning.\n",
              "    var ws = {};\n",
              "\n",
              "    ws.close = function() {\n",
              "        comm.close()\n",
              "    };\n",
              "    ws.send = function(m) {\n",
              "        //console.log('sending', m);\n",
              "        comm.send(m);\n",
              "    };\n",
              "    // Register the callback with on_msg.\n",
              "    comm.on_msg(function(msg) {\n",
              "        //console.log('receiving', msg['content']['data'], msg);\n",
              "        // Pass the mpl event to the overridden (by mpl) onmessage function.\n",
              "        ws.onmessage(msg['content']['data'])\n",
              "    });\n",
              "    return ws;\n",
              "}\n",
              "\n",
              "mpl.mpl_figure_comm = function(comm, msg) {\n",
              "    // This is the function which gets called when the mpl process\n",
              "    // starts-up an IPython Comm through the \"matplotlib\" channel.\n",
              "\n",
              "    var id = msg.content.data.id;\n",
              "    // Get hold of the div created by the display call when the Comm\n",
              "    // socket was opened in Python.\n",
              "    var element = $(\"#\" + id);\n",
              "    var ws_proxy = comm_websocket_adapter(comm)\n",
              "\n",
              "    function ondownload(figure, format) {\n",
              "        window.open(figure.imageObj.src);\n",
              "    }\n",
              "\n",
              "    var fig = new mpl.figure(id, ws_proxy,\n",
              "                           ondownload,\n",
              "                           element.get(0));\n",
              "\n",
              "    // Call onopen now - mpl needs it, as it is assuming we've passed it a real\n",
              "    // web socket which is closed, not our websocket->open comm proxy.\n",
              "    ws_proxy.onopen();\n",
              "\n",
              "    fig.parent_element = element.get(0);\n",
              "    fig.cell_info = mpl.find_output_cell(\"<div id='\" + id + \"'></div>\");\n",
              "    if (!fig.cell_info) {\n",
              "        console.error(\"Failed to find cell for figure\", id, fig);\n",
              "        return;\n",
              "    }\n",
              "\n",
              "    var output_index = fig.cell_info[2]\n",
              "    var cell = fig.cell_info[0];\n",
              "\n",
              "};\n",
              "\n",
              "mpl.figure.prototype.handle_close = function(fig, msg) {\n",
              "    var width = fig.canvas.width/mpl.ratio\n",
              "    fig.root.unbind('remove')\n",
              "\n",
              "    // Update the output cell to use the data from the current canvas.\n",
              "    fig.push_to_output();\n",
              "    var dataURL = fig.canvas.toDataURL();\n",
              "    // Re-enable the keyboard manager in IPython - without this line, in FF,\n",
              "    // the notebook keyboard shortcuts fail.\n",
              "    IPython.keyboard_manager.enable()\n",
              "    $(fig.parent_element).html('<img src=\"' + dataURL + '\" width=\"' + width + '\">');\n",
              "    fig.close_ws(fig, msg);\n",
              "}\n",
              "\n",
              "mpl.figure.prototype.close_ws = function(fig, msg){\n",
              "    fig.send_message('closing', msg);\n",
              "    // fig.ws.close()\n",
              "}\n",
              "\n",
              "mpl.figure.prototype.push_to_output = function(remove_interactive) {\n",
              "    // Turn the data on the canvas into data in the output cell.\n",
              "    var width = this.canvas.width/mpl.ratio\n",
              "    var dataURL = this.canvas.toDataURL();\n",
              "    this.cell_info[1]['text/html'] = '<img src=\"' + dataURL + '\" width=\"' + width + '\">';\n",
              "}\n",
              "\n",
              "mpl.figure.prototype.updated_canvas_event = function() {\n",
              "    // Tell IPython that the notebook contents must change.\n",
              "    IPython.notebook.set_dirty(true);\n",
              "    this.send_message(\"ack\", {});\n",
              "    var fig = this;\n",
              "    // Wait a second, then push the new image to the DOM so\n",
              "    // that it is saved nicely (might be nice to debounce this).\n",
              "    setTimeout(function () { fig.push_to_output() }, 1000);\n",
              "}\n",
              "\n",
              "mpl.figure.prototype._init_toolbar = function() {\n",
              "    var fig = this;\n",
              "\n",
              "    var nav_element = $('<div/>');\n",
              "    nav_element.attr('style', 'width: 100%');\n",
              "    this.root.append(nav_element);\n",
              "\n",
              "    // Define a callback function for later on.\n",
              "    function toolbar_event(event) {\n",
              "        return fig.toolbar_button_onclick(event['data']);\n",
              "    }\n",
              "    function toolbar_mouse_event(event) {\n",
              "        return fig.toolbar_button_onmouseover(event['data']);\n",
              "    }\n",
              "\n",
              "    for(var toolbar_ind in mpl.toolbar_items){\n",
              "        var name = mpl.toolbar_items[toolbar_ind][0];\n",
              "        var tooltip = mpl.toolbar_items[toolbar_ind][1];\n",
              "        var image = mpl.toolbar_items[toolbar_ind][2];\n",
              "        var method_name = mpl.toolbar_items[toolbar_ind][3];\n",
              "\n",
              "        if (!name) { continue; };\n",
              "\n",
              "        var button = $('<button class=\"btn btn-default\" href=\"#\" title=\"' + name + '\"><i class=\"fa ' + image + ' fa-lg\"></i></button>');\n",
              "        button.click(method_name, toolbar_event);\n",
              "        button.mouseover(tooltip, toolbar_mouse_event);\n",
              "        nav_element.append(button);\n",
              "    }\n",
              "\n",
              "    // Add the status bar.\n",
              "    var status_bar = $('<span class=\"mpl-message\" style=\"text-align:right; float: right;\"/>');\n",
              "    nav_element.append(status_bar);\n",
              "    this.message = status_bar[0];\n",
              "\n",
              "    // Add the close button to the window.\n",
              "    var buttongrp = $('<div class=\"btn-group inline pull-right\"></div>');\n",
              "    var button = $('<button class=\"btn btn-mini btn-primary\" href=\"#\" title=\"Stop Interaction\"><i class=\"fa fa-power-off icon-remove icon-large\"></i></button>');\n",
              "    button.click(function (evt) { fig.handle_close(fig, {}); } );\n",
              "    button.mouseover('Stop Interaction', toolbar_mouse_event);\n",
              "    buttongrp.append(button);\n",
              "    var titlebar = this.root.find($('.ui-dialog-titlebar'));\n",
              "    titlebar.prepend(buttongrp);\n",
              "}\n",
              "\n",
              "mpl.figure.prototype._root_extra_style = function(el){\n",
              "    var fig = this\n",
              "    el.on(\"remove\", function(){\n",
              "\tfig.close_ws(fig, {});\n",
              "    });\n",
              "}\n",
              "\n",
              "mpl.figure.prototype._canvas_extra_style = function(el){\n",
              "    // this is important to make the div 'focusable\n",
              "    el.attr('tabindex', 0)\n",
              "    // reach out to IPython and tell the keyboard manager to turn it's self\n",
              "    // off when our div gets focus\n",
              "\n",
              "    // location in version 3\n",
              "    if (IPython.notebook.keyboard_manager) {\n",
              "        IPython.notebook.keyboard_manager.register_events(el);\n",
              "    }\n",
              "    else {\n",
              "        // location in version 2\n",
              "        IPython.keyboard_manager.register_events(el);\n",
              "    }\n",
              "\n",
              "}\n",
              "\n",
              "mpl.figure.prototype._key_event_extra = function(event, name) {\n",
              "    var manager = IPython.notebook.keyboard_manager;\n",
              "    if (!manager)\n",
              "        manager = IPython.keyboard_manager;\n",
              "\n",
              "    // Check for shift+enter\n",
              "    if (event.shiftKey && event.which == 13) {\n",
              "        this.canvas_div.blur();\n",
              "        // select the cell after this one\n",
              "        var index = IPython.notebook.find_cell_index(this.cell_info[0]);\n",
              "        IPython.notebook.select(index + 1);\n",
              "    }\n",
              "}\n",
              "\n",
              "mpl.figure.prototype.handle_save = function(fig, msg) {\n",
              "    fig.ondownload(fig, null);\n",
              "}\n",
              "\n",
              "\n",
              "mpl.find_output_cell = function(html_output) {\n",
              "    // Return the cell and output element which can be found *uniquely* in the notebook.\n",
              "    // Note - this is a bit hacky, but it is done because the \"notebook_saving.Notebook\"\n",
              "    // IPython event is triggered only after the cells have been serialised, which for\n",
              "    // our purposes (turning an active figure into a static one), is too late.\n",
              "    var cells = IPython.notebook.get_cells();\n",
              "    var ncells = cells.length;\n",
              "    for (var i=0; i<ncells; i++) {\n",
              "        var cell = cells[i];\n",
              "        if (cell.cell_type === 'code'){\n",
              "            for (var j=0; j<cell.output_area.outputs.length; j++) {\n",
              "                var data = cell.output_area.outputs[j];\n",
              "                if (data.data) {\n",
              "                    // IPython >= 3 moved mimebundle to data attribute of output\n",
              "                    data = data.data;\n",
              "                }\n",
              "                if (data['text/html'] == html_output) {\n",
              "                    return [cell, data, j];\n",
              "                }\n",
              "            }\n",
              "        }\n",
              "    }\n",
              "}\n",
              "\n",
              "// Register the function which deals with the matplotlib target/channel.\n",
              "// The kernel may be null if the page has been refreshed.\n",
              "if (IPython.notebook.kernel != null) {\n",
              "    IPython.notebook.kernel.comm_manager.register_target('matplotlib', mpl.mpl_figure_comm);\n",
              "}\n"
            ],
            "text/plain": [
              "<IPython.core.display.Javascript object>"
            ]
          },
          "metadata": {}
        },
        {
          "output_type": "display_data",
          "data": {
            "text/html": [
              "<div id='656eac93-edf4-4bda-99d4-3062c1b0cb09'></div>"
            ],
            "text/plain": [
              "<IPython.core.display.HTML object>"
            ]
          },
          "metadata": {}
        },
        {
          "output_type": "stream",
          "name": "stdout",
          "text": [
            "[8]\n"
          ]
        }
      ],
      "source": [
        "from sklearn import svm\n",
        "\n",
        "clf = svm.SVC(gamma=0.001,C=100.)\n",
        "\n",
        "clf.fit(digits.data[:-1],digits.target[:-1])\n",
        "\n",
        "plt.figure(figsize=(3,3))\n",
        "plt.imshow(digits.images[-1],cmap=plt.cm.gray_r,interpolation='nearest')\n",
        "plt.show()\n",
        "\n",
        "print(clf.predict(digits.data[-1:]))"
      ]
    },
    {
      "cell_type": "code",
      "execution_count": null,
      "metadata": {
        "id": "GiGSwSxUCtYV",
        "outputId": "056eee1c-c599-4c7e-adc0-18eb9e27ab2b",
        "colab": {
          "base_uri": "https://localhost:8080/",
          "height": 34
        }
      },
      "outputs": [
        {
          "output_type": "stream",
          "name": "stdout",
          "text": [
            "[8]\n"
          ]
        }
      ],
      "source": [
        "import pickle\n",
        "\n",
        "s = pickle.dumps(clf)\n",
        "\n",
        "clf2 = pickle.loads(s)\n",
        "\n",
        "print(clf2.predict(digits.data[-1:]))"
      ]
    },
    {
      "cell_type": "markdown",
      "metadata": {
        "id": "0dbaJ0hfCtYV"
      },
      "source": [
        "## Ejercicios"
      ]
    },
    {
      "cell_type": "markdown",
      "metadata": {
        "id": "UOtMsBWWCtYW"
      },
      "source": [
        "### Crea un array de 3 dimensiones y tamaño 2x3x4 con elementos aleatorios e imprímelo en pantalla"
      ]
    },
    {
      "cell_type": "code",
      "execution_count": null,
      "metadata": {
        "id": "rmddAti7CtYX",
        "outputId": "e23f0473-047a-4a6d-8e10-48caee9cdd6f",
        "colab": {
          "base_uri": "https://localhost:8080/",
          "height": 208
        }
      },
      "outputs": [
        {
          "output_type": "stream",
          "name": "stdout",
          "text": [
            "[[[0.09222611 0.88252367 0.76884681 0.62486575]\n",
            "  [0.4415658  0.67414014 0.42462593 0.77449136]\n",
            "  [0.48234872 0.45919727 0.71079317 0.6717563 ]]\n",
            "\n",
            " [[0.23666657 0.58243905 0.52948793 0.9294154 ]\n",
            "  [0.25810762 0.03719195 0.14331784 0.15545521]\n",
            "  [0.0574958  0.96152898 0.56179751 0.74259087]]]\n",
            "[[0.09222611 0.88252367 0.76884681 0.62486575 0.4415658  0.67414014]\n",
            " [0.42462593 0.77449136 0.48234872 0.45919727 0.71079317 0.6717563 ]\n",
            " [0.23666657 0.58243905 0.52948793 0.9294154  0.25810762 0.03719195]\n",
            " [0.14331784 0.15545521 0.0574958  0.96152898 0.56179751 0.74259087]]\n"
          ]
        }
      ],
      "source": [
        "u = np.matlib.rand(4,6)\n",
        "print( np.array(u).reshape(2,3,4))\n",
        "print(u)\n"
      ]
    },
    {
      "cell_type": "markdown",
      "metadata": {
        "id": "pzmcyxnVCtYX"
      },
      "source": [
        "### Crea un nuevo array de 2 dimensiones, de elementos aleatorios y tamaño 100x14, e insértale una columna de 1s a la izquierda"
      ]
    },
    {
      "cell_type": "code",
      "execution_count": 7,
      "metadata": {
        "id": "rEfJSfCqCtYY",
        "outputId": "2360eab1-7e46-4d61-d391-f392afc2bf8a",
        "colab": {
          "base_uri": "https://localhost:8080/"
        }
      },
      "outputs": [
        {
          "output_type": "stream",
          "name": "stdout",
          "text": [
            "[[0.97278782 0.23686161 0.0131895  ... 0.95300594 0.53471259 0.46869716]\n",
            " [0.87135497 0.03987748 0.77028794 ... 0.28407196 0.31485788 0.40450427]\n",
            " [0.05520491 0.46897433 0.99059153 ... 0.46120663 0.14709397 0.48439302]\n",
            " ...\n",
            " [0.14243997 0.59820431 0.09735055 ... 0.3349565  0.56619544 0.01835675]\n",
            " [0.57745476 0.2200992  0.26040061 ... 0.24081381 0.37125884 0.45009867]\n",
            " [0.20220543 0.85860185 0.26174498 ... 0.67407625 0.4710825  0.84260848]]\n",
            "[[0.97278782 0.23686161 0.0131895  ... 0.53471259 0.46869716 0.76845913]\n",
            " [0.87135497 0.03987748 0.77028794 ... 0.31485788 0.40450427 0.17181574]\n",
            " [0.05520491 0.46897433 0.99059153 ... 0.14709397 0.48439302 0.31594916]\n",
            " ...\n",
            " [0.14243997 0.59820431 0.09735055 ... 0.56619544 0.01835675 0.33579298]\n",
            " [0.57745476 0.2200992  0.26040061 ... 0.37125884 0.45009867 0.63312597]\n",
            " [0.20220543 0.85860185 0.26174498 ... 0.4710825  0.84260848 0.16089731]]\n"
          ]
        }
      ],
      "source": [
        "ra =  np.matlib.rand(100,14)\n",
        "ra2 = np.insert(ra,14,np.matlib.rand(100),axis =1)\n",
        "print(ra)\n",
        "print(ra2)"
      ]
    },
    {
      "cell_type": "markdown",
      "metadata": {
        "id": "Sl7LVdCkCtYY"
      },
      "source": [
        "### Crea un nuevo array de 2 dimensiones, de elementos aleatorios y tamaño 1x15 y multiplica su transpuesta por el resultado del ejercicio anterior"
      ]
    },
    {
      "cell_type": "code",
      "execution_count": 8,
      "metadata": {
        "id": "DGG7vLNiCtYY",
        "colab": {
          "base_uri": "https://localhost:8080/"
        },
        "outputId": "f48f85f2-199b-42ec-e122-33f6bcb593a1"
      },
      "outputs": [
        {
          "output_type": "stream",
          "name": "stdout",
          "text": [
            "[[4.71029503]\n",
            " [4.50676076]\n",
            " [3.53877033]\n",
            " [4.2149584 ]\n",
            " [4.70983549]\n",
            " [3.99461455]\n",
            " [4.31415908]\n",
            " [3.56689376]\n",
            " [3.47435733]\n",
            " [3.25218811]\n",
            " [3.73506486]\n",
            " [4.13287027]\n",
            " [5.24127659]\n",
            " [4.60886334]\n",
            " [4.89748572]\n",
            " [4.75043586]\n",
            " [4.36232978]\n",
            " [3.61420768]\n",
            " [4.27396576]\n",
            " [4.83780107]\n",
            " [3.73168173]\n",
            " [4.86837801]\n",
            " [3.98395206]\n",
            " [3.71287423]\n",
            " [3.97342387]\n",
            " [5.62736903]\n",
            " [2.8883934 ]\n",
            " [4.30196244]\n",
            " [5.17018125]\n",
            " [5.00271187]\n",
            " [2.99651437]\n",
            " [4.64391542]\n",
            " [4.09597141]\n",
            " [3.80252685]\n",
            " [3.83771218]\n",
            " [2.5512158 ]\n",
            " [3.92472514]\n",
            " [2.74423439]\n",
            " [3.42601095]\n",
            " [4.40573372]\n",
            " [3.67439273]\n",
            " [4.43012837]\n",
            " [4.55720763]\n",
            " [3.18879263]\n",
            " [3.78829323]\n",
            " [3.77881734]\n",
            " [5.13986459]\n",
            " [4.2770432 ]\n",
            " [3.64905118]\n",
            " [3.55020955]\n",
            " [3.17800077]\n",
            " [4.20594092]\n",
            " [3.75970759]\n",
            " [2.87316283]\n",
            " [4.99408029]\n",
            " [3.28929452]\n",
            " [5.06507511]\n",
            " [3.73661806]\n",
            " [3.57178844]\n",
            " [4.55262532]\n",
            " [3.34593367]\n",
            " [4.35406656]\n",
            " [3.65252288]\n",
            " [4.67299073]\n",
            " [4.01066938]\n",
            " [3.21933911]\n",
            " [2.95168347]\n",
            " [3.94251681]\n",
            " [3.92443808]\n",
            " [4.64947246]\n",
            " [3.65053079]\n",
            " [4.47060807]\n",
            " [4.41200222]\n",
            " [4.47789379]\n",
            " [3.66545031]\n",
            " [4.52964596]\n",
            " [4.02356557]\n",
            " [4.23335844]\n",
            " [3.50378056]\n",
            " [3.81721747]\n",
            " [3.43681096]\n",
            " [3.9713275 ]\n",
            " [3.90579416]\n",
            " [3.94352977]\n",
            " [2.73254247]\n",
            " [3.50999387]\n",
            " [4.46368117]\n",
            " [4.40098093]\n",
            " [3.43821779]\n",
            " [3.96498397]\n",
            " [5.12639597]\n",
            " [4.25476562]\n",
            " [3.64028274]\n",
            " [3.64690678]\n",
            " [3.2657158 ]\n",
            " [5.04854467]\n",
            " [3.20392521]\n",
            " [2.99937681]\n",
            " [4.26671233]\n",
            " [3.78697615]]\n"
          ]
        }
      ],
      "source": [
        "ra3 = np.matlib.rand(15)\n",
        "ra4 = ra2*ra3.T\n",
        "print(ra4)"
      ]
    },
    {
      "cell_type": "markdown",
      "metadata": {
        "id": "-BdevwE6CtYZ"
      },
      "source": [
        "### Representa en una gráfica el resultado del ejercicio anterior"
      ]
    },
    {
      "cell_type": "code",
      "execution_count": 10,
      "metadata": {
        "id": "-gZvG66vCtYZ",
        "colab": {
          "base_uri": "https://localhost:8080/",
          "height": 295
        },
        "outputId": "26ce377e-efee-4721-9485-3189a44c45b3"
      },
      "outputs": [
        {
          "output_type": "display_data",
          "data": {
            "image/png": "[encoded data removed]",
            "text/plain": [
              "<Figure size 432x288 with 2 Axes>"
            ]
          },
          "metadata": {
            "needs_background": "light"
          }
        }
      ],
      "source": [
        "x= np.arange(100)\n",
        "y = np.asarray(ra4).flatten()\n",
        "fig, ax = plt.subplots(1,2)\n",
        "# no sabia que tipo de grafica querias asi que he hecho un par\n",
        "ax[0].set_title(\"random numbers function\")\n",
        "ax[0].set_xlabel(\"eje X\")\n",
        "ax[0].set_ylabel(\"eje Y\")\n",
        "ax[0].plot(x,y)\n",
        "ax[1].set_title(\"random numbers points\")\n",
        "ax[1].set_xlabel(\"eje X\")\n",
        "ax[1].set_ylabel(\"eje Y\")\n",
        "ax[1].plot(x,y,'o')\n",
        "plt.draw()"
      ]
    }
  ],
  "metadata": {
    "environment": {
      "name": "common-cpu.m54",
      "type": "gcloud",
      "uri": "gcr.io/deeplearning-platform-release/base-cpu:m54"
    },
    "kernelspec": {
      "display_name": "Python 3",
      "language": "python",
      "name": "python3"
    },
    "language_info": {
      "codemirror_mode": {
        "name": "ipython",
        "version": 3
      },
      "file_extension": ".py",
      "mimetype": "text/x-python",
      "name": "python",
      "nbconvert_exporter": "python",
      "pygments_lexer": "ipython3",
      "version": "3.7.8"
    },
    "colab": {
      "name": "modulo1-unidad2-ejercicio3.ipynb",
      "provenance": [],
      "include_colab_link": true
    }
  },
  "nbformat": 4,
  "nbformat_minor": 0
}