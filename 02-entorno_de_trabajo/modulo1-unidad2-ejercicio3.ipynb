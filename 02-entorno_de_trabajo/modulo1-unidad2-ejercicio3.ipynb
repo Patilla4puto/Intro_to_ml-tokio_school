{
  "cells": [
    {
      "cell_type": "markdown",
      "metadata": {
        "id": "view-in-github",
        "colab_type": "text"
      },
      "source": [
        "<a href=\"https://colab.research.google.com/github/Patilla4puto/Intro_to_ml-tokio_school/blob/master/02-entorno_de_trabajo/modulo1-unidad2-ejercicio3.ipynb\" target=\"_parent\"><img src=\"https://colab.research.google.com/assets/colab-badge.svg\" alt=\"Open In Colab\"/></a>"
      ]
    },
    {
      "cell_type": "markdown",
      "metadata": {
        "id": "_kzeBocnCtXO"
      },
      "source": [
        "# Introducción a las librerías usadas"
      ]
    },
    {
      "cell_type": "markdown",
      "metadata": {
        "id": "xSSPdE-qCtXY"
      },
      "source": [
        "En este notebook veremos una breve introducción a las librerías:\n",
        "- Jupyter\n",
        "- Numpy\n",
        "- Matplotlib\n",
        "- Scikit-learn\n",
        "\n",
        "El \"kernel\" o lenguaje usado por el notebook y las librerías es Python 3.\n",
        "\n",
        "Para este ejercicio, simplemente ejecuta todas las celdas y revisa las diferentes funciones utilizadas. Al final del mismo tendrás unos pocos ejercicios para resolver."
      ]
    },
    {
      "cell_type": "code",
      "execution_count": 1,
      "metadata": {
        "id": "rttYgW6pCtXa",
        "outputId": "04c17772-2c33-4adf-ba18-8a4d8ff49ba4",
        "colab": {
          "base_uri": "https://localhost:8080/"
        }
      },
      "outputs": [
        {
          "output_type": "stream",
          "name": "stdout",
          "text": [
            "[ 8 17 26]\n",
            "[[[ 0  1  2]\n",
            "  [ 3  4  5]\n",
            "  [ 6  7  8]]\n",
            "\n",
            " [[ 9 10 11]\n",
            "  [12 13 14]\n",
            "  [15 16 17]]\n",
            "\n",
            " [[18 19 20]\n",
            "  [21 22 23]\n",
            "  [24 25 26]]]\n"
          ]
        }
      ],
      "source": [
        "import numpy as np\n",
        "\n",
        "n = np.arange(27).reshape((3, 3, 3))\n",
        "\n",
        "print(n[:,2,2])\n",
        "print(n)"
      ]
    },
    {
      "cell_type": "markdown",
      "metadata": {
        "id": "VPcdDHlMCtXe"
      },
      "source": [
        "## Jupyter"
      ]
    },
    {
      "cell_type": "markdown",
      "metadata": {
        "id": "d6Fecw-mCtXg"
      },
      "source": [
        "Jupyter permite incluir en un único documento \"celdas\" con código interactivo, texto explicativo, resultados y gráficas. Código interactivo puesto que podemos modificar el código y ejecutarlo desde cualquier celda.\n",
        "Los notebooks de Jupyter son __colaborativos__, __fácilmente compartidos__, __pensados para ser publicados__ y, sobretodo, __reproducibles__.\n",
        "Por todo eso y más son ideales para ser usados en educación, computación científica y, en especial, en _big data_ y análisis de datos."
      ]
    },
    {
      "cell_type": "markdown",
      "metadata": {
        "id": "k6Qpr4RKCtXh"
      },
      "source": [
        "Ejecutar código es tan sencillo como incluir una celda de código y pulsar \"Run\" (o CTRL + Enter):"
      ]
    },
    {
      "cell_type": "code",
      "execution_count": 3,
      "metadata": {
        "id": "pJu5WzDnCtXj",
        "outputId": "52d9f759-8b33-41e9-97b2-8f0039b3d0b6",
        "colab": {
          "base_uri": "https://localhost:8080/"
        }
      },
      "outputs": [
        {
          "output_type": "stream",
          "name": "stdout",
          "text": [
            "1.0.0\n",
            "1.19.5\n",
            "3.2.2\n",
            "1.0.1\n"
          ]
        }
      ],
      "source": [
        "import jupyter, numpy, matplotlib, sklearn\n",
        "print(jupyter.__version__)\n",
        "print(numpy.__version__)\n",
        "print(matplotlib.__version__)\n",
        "print(sklearn.__version__)"
      ]
    },
    {
      "cell_type": "markdown",
      "metadata": {
        "id": "ni1LjBRUCtXl"
      },
      "source": [
        "Tras cada celda se muestra el resultado de su ejecución, que puede ser intercalado con celdas de texto explicativo.\n",
        "Dicho texto se formatea con [__markdown__](https://markdown.es/)."
      ]
    },
    {
      "cell_type": "code",
      "execution_count": 4,
      "metadata": {
        "id": "S5W_x7pxCtXn"
      },
      "outputs": [],
      "source": [
        "a = 1\n",
        "b = 2\n",
        "c = 4"
      ]
    },
    {
      "cell_type": "code",
      "execution_count": 7,
      "metadata": {
        "id": "U9KSO3kjCtXq",
        "outputId": "83c0eead-8532-415d-f33a-7838e596f195",
        "colab": {
          "base_uri": "https://localhost:8080/"
        }
      },
      "outputs": [
        {
          "output_type": "stream",
          "name": "stdout",
          "text": [
            "marcos\n",
            "b\n",
            "marcosb\n"
          ]
        }
      ],
      "source": [
        "print(a)\n",
        "print(b)\n",
        "print(c)"
      ]
    },
    {
      "cell_type": "code",
      "execution_count": 6,
      "metadata": {
        "id": "4XSo8tK9CtXs",
        "outputId": "59746f21-d0c1-43b4-82a5-ecfc8f7f364d",
        "colab": {
          "base_uri": "https://localhost:8080/"
        }
      },
      "outputs": [
        {
          "output_type": "stream",
          "name": "stdout",
          "text": [
            "marcosb\n"
          ]
        }
      ],
      "source": [
        "a = 'marcos'\n",
        "b = 'b'\n",
        "c = a + b\n",
        "print(c)"
      ]
    },
    {
      "cell_type": "markdown",
      "metadata": {
        "id": "7tfDnXLwCtXu"
      },
      "source": [
        "Prueba a ejecutar de nuevo el código que imprime el valor de las variables \"a\", \"b\" y \"c\". A ésto nos referimos cuando hablamos de código interactivo."
      ]
    },
    {
      "cell_type": "markdown",
      "metadata": {
        "id": "a34B8u8fCtXw"
      },
      "source": [
        "Inserta una celda tras ésta copiando el código de la última celda de código, modifica los valores de las variables \"a\" y \"b\" y ejecútala. Al ser un notebook interactivo, puedes incluir nuevas celdas para modificar la ejecución, por ejemplo para encontrar errores o comprender mejor cómo se ejecuta el código."
      ]
    },
    {
      "cell_type": "markdown",
      "metadata": {
        "id": "8tuGbLRSCtXx"
      },
      "source": [
        "## Numpy"
      ]
    },
    {
      "cell_type": "markdown",
      "metadata": {
        "id": "yCOkyA0uCtXy"
      },
      "source": [
        "Librería para cálculo numérico de referencia en Python."
      ]
    },
    {
      "cell_type": "code",
      "execution_count": 8,
      "metadata": {
        "id": "HDvTZL67CtXz",
        "outputId": "cdae6908-c36c-4829-9422-1fb681ecb3d3",
        "colab": {
          "base_uri": "https://localhost:8080/"
        }
      },
      "outputs": [
        {
          "output_type": "stream",
          "name": "stdout",
          "text": [
            "1.19.5\n"
          ]
        }
      ],
      "source": [
        "import numpy as np\n",
        "print(np.__version__)"
      ]
    },
    {
      "cell_type": "code",
      "execution_count": 9,
      "metadata": {
        "id": "SN-aLBLqCtX1",
        "outputId": "3036a3b7-1470-4725-f4e5-e34826783e7b",
        "colab": {
          "base_uri": "https://localhost:8080/"
        }
      },
      "outputs": [
        {
          "output_type": "stream",
          "name": "stdout",
          "text": [
            "[1 2 3]\n",
            "<class 'numpy.ndarray'>\n"
          ]
        }
      ],
      "source": [
        "a = np.array([1,2,3])\n",
        "print(a)\n",
        "print(type(a))"
      ]
    },
    {
      "cell_type": "code",
      "execution_count": 10,
      "metadata": {
        "id": "jNTjqiD6CtX2",
        "outputId": "3e2b7f2b-7aa1-4386-ae97-c48a6fea6a0c",
        "colab": {
          "base_uri": "https://localhost:8080/"
        }
      },
      "outputs": [
        {
          "output_type": "stream",
          "name": "stdout",
          "text": [
            "[[1 2 3]\n",
            " [3 4 5]]\n",
            "2\n",
            "(2, 3)\n"
          ]
        }
      ],
      "source": [
        "b = np.array([[1,2,3],[3,4,5]])\n",
        "print(b)\n",
        "print(b.ndim)\n",
        "print(b.shape)"
      ]
    },
    {
      "cell_type": "code",
      "execution_count": 11,
      "metadata": {
        "id": "7R0jADrACtX3",
        "outputId": "bbc48a7c-be50-4abd-9f2b-384bf98c21f2",
        "colab": {
          "base_uri": "https://localhost:8080/"
        }
      },
      "outputs": [
        {
          "output_type": "stream",
          "name": "stdout",
          "text": [
            "[[1 2]\n",
            " [3 3]\n",
            " [4 5]]\n",
            "2\n",
            "(3, 2)\n"
          ]
        }
      ],
      "source": [
        "b = b.reshape(3,2)\n",
        "print(b)\n",
        "print(b.ndim)\n",
        "print(b.shape)"
      ]
    },
    {
      "cell_type": "code",
      "execution_count": 12,
      "metadata": {
        "id": "-99GOgFOCtX4",
        "outputId": "fd416202-1e96-4fea-c324-ebd5168d2907",
        "colab": {
          "base_uri": "https://localhost:8080/"
        }
      },
      "outputs": [
        {
          "output_type": "stream",
          "name": "stdout",
          "text": [
            "[[[1.+0.j 2.+0.j 3.+0.j]]]\n",
            "3\n",
            "(1, 1, 3)\n",
            "complex128\n"
          ]
        }
      ],
      "source": [
        "c = np.array([1,2,3], ndmin = 3, dtype = complex)\n",
        "print(c)\n",
        "print(c.ndim)\n",
        "print(c.shape)\n",
        "print(c.dtype)"
      ]
    },
    {
      "cell_type": "code",
      "execution_count": 13,
      "metadata": {
        "id": "TaF_ooNYCtX5",
        "outputId": "5569d9ad-b2ab-4e24-f35e-58e4a56d34f0",
        "colab": {
          "base_uri": "https://localhost:8080/"
        }
      },
      "outputs": [
        {
          "output_type": "stream",
          "name": "stdout",
          "text": [
            "[ 0  1  2  3  4  5  6  7  8  9 10 11 12 13 14 15 16 17 18 19 20 21 22 23]\n",
            "1\n",
            "[[[ 0  1  2]\n",
            "  [ 3  4  5]\n",
            "  [ 6  7  8]\n",
            "  [ 9 10 11]]\n",
            "\n",
            " [[12 13 14]\n",
            "  [15 16 17]\n",
            "  [18 19 20]\n",
            "  [21 22 23]]]\n",
            "3\n"
          ]
        }
      ],
      "source": [
        "d = np.arange(24)\n",
        "print(d)\n",
        "print(d.ndim)\n",
        "e = d.reshape(2,4,3)\n",
        "print(e)\n",
        "print(e.ndim)"
      ]
    },
    {
      "cell_type": "code",
      "execution_count": 14,
      "metadata": {
        "id": "pyE1-FVjCtX6",
        "outputId": "447dec0b-b16a-4e0c-b538-ec613b903ca4",
        "colab": {
          "base_uri": "https://localhost:8080/"
        }
      },
      "outputs": [
        {
          "output_type": "stream",
          "name": "stdout",
          "text": [
            "[[94642079568384              0]\n",
            " [             0              0]\n",
            " [             0              0]]\n",
            "[[0. 0.]\n",
            " [0. 0.]]\n",
            "[1. 1. 1. 1. 1.]\n"
          ]
        }
      ],
      "source": [
        "f = np.empty([3,2], dtype = int)\n",
        "g = np.zeros((2,2))\n",
        "h = np.ones(5)\n",
        "print(f)\n",
        "print(g)\n",
        "print(h)"
      ]
    },
    {
      "cell_type": "code",
      "execution_count": 15,
      "metadata": {
        "id": "U7hO3hXTCtX7",
        "outputId": "b9571c95-765a-4f33-f4f4-fbfc1aa9066c",
        "colab": {
          "base_uri": "https://localhost:8080/"
        }
      },
      "outputs": [
        {
          "output_type": "stream",
          "name": "stdout",
          "text": [
            "[0 1 2 3]\n"
          ]
        }
      ],
      "source": [
        "i = np.asarray(range(4))\n",
        "print(i)"
      ]
    },
    {
      "cell_type": "code",
      "execution_count": 18,
      "metadata": {
        "id": "UqlqLUWOCtX9",
        "outputId": "75f3099f-f5ad-48f9-a497-5ee45da970f8",
        "colab": {
          "base_uri": "https://localhost:8080/"
        }
      },
      "outputs": [
        {
          "output_type": "stream",
          "name": "stdout",
          "text": [
            "[10.  12.5 15.  17.5 20. ]\n",
            "[ 10.          12.91549665  16.68100537  21.5443469   27.82559402\n",
            "  35.93813664  46.41588834  59.94842503  77.42636827 100.        ]\n"
          ]
        }
      ],
      "source": [
        "j = np.linspace(10,20,5)\n",
        "k = np.logspace(1,2,num=10)\n",
        "print(j)\n",
        "print(k)"
      ]
    },
    {
      "cell_type": "code",
      "execution_count": 19,
      "metadata": {
        "id": "-3sI8ZBYCtX9",
        "outputId": "245b1be8-bd90-4047-a184-d76d2e894f6c",
        "colab": {
          "base_uri": "https://localhost:8080/"
        }
      },
      "outputs": [
        {
          "output_type": "stream",
          "name": "stdout",
          "text": [
            "[0 1 2 3 4 5 6 7 8 9]\n",
            "3\n",
            "[2 3 4 5 6]\n",
            "[2 4 6]\n",
            "[2 4 6]\n",
            "[ 0  1  2 42  4  5  6  7  8  9]\n"
          ]
        }
      ],
      "source": [
        "l = np.arange(10)\n",
        "print(l)\n",
        "print(l[3])\n",
        "print(l[2:7])\n",
        "print(l[2:7:2])\n",
        "s = slice(2,7,2)\n",
        "print(l[s])\n",
        "l[3] = 42\n",
        "print(l)"
      ]
    },
    {
      "cell_type": "code",
      "execution_count": 20,
      "metadata": {
        "id": "cq7JhHj1CtX-",
        "outputId": "2bea36bb-3d22-4ed0-c57e-4055adf44eaa",
        "colab": {
          "base_uri": "https://localhost:8080/"
        }
      },
      "outputs": [
        {
          "output_type": "stream",
          "name": "stdout",
          "text": [
            "[[1 2 3]\n",
            " [4 5 6]\n",
            " [7 8 9]]\n",
            "Fila 1 en adelante:\n",
            " [[4 5 6]\n",
            " [7 8 9]]\n",
            "Columna 1 en adelante:\n",
            " [[2 3]\n",
            " [5 6]\n",
            " [8 9]]\n",
            "Elementos mayores de 5:\n",
            " [6 7 8 9]\n"
          ]
        }
      ],
      "source": [
        "m = np.array([[1,2,3],[4,5,6],[7,8,9]])\n",
        "print(m)\n",
        "print('Fila 1 en adelante:\\n', m[1:])\n",
        "print('Columna 1 en adelante:\\n', m[...,1:])\n",
        "print('Elementos mayores de 5:\\n', m[m > 5])"
      ]
    },
    {
      "cell_type": "markdown",
      "metadata": {
        "id": "uxdY72d7CtX_"
      },
      "source": [
        "__¡Cuidado!__ Arrays no multiplicables por sus dimensiones, producen operaciones permitidas por broadcasting:"
      ]
    },
    {
      "cell_type": "code",
      "execution_count": 21,
      "metadata": {
        "id": "zEDgNk13CtYA",
        "outputId": "8b54d0d3-7665-46f6-9c88-94662d493b9d",
        "colab": {
          "base_uri": "https://localhost:8080/"
        }
      },
      "outputs": [
        {
          "output_type": "stream",
          "name": "stdout",
          "text": [
            "[1 2 3 4]\n",
            "[10 20 30 40]\n",
            "(4,) (4,)\n",
            "[ 10  40  90 160]\n",
            "[11 22 33 44]\n"
          ]
        }
      ],
      "source": [
        "n = np.arange(1,5)\n",
        "m = np.arange(10,50,10)\n",
        "print(n)\n",
        "print(m)\n",
        "print(n.shape, m.shape)\n",
        "print(n * m)\n",
        "print(n + m)"
      ]
    },
    {
      "cell_type": "code",
      "execution_count": 22,
      "metadata": {
        "id": "K1ffYiVFCtYB",
        "outputId": "2a8949d9-2caf-452f-daf1-e998f403d4e1",
        "colab": {
          "base_uri": "https://localhost:8080/"
        }
      },
      "outputs": [
        {
          "output_type": "stream",
          "name": "stdout",
          "text": [
            "[[0.3661347  0.53206107 0.13109586 0.63908972]\n",
            " [0.4845614  0.90456297 0.28881199 0.0223751 ]\n",
            " [0.69771134 0.69657288 0.92107551 0.28229151]\n",
            " [0.46989795 0.90050646 0.69231849 0.67210632]]\n",
            "(4, 4)\n",
            "[[0.3661347  1.06412214 0.39328759 2.55635886]\n",
            " [0.4845614  1.80912594 0.86643597 0.08950041]\n",
            " [0.69771134 1.39314577 2.76322652 1.12916604]\n",
            " [0.46989795 1.80101291 2.07695546 2.68842528]]\n",
            "(4, 4)\n"
          ]
        }
      ],
      "source": [
        "o = np.random.rand(4,4)\n",
        "print(o)\n",
        "print(o.shape)\n",
        "p = n * o\n",
        "print(p)\n",
        "print(p.shape)"
      ]
    },
    {
      "cell_type": "code",
      "execution_count": 23,
      "metadata": {
        "id": "SLFT0XWlCtYC",
        "outputId": "e348c717-fe69-4bc6-bb95-cb5dbcd987ba",
        "colab": {
          "base_uri": "https://localhost:8080/"
        }
      },
      "outputs": [
        {
          "output_type": "stream",
          "name": "stdout",
          "text": [
            "[1 2 3 4]\n",
            "[[0.3661347  0.53206107 0.13109586 0.63908972]\n",
            " [0.4845614  0.90456297 0.28881199 0.0223751 ]\n",
            " [0.69771134 0.69657288 0.92107551 0.28229151]\n",
            " [0.46989795 0.90050646 0.69231849 0.67210632]]\n",
            "[[1.3661347  2.53206107 3.13109586 4.63908972]\n",
            " [1.4845614  2.90456297 3.28881199 4.0223751 ]\n",
            " [1.69771134 2.69657288 3.92107551 4.28229151]\n",
            " [1.46989795 2.90050646 3.69231849 4.67210632]]\n"
          ]
        }
      ],
      "source": [
        "print(n)\n",
        "print(o)\n",
        "print(n + o)"
      ]
    },
    {
      "cell_type": "code",
      "execution_count": 24,
      "metadata": {
        "id": "DDyEY-oNCtYD",
        "outputId": "d0534d62-78da-4fd5-cfd5-b8b60929c603",
        "colab": {
          "base_uri": "https://localhost:8080/"
        }
      },
      "outputs": [
        {
          "output_type": "stream",
          "name": "stdout",
          "text": [
            "[[ 0  5 10 15]\n",
            " [20 25 30 35]\n",
            " [40 45 50 55]]\n",
            "0\n",
            "5\n",
            "10\n",
            "15\n",
            "20\n",
            "25\n",
            "30\n",
            "35\n",
            "40\n",
            "45\n",
            "50\n",
            "55\n"
          ]
        }
      ],
      "source": [
        "q = np.arange(0,60,5).reshape(3,4)\n",
        "print(q)\n",
        "for x in np.nditer(q):\n",
        "    print(x)"
      ]
    },
    {
      "cell_type": "code",
      "execution_count": 25,
      "metadata": {
        "id": "JNSsUKxACtYD",
        "outputId": "368c1ec1-dbb1-4d3f-8f85-f2249a821270",
        "colab": {
          "base_uri": "https://localhost:8080/"
        }
      },
      "outputs": [
        {
          "output_type": "stream",
          "name": "stdout",
          "text": [
            "[[ 0  5 10 15]\n",
            " [20 25 30 35]\n",
            " [40 45 50 55]]\n",
            "[ 0  5 10 15 20 25 30 35 40 45 50 55]\n",
            "[[ 0 20 40]\n",
            " [ 5 25 45]\n",
            " [10 30 50]\n",
            " [15 35 55]]\n",
            "[[ 0 20 40]\n",
            " [ 5 25 45]\n",
            " [10 30 50]\n",
            " [15 35 55]]\n"
          ]
        }
      ],
      "source": [
        "print(q)\n",
        "print(q.flatten())\n",
        "print(q.transpose())\n",
        "print(q.T)"
      ]
    },
    {
      "cell_type": "code",
      "execution_count": 29,
      "metadata": {
        "id": "q63LA6JWCtYE",
        "outputId": "e20ba2f7-95ee-492a-9925-880a985f0f5f",
        "colab": {
          "base_uri": "https://localhost:8080/"
        }
      },
      "outputs": [
        {
          "output_type": "stream",
          "name": "stdout",
          "text": [
            "[[1 2]\n",
            " [3 4]]\n",
            "[[5 6]\n",
            " [7 8]]\n",
            "Concatenar:\n",
            "[[1 2]\n",
            " [3 4]\n",
            " [5 6]\n",
            " [7 8]]\n",
            "[[1 2 5 6]\n",
            " [3 4 7 8]]\n",
            "Stacking:\n",
            "[[[1 2]\n",
            "  [3 4]]\n",
            "\n",
            " [[5 6]\n",
            "  [7 8]]]\n",
            "(2, 2, 2)\n",
            "[[[1 2]\n",
            "  [3 4]]\n",
            "\n",
            " [[5 6]\n",
            "  [7 8]]]\n",
            "[[[1 2]\n",
            "  [5 6]]\n",
            "\n",
            " [[3 4]\n",
            "  [7 8]]]\n",
            "[[[1 5]\n",
            "  [2 6]]\n",
            "\n",
            " [[3 7]\n",
            "  [4 8]]]\n"
          ]
        }
      ],
      "source": [
        "r = np.array([[1,2],[3,4]])\n",
        "s = np.array([[5,6],[7,8]])\n",
        "print(r)\n",
        "print(s)\n",
        "print('Concatenar:')\n",
        "print(np.concatenate((r,s)))\n",
        "print(np.concatenate((r,s),axis = 1))\n",
        "print('Stacking:')\n",
        "print(np.stack((r,s)))\n",
        "print(np.stack((r,s)).shape)\n",
        "print(np.stack((r,s),0))\n",
        "print(np.stack((r,s),1))\n",
        "print(np.stack((r,s),2))"
      ]
    },
    {
      "cell_type": "code",
      "execution_count": 36,
      "metadata": {
        "id": "M0y98vqZCtYF",
        "outputId": "6db98891-00ba-4952-e583-42f0a3b2dd06",
        "colab": {
          "base_uri": "https://localhost:8080/"
        }
      },
      "outputs": [
        {
          "output_type": "stream",
          "name": "stdout",
          "text": [
            "[0 1 2 3 4 5 6 7 8]\n",
            "[array([0, 1, 2]), array([3, 4, 5]), array([6, 7, 8])]\n",
            "[array([0, 1, 2, 3]), array([4, 5, 6]), array([7, 8])]\n",
            "[[0 1 2]\n",
            " [3 4 5]\n",
            " [6 7 8]]\n",
            "[ 0  1 11 12  2  3  4  5  6  7  8]\n",
            "[[ 0  1  2]\n",
            " [ 3  4  5]\n",
            " [11 12 13]\n",
            " [ 6  7  8]]\n",
            "[[ 0  1 11  2]\n",
            " [ 3  4 12  5]\n",
            " [ 6  7 13  8]]\n",
            "[0 1 3 4 5 6 7 8]\n",
            "[[0 1 2]\n",
            " [3 4 5]]\n",
            "[1 3 5 7]\n"
          ]
        }
      ],
      "source": [
        "t = np.arange(9)\n",
        "print(t)\n",
        "print(np.split(t,3))\n",
        "print(np.split(t,[4,7]))\n",
        "t = t.reshape(3,3)\n",
        "print(t)\n",
        "print(np.insert(t,2,[11,12]))\n",
        "print(np.insert(t,2,[11,12,13],axis = 0))\n",
        "print(np.insert(t,2,[11,12,13],axis = 1))\n",
        "print(np.delete(t,2))\n",
        "print(np.delete(t,2,axis = 0))\n",
        "print(np.delete(t,np.s_[::2]))"
      ]
    },
    {
      "cell_type": "markdown",
      "metadata": {
        "id": "Yet62or7CtYF"
      },
      "source": [
        "Funciones estadísticas:"
      ]
    },
    {
      "cell_type": "code",
      "execution_count": 37,
      "metadata": {
        "id": "LbyMu2VLCtYG",
        "outputId": "79c57002-ac18-495d-8605-5eaa4d06fdb7",
        "colab": {
          "base_uri": "https://localhost:8080/"
        }
      },
      "outputs": [
        {
          "output_type": "stream",
          "name": "stdout",
          "text": [
            "[[5 6]\n",
            " [7 8]]\n",
            "8\n",
            "5\n",
            "3\n",
            "6.5\n",
            "6.5\n",
            "6.5\n",
            "1.118033988749895\n",
            "1.25\n"
          ]
        }
      ],
      "source": [
        "print(s)\n",
        "print(s.max())\n",
        "print(s.min())\n",
        "print(s.ptp())    # Rango: max - min\n",
        "print(s.mean())\n",
        "print(np.mean(s))\n",
        "print(np.median(s))\n",
        "print(s.std())\n",
        "print(s.var())"
      ]
    },
    {
      "cell_type": "markdown",
      "metadata": {
        "id": "UDlaxVP4CtYH"
      },
      "source": [
        "Álgebra lineal, operaciones matriciales:"
      ]
    },
    {
      "cell_type": "code",
      "execution_count": null,
      "metadata": {
        "id": "rBqDnJ_JCtYI"
      },
      "outputs": [],
      "source": [
        "import numpy.matlib\n",
        "\n",
        "print(np.matlib.empty((2,2)))\n",
        "print(type(np.matlib.empty((2,2))))\n",
        "print(np.matlib.zeros((2,2)))\n",
        "print(np.matlib.ones((2,2)))\n",
        "print(np.matlib.eye(4,4,-1))\n",
        "print(np.matlib.identity(3))\n",
        "print(np.matlib.rand(3,3))"
      ]
    },
    {
      "cell_type": "code",
      "execution_count": null,
      "metadata": {
        "id": "9pbbhpBcCtYJ"
      },
      "outputs": [],
      "source": [
        "u = np.matrix([[1,0],[0,1]])\n",
        "v = np.matrix([[4,1],[2,2]])\n",
        "w = np.matrix([1,2])\n",
        "print(u.shape)\n",
        "print(v.shape)\n",
        "print(w.shape)\n",
        "print(np.matmul(u,v))\n",
        "print(np.matmul(w,u))\n",
        "try:\n",
        "    print(np.matmul(u,w))\n",
        "except ValueError as e:\n",
        "    print(e)"
      ]
    },
    {
      "cell_type": "code",
      "execution_count": null,
      "metadata": {
        "id": "2MQE7DcVCtYJ"
      },
      "outputs": [],
      "source": [
        "print(v)\n",
        "print(np.linalg.inv(v))\n",
        "print(np.matmul(v, np.linalg.inv(v)))"
      ]
    },
    {
      "cell_type": "markdown",
      "metadata": {
        "id": "YFDIRQeFCtYK"
      },
      "source": [
        "## Matplotlib"
      ]
    },
    {
      "cell_type": "markdown",
      "metadata": {
        "id": "eYFzj5tPCtYK"
      },
      "source": [
        "Tenemos disponibles los modos interactivo en el notebook y en línea."
      ]
    },
    {
      "cell_type": "code",
      "execution_count": null,
      "metadata": {
        "id": "nSAYGD-7CtYL"
      },
      "outputs": [],
      "source": [
        "from matplotlib import pyplot as plt\n",
        "%matplotlib notebook\n",
        "#%matplotlib inline\n",
        "\n",
        "x = np.arange(1,11)\n",
        "y = 2 * x + 5\n",
        "plt.title('Matplotlib')\n",
        "plt.xlabel('x')\n",
        "plt.ylabel('y')\n",
        "plt.plot(x,y)\n",
        "plt.show()"
      ]
    },
    {
      "cell_type": "code",
      "execution_count": null,
      "metadata": {
        "id": "kDQtXfSSCtYM"
      },
      "outputs": [],
      "source": [
        "plt.figure()    # Inicializa una nueva gráfica, necesario para \"\"%matplotlib notebook\"\n",
        "\n",
        "plt.title('Matplotlib')\n",
        "plt.xlabel('x')\n",
        "plt.ylabel('y')\n",
        "plt.plot(x,y)\n",
        "plt.show()"
      ]
    },
    {
      "cell_type": "code",
      "execution_count": null,
      "metadata": {
        "id": "Wwg5-Te7CtYN"
      },
      "outputs": [],
      "source": [
        "plt.figure()\n",
        "\n",
        "plt.title('Matplotlib')\n",
        "plt.xlabel('y')\n",
        "plt.ylabel('x')\n",
        "plt.plot(y,x, '--y')\n",
        "plt.show()"
      ]
    },
    {
      "cell_type": "code",
      "execution_count": null,
      "metadata": {
        "id": "6dy0nCd7CtYO"
      },
      "outputs": [],
      "source": [
        "x = [5,8,10]\n",
        "y = [12,16,6]\n",
        "x2 = [6,9,11]\n",
        "y2 = [6,15,7]\n",
        "\n",
        "plt.figure()\n",
        "\n",
        "plt.bar(x,y,align='center')\n",
        "plt.bar(x2,y2,color='g',align='center')\n",
        "plt.title('Gráfica barras')\n",
        "plt.ylabel('Y axis')\n",
        "plt.xlabel('X axis')\n",
        "plt.show()"
      ]
    },
    {
      "cell_type": "code",
      "execution_count": null,
      "metadata": {
        "id": "GlDQwVBLCtYP"
      },
      "outputs": [],
      "source": [
        "t = np.array([22,87,5,43,56,73,55,54,11,20,51,5,79,31,27])\n",
        "\n",
        "hist,bins = np.histogram(t,bins=[0,20,40,60,80,100])\n",
        "print(hist, bins)\n",
        "\n",
        "plt.figure()\n",
        "\n",
        "plt.hist(t, bins)\n",
        "plt.title('Histograma')\n",
        "plt.show()"
      ]
    },
    {
      "cell_type": "code",
      "execution_count": null,
      "metadata": {
        "id": "WtG7ktx5CtYP"
      },
      "outputs": [],
      "source": [
        "p = np.arange(0.,5.,0.2)\n",
        "\n",
        "plt.figure()\n",
        "\n",
        "plt.plot(p,p,'r--',p,p**2,'bs',p,p**3,'g^',linewidth=2.0)\n",
        "plt.show()"
      ]
    },
    {
      "cell_type": "code",
      "execution_count": null,
      "metadata": {
        "id": "Kz7M3WJcCtYQ"
      },
      "outputs": [],
      "source": [
        "def f(t):\n",
        "    return np.exp(-t)*np.cos(2*np.pi*t)\n",
        "\n",
        "t1 = np.arange(0.,5.,0.1)\n",
        "t2 = np.arange(0.,5.,0.02)\n",
        "\n",
        "plt.figure(7)\n",
        "plt.subplot(211)\n",
        "plt.plot(t1,f(t1),'bo',t2,f(t2),'k')\n",
        "\n",
        "plt.subplot(212)\n",
        "plt.plot(t2,np.cos(2*np.pi*t2),'r--')\n",
        "plt.show()"
      ]
    },
    {
      "cell_type": "code",
      "execution_count": null,
      "metadata": {
        "id": "GUj8cZlSCtYR"
      },
      "outputs": [],
      "source": [
        "plt.figure(8)\n",
        "plt.subplot(211)\n",
        "plt.plot([1,2,3])\n",
        "\n",
        "plt.figure(9)\n",
        "plt.plot([4,5,6])\n",
        "\n",
        "plt.figure(8)\n",
        "plt.subplot(212)\n",
        "plt.plot([4,5,6])"
      ]
    },
    {
      "cell_type": "code",
      "execution_count": null,
      "metadata": {
        "id": "aGbqgodFCtYS"
      },
      "outputs": [],
      "source": [
        "from mpl_toolkits.mplot3d import Axes3D\n",
        "from matplotlib import cm\n",
        "from matplotlib.ticker import LinearLocator, FormatStrFormatter\n",
        "\n",
        "fig = plt.figure()\n",
        "ax = fig.gca(projection='3d')\n",
        "\n",
        "x = np.arange(-5,5,0.25)\n",
        "y = np.arange(-5,5,0.25)\n",
        "x, y = np.meshgrid(x,y)\n",
        "z = np.sin(np.sqrt(x**2+y**2))\n",
        "\n",
        "surf = ax.plot_surface(x,y,z,cmap=cm.coolwarm,linewidth=0,\n",
        "                       antialiased=False)\n",
        "\n",
        "ax.set_zlim(-1.01,1.01)\n",
        "ax.zaxis.set_major_locator(LinearLocator(10))\n",
        "ax.zaxis.set_major_formatter(FormatStrFormatter('%.02f'))\n",
        "\n",
        "fig.colorbar(surf,shrink=0.5,aspect=5)\n",
        "\n",
        "plt.show()"
      ]
    },
    {
      "cell_type": "markdown",
      "metadata": {
        "id": "wVo0s-92CtYT"
      },
      "source": [
        "## Scikit-learn"
      ]
    },
    {
      "cell_type": "code",
      "execution_count": null,
      "metadata": {
        "id": "AluhVZXBCtYT"
      },
      "outputs": [],
      "source": [
        "from sklearn import datasets\n",
        "\n",
        "iris = datasets.load_iris()\n",
        "digits = datasets.load_digits()\n",
        "\n",
        "print(digits.data)\n",
        "print(digits.target)\n",
        "print(digits.images[0])"
      ]
    },
    {
      "cell_type": "code",
      "execution_count": null,
      "metadata": {
        "id": "CwD-2ZJPCtYU"
      },
      "outputs": [],
      "source": [
        "from sklearn import svm\n",
        "\n",
        "clf = svm.SVC(gamma=0.001,C=100.)\n",
        "\n",
        "clf.fit(digits.data[:-1],digits.target[:-1])\n",
        "\n",
        "plt.figure(figsize=(3,3))\n",
        "plt.imshow(digits.images[-1],cmap=plt.cm.gray_r,interpolation='nearest')\n",
        "plt.show()\n",
        "\n",
        "print(clf.predict(digits.data[-1:]))"
      ]
    },
    {
      "cell_type": "code",
      "execution_count": null,
      "metadata": {
        "id": "GiGSwSxUCtYV"
      },
      "outputs": [],
      "source": [
        "import pickle\n",
        "\n",
        "s = pickle.dumps(clf)\n",
        "\n",
        "clf2 = pickle.loads(s)\n",
        "\n",
        "print(clf2.predict(digits.data[-1:]))"
      ]
    },
    {
      "cell_type": "markdown",
      "metadata": {
        "id": "0dbaJ0hfCtYV"
      },
      "source": [
        "## Ejercicios"
      ]
    },
    {
      "cell_type": "markdown",
      "metadata": {
        "id": "UOtMsBWWCtYW"
      },
      "source": [
        "### Crea un array de 3 dimensiones y tamaño 2x3x4 con elementos aleatorios e imprímelo en pantalla"
      ]
    },
    {
      "cell_type": "code",
      "execution_count": null,
      "metadata": {
        "id": "rmddAti7CtYX"
      },
      "outputs": [],
      "source": [
        ""
      ]
    },
    {
      "cell_type": "markdown",
      "metadata": {
        "id": "pzmcyxnVCtYX"
      },
      "source": [
        "### Crea un nuevo array de 2 dimensiones, de elementos aleatorios y tamaño 100x14, e insértale una columna de 1s a la izquierda"
      ]
    },
    {
      "cell_type": "code",
      "execution_count": null,
      "metadata": {
        "id": "rEfJSfCqCtYY"
      },
      "outputs": [],
      "source": [
        ""
      ]
    },
    {
      "cell_type": "markdown",
      "metadata": {
        "id": "Sl7LVdCkCtYY"
      },
      "source": [
        "### Crea un nuevo array de 2 dimensiones, de elementos aleatorios y tamaño 1x15 y multiplica su transpuesta por el resultado del ejercicio anterior"
      ]
    },
    {
      "cell_type": "code",
      "execution_count": null,
      "metadata": {
        "id": "DGG7vLNiCtYY"
      },
      "outputs": [],
      "source": [
        ""
      ]
    },
    {
      "cell_type": "markdown",
      "metadata": {
        "id": "-BdevwE6CtYZ"
      },
      "source": [
        "### Representa en una gráfica el resultado del ejercicio anterior"
      ]
    },
    {
      "cell_type": "code",
      "execution_count": null,
      "metadata": {
        "id": "-gZvG66vCtYZ"
      },
      "outputs": [],
      "source": [
        ""
      ]
    }
  ],
  "metadata": {
    "environment": {
      "name": "common-cpu.m54",
      "type": "gcloud",
      "uri": "gcr.io/deeplearning-platform-release/base-cpu:m54"
    },
    "kernelspec": {
      "display_name": "Python 3",
      "language": "python",
      "name": "python3"
    },
    "language_info": {
      "codemirror_mode": {
        "name": "ipython",
        "version": 3
      },
      "file_extension": ".py",
      "mimetype": "text/x-python",
      "name": "python",
      "nbconvert_exporter": "python",
      "pygments_lexer": "ipython3",
      "version": "3.7.8"
    },
    "colab": {
      "name": "modulo1-unidad2-ejercicio3.ipynb",
      "provenance": [],
      "include_colab_link": true
    }
  },
  "nbformat": 4,
  "nbformat_minor": 0
}